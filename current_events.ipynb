{
 "cells": [
  {
   "cell_type": "code",
   "execution_count": 1,
   "metadata": {},
   "outputs": [],
   "source": [
    "import pandas as pd\n",
    "import numpy as np\n",
    "import os\n",
    "import requests\n",
    "\n",
    "from utils.simple_utils import *\n",
    "from utils.google_utils import *\n",
    "from utils.langchain_utils import *\n",
    "from utils.best_hashtags import *\n",
    "\n",
    "from mongo.interface import *\n",
    "\n",
    "from chroma_interface import *\n",
    "from chroma_interface.reader import *\n",
    "from chroma_interface.writer import *\n",
    "\n",
    "from script import *\n",
    "\n",
    "keys = list(open(\".env\", \"r\"))\n",
    "\n",
    "for item in keys:\n",
    "    variable, value = item.split(\"=\")[0], \"=\".join(item.split(\"=\")[1:])\n",
    "    os.environ[variable] = value.replace(\"\\n\", \"\")\n",
    "\n",
    "country_code = 'AE' # Canada.\n",
    "country = COUNTRY_CODES_TO_NAMES[country_code]\n",
    "company_description = \"\"\"For over 45 years, AGMC has delivered automotive and services to its customers as the exclusive importer for BMW Group and Motorrad with 6 locations spread across Dubai, Sharjah and the Northern Emirates. Established in 1976, AGMC serves as one of the largest for the BMW Group in the Middle East. AGMC is passionately committed to the communities it serves and demonstrates the BMW Group’s belief in the region’s potential by supporting local activities and events including an exclusive partnership with Dubai Autodrome to bring unparalleled on-track BMW driving experiences to the UAE and partnering with grassroots organisations as part of its commitment to the growth of the nation.In addition to its commitment to the local community, AGMC has implemented a series of corporate social responsibility initiatives through partnerships with youth road safety programmes, and its long-standing relationship with Dubai Police, through which the innovative BMW ConnectedDrive features are used, aimed to improve road safety for future generations and the advancement of mobility solutions across the Emirates\"\"\"\n",
    "collection_name = \"current_events\"\n",
    "query = f\"\"\"List 10 important and interesting events related to any of these topics: {','.join(QUERY_TOPICS)}. {company_description}\"\"\"\n",
    "\n",
    "chroma_reader, chroma_writer = get_reader_writer(\n",
    "        host=os.environ[\"CHROMA_IP\"],\n",
    "        port=int(os.environ[\"CHROMA_PORT\"]),\n",
    "        openai_api_key=os.environ[\"OPENAI_API_KEY\"],\n",
    "        reader_collection_name=\"current_events\"\n",
    "    )"
   ]
  },
  {
   "cell_type": "code",
   "execution_count": 2,
   "metadata": {},
   "outputs": [
    {
     "name": "stdout",
     "output_type": "stream",
     "text": [
      "getting holiday list\n",
      "Calling https://api.api-ninjas.com/v1/holidays?country=AE&year=2023&type=\n",
      "Calling https://api.api-ninjas.com/v1/holidays?country=AE&year=2024&type=\n",
      "['National Day']\n",
      "Search relevant documents\n"
     ]
    },
    {
     "name": "stderr",
     "output_type": "stream",
     "text": [
      "100%|██████████| 13/13 [00:06<00:00,  2.01it/s]\n",
      "Retrying langchain.chat_models.openai.ChatOpenAI.completion_with_retry.<locals>._completion_with_retry in 4.0 seconds as it raised Timeout: Request timed out: HTTPSConnectionPool(host='api.openai.com', port=443): Read timed out. (read timeout=600).\n"
     ]
    },
    {
     "name": "stdout",
     "output_type": "stream",
     "text": [
      "United Arab Emirates National Day||National Day||It is a significant patriotic event celebrated by the people of the UAE, with various cultural and traditional activities.\n",
      "Dubai International Film Festival||Film Festival||One of the most prestigious film festivals in the Middle East, showcasing a wide range of international and regional films, attracting global attention.\n",
      "Abu Dhabi Grand Prix||Formula 1 Race||One of the most popular and thrilling Formula 1 races held in the UAE, drawing in motorsport fans from around the world.\n",
      "Dubai Shopping Festival||Shopping Festival||An internationally renowned shopping extravaganza offering amazing discounts, entertainment, and events, attracting visitors from various countries.\n",
      "Dubai World Cup||Horse Racing||One of the richest horse races in the world, featuring top-class horses, jockeys, and entertainment, with a global audience.\n"
     ]
    },
    {
     "data": {
      "text/plain": [
       "[{'event_name': 'United Arab Emirates National Day',\n",
       "  'validation': {'google_trends': ['United Arab Emirates National Day']},\n",
       "  'topic': 'National Day'},\n",
       " {'event_name': 'Dubai International Film Festival',\n",
       "  'validation': {'google_trends': ['Dubai International Film Festival']},\n",
       "  'topic': 'Film Festival'},\n",
       " {'event_name': 'Abu Dhabi Grand Prix',\n",
       "  'validation': {'google_trends': ['Abu Dhabi Grand Prix']},\n",
       "  'topic': 'Formula 1 Race'},\n",
       " {'event_name': 'Dubai Shopping Festival',\n",
       "  'validation': {'google_trends': ['Dubai Shopping Festival']},\n",
       "  'topic': 'Shopping Festival'},\n",
       " {'event_name': 'Dubai World Cup',\n",
       "  'validation': {'google_trends': ['Dubai World Cup']},\n",
       "  'topic': 'Horse Racing'}]"
      ]
     },
     "execution_count": 2,
     "metadata": {},
     "output_type": "execute_result"
    }
   ],
   "source": [
    "generate_current_events(\n",
    "    company_description=company_description, \n",
    "    chroma_reader=chroma_reader, \n",
    "    topic_list=QUERY_TOPICS, \n",
    "    keywords_dict=QUERY_KEYWORDS_DICT, \n",
    "    country_code=country_code,\n",
    "    country=country,\n",
    "    temperature=0.5\n",
    ")"
   ]
  },
  {
   "cell_type": "code",
   "execution_count": null,
   "metadata": {},
   "outputs": [],
   "source": [
    "docs = []\n",
    "for topic in tqdm(QUERY_TOPICS):\n",
    "\n",
    "    keywords = QUERY_KEYWORDS_DICT[topic]\n",
    "    query = f\"{topic} important events in  country: {COUNTRY_CODES_TO_NAMES[country_code]}\"\n",
    "\n",
    "    docs.extend(chroma_reader.search(\n",
    "        query=query,\n",
    "        n=5,\n",
    "        filter={\"country_code\":country_code},\n",
    "        keywords=keywords\n",
    "    ))"
   ]
  },
  {
   "cell_type": "code",
   "execution_count": null,
   "metadata": {},
   "outputs": [],
   "source": [
    "docs"
   ]
  },
  {
   "cell_type": "code",
   "execution_count": null,
   "metadata": {},
   "outputs": [],
   "source": [
    "query = f\"{','.join(QUERY_TOPICS)} important events\"\n",
    "keywords = QUERY_KEYWORDS\n",
    "\n",
    "docs = chroma_reader.search(\n",
    "        query=query,\n",
    "        n=30,\n",
    "        filter={\"country_code\":country_code},\n",
    "        keywords=keywords\n",
    "    )\n"
   ]
  },
  {
   "cell_type": "code",
   "execution_count": null,
   "metadata": {},
   "outputs": [],
   "source": [
    "output = generate_current_events(\n",
    "    company_description=company_description,\n",
    "    chroma_reader=chroma_reader,\n",
    "    topic_list=QUERY_TOPICS,\n",
    "    keywords=QUERY_KEYWORDS,\n",
    "    country_code=country_code\n",
    ")"
   ]
  },
  {
   "cell_type": "code",
   "execution_count": null,
   "metadata": {},
   "outputs": [],
   "source": [
    "output1 = output"
   ]
  },
  {
   "cell_type": "code",
   "execution_count": null,
   "metadata": {},
   "outputs": [],
   "source": [
    "output"
   ]
  },
  {
   "cell_type": "code",
   "execution_count": null,
   "metadata": {},
   "outputs": [],
   "source": [
    "def generate_current_events(company_description:str, chroma_reader:Reader, topic_list:list[str], keywords:dict, country_code:str, llm_name:str=\"gpt-3\") -> list[dict]:\n",
    "    print(\"getting holiday list\")\n",
    "    holidays = str(get_holidays(country_code=country_code)[\"name\"].to_list())\n",
    "    print(holidays)\n",
    "\n",
    "    print(\"Search relevant documents\")\n",
    "\n",
    "    relevant_docs = []\n",
    "    for topic in tqdm(topic_list):\n",
    "\n",
    "        keywords = keywords[topic]\n",
    "        query = f\"{topic} important events\" + company_description\n",
    "\n",
    "        relevant_docs.extend(chroma_reader.search(\n",
    "            query=query,\n",
    "            n=5,\n",
    "            filter={\"country_code\":country_code},\n",
    "            keywords=keywords\n",
    "        ))\n",
    "\n",
    "    relevant_docs_text = \"\\n\".join([item.page_content.replace(\"\\n\", \" \") for item in relevant_docs])\n",
    "\n",
    "    template = \"\"\"\n",
    "I am a marketing head and I am tasked to write social media content about big events around this date: {date}\n",
    "I am looking for important events to write some content (like Instagram post/reel, or Tiktok video, or Facebook post, or linkedin post, etc.).\n",
    "There is no specific topic that I am interested in, I write about general events/ideas.\n",
    "But I only write about events that have a massive reach within a country or worldwide (massive events in the specified is preferred).\n",
    "For example christmas which is celebrated all around the world, or diwali which is one of the biggest festivals in India, or grammy awards is the biggest music award show in the US, or FIFA world cup which is watched all over the world, etc.\n",
    "The above mentioned events are just examples that I would write content about.\n",
    "\n",
    "Important details:\n",
    "Country that I am writing about: {country_code} (This is in the ISO 3166 alpha 2 format)\n",
    "Date: {date}, This is the date around which I want to write content.\n",
    "\n",
    "List at least 5 events.\n",
    "\n",
    "Important calendar events for country={country_code}: {holidays}\n",
    "\n",
    "I searched the internet about upcoming events, here is some data that you can use to suggest me what events I should write about:\n",
    "{context}\n",
    "\n",
    "Give me output in the following format only: \n",
    "<event name>||<topic>||<short reason>\n",
    "<event name>||<topic>||<short reason>\n",
    "and so on\n",
    "\n",
    "Instructions:\n",
    "1. The order of events should represent how engaging the event might be.\n",
    "2. Do not restrict the events to only one or two categories like sports or film, there should be multiple categories if possible.\n",
    "3. List only those events that are currently going on, going to happen in 1 month, or have happened within 1 month of today's date.\n",
    "4. Only give me events that having a positive sentiment.\n",
    "5. Events should be important on a global or a national scale, example: sporting events like cricket tournament, international conferences like G20 or BRICS, religious festival like christmas or eid, etc.\n",
    "6. Dont write numbering in the front\n",
    "7. Keep the items diverse, and prioritise events that have a larger reach.\n",
    "8. Do not repeat ideas.\n",
    "\"\"\"\n",
    "\n",
    "    prompt = PromptTemplate(template=template, input_variables=[\"context\", \"date\", \"country_code\", \"holidays\"])\n",
    "    chain = LLMChain(prompt=prompt, llm=get_model(llm_name, temperature=0.2), output_key=\"events\")\n",
    "\n",
    "    output = chain({\n",
    "        \"date\": current_date(),\n",
    "        \"context\": relevant_docs_text,\n",
    "        \"holidays\": holidays,\n",
    "        \"country_code\": country_code\n",
    "    })[\"events\"]\n",
    "\n",
    "    output = re.sub(\"(\\n)+\", \"\\n\", output)\n",
    "\n",
    "    outputs = output.split(\"\\n\")\n",
    "    outputs = [re.sub(\"^(\\d+)\\.?\", \"\", k) for k in outputs]\n",
    "    outputs = [re.sub(\"\\s+\\|\\|\\s+\", \"||\", k) for k in outputs]\n",
    "\n",
    "    sorted_headlines = [item for item in outputs if (len(item.split(\"||\")) == 4) or (len(item.split(\"||\")) == 3)]\n",
    "    \n",
    "    data = []\n",
    "\n",
    "    for item in sorted_headlines:\n",
    "        try:\n",
    "            title, topic, reason = item.split(\"||\")\n",
    "        except:\n",
    "            title, topic, sentiment = item.split(\"||\")\n",
    "            reason = \"\"\n",
    "\n",
    "        data.append({\n",
    "            \"event_name\": title,\n",
    "            \"validation\": {\n",
    "                \"google_trends\": [title]\n",
    "            },\n",
    "            \"topic\": topic\n",
    "        })\n",
    "\n",
    "    return data"
   ]
  }
 ],
 "metadata": {
  "kernelspec": {
   "display_name": "Python 3",
   "language": "python",
   "name": "python3"
  },
  "language_info": {
   "codemirror_mode": {
    "name": "ipython",
    "version": 3
   },
   "file_extension": ".py",
   "mimetype": "text/x-python",
   "name": "python",
   "nbconvert_exporter": "python",
   "pygments_lexer": "ipython3",
   "version": "3.10.0"
  }
 },
 "nbformat": 4,
 "nbformat_minor": 2
}
