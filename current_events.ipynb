{
 "cells": [
  {
   "cell_type": "code",
   "execution_count": 1,
   "metadata": {},
   "outputs": [],
   "source": [
    "import pandas as pd\n",
    "import numpy as np\n",
    "import os\n",
    "import requests\n",
    "\n",
    "from utils.simple_utils import *\n",
    "from utils.google_utils import *\n",
    "from utils.langchain_utils import *\n",
    "from utils.best_hashtags import *\n",
    "\n",
    "from mongo.interface import *\n",
    "\n",
    "from chroma_interface import *\n",
    "from chroma_interface.reader import *\n",
    "from chroma_interface.writer import *\n",
    "\n",
    "from script import *\n",
    "\n",
    "keys = list(open(\".env\", \"r\"))\n",
    "\n",
    "for item in keys:\n",
    "    variable, value = item.split(\"=\")[0], \"=\".join(item.split(\"=\")[1:])\n",
    "    os.environ[variable] = value.replace(\"\\n\", \"\")"
   ]
  },
  {
   "cell_type": "code",
   "execution_count": 10,
   "metadata": {},
   "outputs": [],
   "source": [
    "country_code = 'IN' # Canada.\n",
    "chroma_reader, chroma_writer = get_reader_writer(\n",
    "        host=os.environ[\"CHROMA_IP\"],\n",
    "        port=int(os.environ[\"CHROMA_PORT\"]),\n",
    "        openai_api_key=os.environ[\"OPENAI_API_KEY\"],\n",
    "        reader_collection_name=\"current_events\"\n",
    "    )"
   ]
  },
  {
   "cell_type": "code",
   "execution_count": 3,
   "metadata": {},
   "outputs": [],
   "source": [
    "company_description = \"\"\"Zomato is a popular online platform that provides a comprehensive range of services related to dining and food. Originally founded in India, Zomato has expanded globally and is now a prominent player in the food technology industry. The platform allows users to explore and discover restaurants, cafes, and eateries in their vicinity, offering detailed information such as menus, reviews, ratings, and photos.\n",
    "\n",
    "Zomato's user-friendly interface enables individuals to browse through a diverse range of cuisines, make reservations, and order food for delivery or takeaway. The platform has become a go-to resource for food enthusiasts seeking recommendations, as it aggregates user-generated reviews to help people make informed decisions about where to dine.\n",
    "\n",
    "In addition to its consumer-facing services, Zomato has also ventured into food delivery, connecting users with a wide network of restaurants and delivery partners. The platform's commitment to enhancing the overall dining experience has made it a popular choice for both food lovers and businesses in the food industry.\"\"\""
   ]
  },
  {
   "cell_type": "code",
   "execution_count": 4,
   "metadata": {},
   "outputs": [
    {
     "name": "stdout",
     "output_type": "stream",
     "text": [
      "getting holiday list\n",
      "Calling https://api.api-ninjas.com/v1/holidays?country=IN&year=2023&type=\n",
      "Calling https://api.api-ninjas.com/v1/holidays?country=IN&year=2024&type=\n",
      "[\"Guru Tegh Bahadur's Martyrdom Day\", 'Guru Nanak Jayanti', 'First Day of Hanukkah', 'Last day of Hanukkah', 'Christmas Eve']\n",
      "Search relevant documents\n"
     ]
    }
   ],
   "source": [
    "events = generate_current_events(company_description, chroma_reader, QUERY_TOPICS, country_code)"
   ]
  },
  {
   "cell_type": "code",
   "execution_count": 12,
   "metadata": {},
   "outputs": [
    {
     "data": {
      "text/plain": [
       "[Document(page_content='Screen is running this regularly-updated page with the latest film festival and market dates from across the world.\\n\\nTo submit details of or alter your festival dates, please contact us here with the name, dates, country and website for the event. Screen is also running a calendar for UK-Ireland film release dates here.\\n\\nOngoing\\n\\nFrench Film Festival, UK - November 1-December 14\\n\\nUK Jewish Film Festival, UK - November 9-30\\n\\nTorinoFilmLab Meeting Event, Italy - November 23-25\\n\\nNovember\\n\\nMarrakech International Film Festival, Morocco - November 24-December 2\\n\\nJogja-NETPAC Asian Film Festival, Indonesia - November 25-December 2\\n\\nRed Sea International Film Festival, Saudi Arabia - November 30-December 9\\n\\nSingapore International Film Festival, Singapore - November 30-December 10\\n\\nDecember\\n\\nFestival Film Dokumenter, Indonesia - December 3-9\\n\\nAsia TV Forum & Market, Singapore - December 5-8\\n\\nNFMLA Monthly Film Festival: Middle Eastern & Arab Cinema, US - December 9\\n\\nLes Arcs Film Festival,', metadata={'card_text': 'Screen is running this regularly-updated page with the latest film festival and market dates from across the world. To submit...', 'country_code': 'IN', 'description': 'Bookmark this page to keep track of all the latest festival dates.', 'keywords': '', 'source': 'Screen International', 'source_href': 'https://www.screendaily.com', 'title': '2023 film festivals and markets calendar: latest dates - Screen International', 'top_image': 'https://d1nslcd7m2225b.cloudfront.net/Pictures/1024x536/5/9/6/1386596_festivalsimage_905541.jpg', 'url': 'https://news.google.com/rss/articles/CBMiZmh0dHBzOi8vd3d3LnNjcmVlbmRhaWx5LmNvbS9uZXdzLzIwMjMtZmlsbS1mZXN0aXZhbHMtYW5kLW1hcmtldHMtY2FsZW5kYXItbGF0ZXN0LWRhdGVzLzUxNzc0MzIuYXJ0aWNsZdIBAA?oc=5'}),\n",
       " Document(page_content='Film Festival NY, US - November 8-19\\n\\nEuropean Film Forum SCANORAMA, Lithuania - November 9-19\\n\\nCork International Film Festival, Ireland - November 9-19\\n\\nPittsburgh Shorts and Script Competition, US - November 16-19\\n\\nPittsburgh Filmmaker Conference, US - November 17-19\\n\\nNFMLA DocuSlate Documentary Film Festival, US - November 19', metadata={'card_text': 'Screen is running this regularly-updated page with the latest film festival and market dates from across the world. To submit...', 'country_code': 'IN', 'description': 'Bookmark this page to keep track of all the latest festival dates.', 'keywords': '', 'source': 'Screen International', 'source_href': 'https://www.screendaily.com', 'title': '2023 film festivals and markets calendar: latest dates - Screen International', 'top_image': 'https://d1nslcd7m2225b.cloudfront.net/Pictures/1024x536/5/9/6/1386596_festivalsimage_905541.jpg', 'url': 'https://news.google.com/rss/articles/CBMiZmh0dHBzOi8vd3d3LnNjcmVlbmRhaWx5LmNvbS9uZXdzLzIwMjMtZmlsbS1mZXN0aXZhbHMtYW5kLW1hcmtldHMtY2FsZW5kYXItbGF0ZXN0LWRhdGVzLzUxNzc0MzIuYXJ0aWNsZdIBAA?oc=5'}),\n",
       " Document(page_content='Festival, Turkiye – April 7-18\\n\\nCanneseries, France – April 14-19\\n\\nMIPTV, France – April 17-19\\n\\nKinoteka Polish Film Festival, UK - March 9-April 27\\n\\nFar East Film Festival, Italy – April 21-29\\n\\nFantaspoa International Fantastic Film Festival, Brazil – April 13-30\\n\\nVisions du Réel, Switzerland – April 21-30\\n\\nSan Luis Obispo International Film Festival, US – April 25-30\\n\\nLondon Bengali Film Festival, UK - April 26-30\\n\\nJeonju International Film Festival, South Korea – April 27-May 6\\n\\nIndieLisboa International Film Festival, Portugal – April 27-May 7\\n\\nHotDocs, Canada – April 27-May 7\\n\\nDocLands Documentary Film Festival, US - May 10-14\\n\\nBelmont World Film, US - March 28-May 15\\n\\nDocaviv, Israel – May 11-20\\n\\nSeattle International Film Festival, US – May 11-21\\n\\nCannes Film Festival, France – May 16-27\\n\\nHarlem International Film Festival, US – May 18-28\\n\\nMountainfilm, US – May 25-29\\n\\nKrakow Film Festival, Poland – May 28-June 4\\n\\nNew Media Film Festival, US – June 7-8\\n\\nNippon Connection', metadata={'card_text': 'Screen is running this regularly-updated page with the latest film festival and market dates from across the world. To submit...', 'country_code': 'IN', 'description': 'Bookmark this page to keep track of all the latest festival dates.', 'keywords': '', 'source': 'Screen International', 'source_href': 'https://www.screendaily.com', 'title': '2023 film festivals and markets calendar: latest dates - Screen International', 'top_image': 'https://d1nslcd7m2225b.cloudfront.net/Pictures/1024x536/5/9/6/1386596_festivalsimage_905541.jpg', 'url': 'https://news.google.com/rss/articles/CBMiZmh0dHBzOi8vd3d3LnNjcmVlbmRhaWx5LmNvbS9uZXdzLzIwMjMtZmlsbS1mZXN0aXZhbHMtYW5kLW1hcmtldHMtY2FsZW5kYXItbGF0ZXN0LWRhdGVzLzUxNzc0MzIuYXJ0aWNsZdIBAA?oc=5'}),\n",
       " Document(page_content='France - December 16-23\\n\\nPrevious events\\n\\nSaint Augustine Film Festival, US – January 12-15\\n\\nSundance Film Festival, US – January 19-29\\n\\nFIPADOC Documentary Film Festival, France – January 20-28\\n\\nOstend Film Festival, Belgium - January 27-February 4\\n\\nInternational Film Festival Rotterdam, Netherlands – January 25-February 5\\n\\nGoteborg Film Festival, Sweden – January 27-February 5\\n\\nDocPoint Helsinki Documentary Film Festival, Finland – January 31-February 5\\n\\nSCAD TVFest, US – February 9-11\\n\\nVictoria Film Festival, Canada - February 3-12\\n\\nEuropean Film Market, Germany – February 16-22\\n\\nBerlin International Film Festival, Germany – February 16-26\\n\\nDublin International Film Festival, Ireland – February 23-March 4\\n\\nTrue/False Film Fest, US – March 2-5\\n\\nBerwick Film & Media Arts Festival, UK - March 3-5\\n\\nCartoon Movie, France – March 7-9\\n\\nGlasgow Film Festival, UK – March 1-12\\n\\nThessaloniki Documentary Festival, Greece – March 2-12\\n\\nMiami Film Festival, US – March 3-12\\n\\nFrightFest Glasgow,', metadata={'card_text': 'Screen is running this regularly-updated page with the latest film festival and market dates from across the world. To submit...', 'country_code': 'IN', 'description': 'Bookmark this page to keep track of all the latest festival dates.', 'keywords': '', 'source': 'Screen International', 'source_href': 'https://www.screendaily.com', 'title': '2023 film festivals and markets calendar: latest dates - Screen International', 'top_image': 'https://d1nslcd7m2225b.cloudfront.net/Pictures/1024x536/5/9/6/1386596_festivalsimage_905541.jpg', 'url': 'https://news.google.com/rss/articles/CBMiZmh0dHBzOi8vd3d3LnNjcmVlbmRhaWx5LmNvbS9uZXdzLzIwMjMtZmlsbS1mZXN0aXZhbHMtYW5kLW1hcmtldHMtY2FsZW5kYXItbGF0ZXN0LWRhdGVzLzUxNzc0MzIuYXJ0aWNsZdIBAA?oc=5'}),\n",
       " Document(page_content='International Film Festival, Greece - July 28-31\\n\\nJapan Cuts, US - July 26-August 6\\n\\nWoods Hole Film Festival, US - July 29-August 5\\n\\nFantasia International Film Festival, Canada – July 20-August 9\\n\\nLocarno Film Festival, Switzerland – August 2-12\\n\\nSarajevo Film Festival, Bosnia & Herzegovina – August 11-18\\n\\nMelbourne International Film Festival, Australia – August 3-20\\n\\nHollyShorts Film Festival, US - August 10-20\\n\\nEdinburgh International Film Festival, UK - August 18-23\\n\\nNordic Co-Production Market, Norway - August 23-24\\n\\nChichester International Film Festival, UK - August 4-27\\n\\nThe Norwegian International Film Festival Haugesund, Norway - August 19-25\\n\\nSidewalk Film Festival, US – August 21-27\\n\\nNew Nordic Films, Norway - August 22-25\\n\\nVenice International Film Festival, Italy – August 30-September 9\\n\\nDeauville American Film Festival, France – September 1-10\\n\\nWomen X Fest, UK - September 8-10\\n\\nToronto International Film Festival, Canada - September 7-17\\n\\nPrishtina International Film', metadata={'card_text': 'Screen is running this regularly-updated page with the latest film festival and market dates from across the world. To submit...', 'country_code': 'IN', 'description': 'Bookmark this page to keep track of all the latest festival dates.', 'keywords': '', 'source': 'Screen International', 'source_href': 'https://www.screendaily.com', 'title': '2023 film festivals and markets calendar: latest dates - Screen International', 'top_image': 'https://d1nslcd7m2225b.cloudfront.net/Pictures/1024x536/5/9/6/1386596_festivalsimage_905541.jpg', 'url': 'https://news.google.com/rss/articles/CBMiZmh0dHBzOi8vd3d3LnNjcmVlbmRhaWx5LmNvbS9uZXdzLzIwMjMtZmlsbS1mZXN0aXZhbHMtYW5kLW1hcmtldHMtY2FsZW5kYXItbGF0ZXN0LWRhdGVzLzUxNzc0MzIuYXJ0aWNsZdIBAA?oc=5'})]"
      ]
     },
     "execution_count": 12,
     "metadata": {},
     "output_type": "execute_result"
    }
   ],
   "source": [
    "chroma_reader.search(QUERY_TOPICS[1] + \" events\", n=5)"
   ]
  }
 ],
 "metadata": {
  "kernelspec": {
   "display_name": "Python 3",
   "language": "python",
   "name": "python3"
  },
  "language_info": {
   "codemirror_mode": {
    "name": "ipython",
    "version": 3
   },
   "file_extension": ".py",
   "mimetype": "text/x-python",
   "name": "python",
   "nbconvert_exporter": "python",
   "pygments_lexer": "ipython3",
   "version": "3.10.0"
  }
 },
 "nbformat": 4,
 "nbformat_minor": 2
}
