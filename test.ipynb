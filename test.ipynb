{
 "cells": [
  {
   "cell_type": "code",
   "execution_count": null,
   "metadata": {},
   "outputs": [],
   "source": [
    "from pymongo.mongo_client import MongoClient\n",
    "from pymongo.server_api import ServerApi"
   ]
  },
  {
   "cell_type": "code",
   "execution_count": null,
   "metadata": {},
   "outputs": [],
   "source": [
    "mongo_client = MongoClient(os.environ[\"MONGO_CONNECTION_STRING\"])"
   ]
  },
  {
   "cell_type": "code",
   "execution_count": null,
   "metadata": {},
   "outputs": [],
   "source": [
    "user_db = mongo_client[\"users\"][\"user-data\"]"
   ]
  },
  {
   "cell_type": "code",
   "execution_count": null,
   "metadata": {},
   "outputs": [],
   "source": [
    "cursor = user_db.find({})"
   ]
  },
  {
   "cell_type": "code",
   "execution_count": null,
   "metadata": {},
   "outputs": [],
   "source": [
    "old_moments = user[\"moments\"]"
   ]
  },
  {
   "cell_type": "code",
   "execution_count": null,
   "metadata": {},
   "outputs": [],
   "source": [
    "for user in cursor:\n",
    "    _id = user[\"company_id\"]\n",
    "    new_moments = {\n",
    "        \"General News\":[\"A\", \"bf\", \"XC\"],\n",
    "        \"Industry News\":[\"A\", \"bfa\", \"XC\"],\n",
    "        \"Current Events\":[\"A\", \"basd\", \"XC\"],\n",
    "        \"social_media\":[\"A\", \"b\", \"XCsad\"],\n",
    "    }\n",
    "\n",
    "    new_values = {\"$set\": {\"moments\": new_moments}}\n",
    "    print(user_db.update_one({\"company_id\":_id}, new_values))\n"
   ]
  },
  {
   "cell_type": "code",
   "execution_count": null,
   "metadata": {},
   "outputs": [],
   "source": [
    "from chroma_interface.reader import Reader\n",
    "from chroma_interface.writer import Writer\n",
    "import os\n",
    "\n",
    "keys = list(open(\".env\", \"r\"))\n",
    "\n",
    "for item in keys:\n",
    "    variable, value = item.split(\"=\")[0], \"=\".join(item.split(\"=\")[1:])\n",
    "    os.environ[variable] = value.replace(\"\\n\", \"\")"
   ]
  },
  {
   "cell_type": "code",
   "execution_count": null,
   "metadata": {},
   "outputs": [],
   "source": [
    "openai_key = os.environ[\"OPENAI_API_KEY\"]\n",
    "chroma_host = os.environ[\"CHROMA_IP\"]\n",
    "\n",
    "reader = Reader(host=chroma_host, port=8000, collection=\"test-1\", openai_api_key=openai_key)\n",
    "writer = Writer(host=chroma_host, port=8000, openai_api_key=openai_key)"
   ]
  },
  {
   "cell_type": "code",
   "execution_count": null,
   "metadata": {},
   "outputs": [],
   "source": [
    "collections = reader.list_collections()"
   ]
  },
  {
   "cell_type": "code",
   "execution_count": 1,
   "metadata": {},
   "outputs": [
    {
     "ename": "FileNotFoundError",
     "evalue": "[Errno 2] No such file or directory: './config/query-topics.txt'",
     "output_type": "error",
     "traceback": [
      "\u001b[1;31m---------------------------------------------------------------------------\u001b[0m",
      "\u001b[1;31mFileNotFoundError\u001b[0m                         Traceback (most recent call last)",
      "\u001b[1;32md:\\ML stuff\\buzztrends\\buzztrends_vectorstores\\test.ipynb Cell 10\u001b[0m line \u001b[0;36m1\n\u001b[0;32m     <a href='vscode-notebook-cell:/d%3A/ML%20stuff/buzztrends/buzztrends_vectorstores/test.ipynb#X12sZmlsZQ%3D%3D?line=13'>14</a>\u001b[0m \u001b[39m# Constants\u001b[39;00m\n\u001b[0;32m     <a href='vscode-notebook-cell:/d%3A/ML%20stuff/buzztrends/buzztrends_vectorstores/test.ipynb#X12sZmlsZQ%3D%3D?line=14'>15</a>\u001b[0m NEWS_TOPICS \u001b[39m=\u001b[39m read_lines_from_file(\u001b[39m\"\u001b[39m\u001b[39m./config/topic-type.txt\u001b[39m\u001b[39m\"\u001b[39m)\n\u001b[1;32m---> <a href='vscode-notebook-cell:/d%3A/ML%20stuff/buzztrends/buzztrends_vectorstores/test.ipynb#X12sZmlsZQ%3D%3D?line=15'>16</a>\u001b[0m QUERY_TOPICS \u001b[39m=\u001b[39m read_lines_from_file(\u001b[39m\"\u001b[39;49m\u001b[39m./config/query-topics.txt\u001b[39;49m\u001b[39m\"\u001b[39;49m)\n\u001b[0;32m     <a href='vscode-notebook-cell:/d%3A/ML%20stuff/buzztrends/buzztrends_vectorstores/test.ipynb#X12sZmlsZQ%3D%3D?line=16'>17</a>\u001b[0m COUNTRY_NAMES \u001b[39m=\u001b[39m read_lines_from_file(\u001b[39m\"\u001b[39m\u001b[39m./config/countries-names.txt\u001b[39m\u001b[39m\"\u001b[39m)\n\u001b[0;32m     <a href='vscode-notebook-cell:/d%3A/ML%20stuff/buzztrends/buzztrends_vectorstores/test.ipynb#X12sZmlsZQ%3D%3D?line=17'>18</a>\u001b[0m COUNTRY_CODES \u001b[39m=\u001b[39m defaultdict(\u001b[39mNone\u001b[39;00m)\n",
      "File \u001b[1;32md:\\ML stuff\\buzztrends\\buzztrends_vectorstores\\utils\\simple_utils.py:104\u001b[0m, in \u001b[0;36mread_lines_from_file\u001b[1;34m(path)\u001b[0m\n\u001b[0;32m     94\u001b[0m \u001b[39mdef\u001b[39;00m \u001b[39mread_lines_from_file\u001b[39m(path):\n\u001b[0;32m     95\u001b[0m \u001b[39m    \u001b[39m\u001b[39m\"\"\"\u001b[39;00m\n\u001b[0;32m     96\u001b[0m \u001b[39m    reads lines from a filepath and returns everything in a list\u001b[39;00m\n\u001b[0;32m     97\u001b[0m \n\u001b[1;32m   (...)\u001b[0m\n\u001b[0;32m    102\u001b[0m \u001b[39m    - List\u001b[39;00m\n\u001b[0;32m    103\u001b[0m \u001b[39m    \"\"\"\u001b[39;00m\n\u001b[1;32m--> 104\u001b[0m     \u001b[39mreturn\u001b[39;00m \u001b[39mopen\u001b[39;49m(path, \u001b[39m'\u001b[39;49m\u001b[39mr\u001b[39;49m\u001b[39m'\u001b[39;49m)\u001b[39m.\u001b[39mread()\u001b[39m.\u001b[39msplit(\u001b[39m\"\u001b[39m\u001b[39m\\n\u001b[39;00m\u001b[39m\"\u001b[39m)\n",
      "\u001b[1;31mFileNotFoundError\u001b[0m: [Errno 2] No such file or directory: './config/query-topics.txt'"
     ]
    }
   ],
   "source": [
    "from utils.simple_utils import *\n",
    "from utils.google_utils import *\n",
    "from utils.langchain_utils import *\n",
    "from utils.best_hashtags import *\n",
    "\n",
    "from mongo.interface import *\n",
    "\n",
    "from chroma_interface import *\n",
    "from chroma_interface.reader import *\n",
    "from chroma_interface.writer import *\n",
    "\n",
    "import os\n",
    "import time\n",
    "# Constants\n",
    "NEWS_TOPICS = read_lines_from_file(\"./config/topic-type.txt\")\n",
    "QUERY_TOPICS = read_lines_from_file(\"./config/query-topics.txt\")\n",
    "COUNTRY_NAMES = read_lines_from_file(\"./config/countries-names.txt\")\n",
    "COUNTRY_CODES = defaultdict(None)\n",
    "for name, code in zip(COUNTRY_NAMES, read_lines_from_file(\"./config/countries-code.txt\")):\n",
    "    COUNTRY_CODES[name] = code\n",
    "\n",
    "\n",
    "# environment setup\n",
    "with open(\".env\", \"r\") as key_file:\n",
    "    keys = list(key_file)\n",
    "\n",
    "for item in keys:\n",
    "    variable, value = item.split(\"=\")[0], \"=\".join(item.split(\"=\")[1:])\n",
    "    os.environ[variable] = value.replace(\"\\n\", \"\")\n",
    "\n",
    "topic=NEWS_TOPICS[0]\n",
    "country_name = \"India\"\n",
    "country_code=COUNTRY_CODES[country_name]\n",
    "lang='en'\n",
    "collection_name = \"general_news\"\n",
    "\n",
    "chroma_reader, chroma_writer = get_reader_writer(\n",
    "    host=os.environ[\"CHROMA_IP\"],\n",
    "    port=int(os.environ[\"CHROMA_PORT\"]),\n",
    "    openai_api_key=os.environ[\"OPENAI_API_KEY\"],\n",
    "    reader_collection_name=collection_name\n",
    ")\n",
    "\n",
    "user_mongo_client = MongoInterface(\n",
    "    url=os.environ[\"MONGO_CONNECTION_STRING\"],\n",
    "    database=\"users\",\n",
    "    collection=\"user-data\"\n",
    ")\n",
    "\n",
    "from scripts import *\n"
   ]
  },
  {
   "cell_type": "code",
   "execution_count": 1,
   "metadata": {},
   "outputs": [],
   "source": [
    "from utils.best_hashtags import *"
   ]
  },
  {
   "cell_type": "code",
   "execution_count": 2,
   "metadata": {},
   "outputs": [
    {
     "name": "stdout",
     "output_type": "stream",
     "text": [
      "[GET] Easy hashtags for indianfood\n"
     ]
    },
    {
     "data": {
      "text/plain": [
       "{'#indianfoodie': 998798,\n",
       " '#indianstreetfood': 887944,\n",
       " '#biryani': 855456,\n",
       " '#indianfoodblogger': 788359,\n",
       " '#northindianfood': 699227,\n",
       " '#indiansweets': 482723,\n",
       " '#indianfoods': 164085,\n",
       " '#indianfoodlovers': 137350,\n",
       " '#indianfoodtales': 130741,\n",
       " '#indianfoodblog': 122482}"
      ]
     },
     "execution_count": 2,
     "metadata": {},
     "output_type": "execute_result"
    }
   ],
   "source": [
    "best_hashtag_get_easy(\"indian food\")"
   ]
  },
  {
   "cell_type": "code",
   "execution_count": 3,
   "metadata": {},
   "outputs": [
    {
     "name": "stdout",
     "output_type": "stream",
     "text": [
      "parsed hashtag query: indianfood\n",
      "[GET] Related hashtags\n"
     ]
    },
    {
     "data": {
      "text/plain": [
       "{'#indianfoodbloggers': 1953917,\n",
       " '#indianfoodie': 998798,\n",
       " '#indianfoodblogger': 788359,\n",
       " '#indianfoodlovers': 379088,\n",
       " '#indianfoodblog': 204439,\n",
       " '#indianfoodtales': 130741,\n",
       " '#indianfoodrecipes': 93836,\n",
       " '#indianfoodiesquad': 74830,\n",
       " '#indianfoodies': 73896,\n",
       " '#indianfoodstories': 63649,\n",
       " '#indianfoodiye': 56533,\n",
       " '#indianfoodporn': 49871,\n",
       " '#indianfoodieez': 46327,\n",
       " '#indianfoodphotography': 37425,\n",
       " '#indianfoodlove': 31042,\n",
       " '#indianfoodlover': 30090,\n",
       " '#indianfoodmovement': 16749,\n",
       " '#indianfoodrocks': 15654,\n",
       " '#indianfoodtrail': 13034,\n",
       " '#indianfoodbloggersnetwork': 12581}"
      ]
     },
     "execution_count": 3,
     "metadata": {},
     "output_type": "execute_result"
    }
   ],
   "source": [
    "get_hashtag_data(\"indianfood\")"
   ]
  },
  {
   "cell_type": "code",
   "execution_count": 2,
   "metadata": {},
   "outputs": [],
   "source": [
    "chroma_reader.set_collection(\"current_events\")"
   ]
  },
  {
   "cell_type": "code",
   "execution_count": 3,
   "metadata": {},
   "outputs": [],
   "source": [
    "query = f\"\"\"List 10 important and interesting events related to any of these topics: {','.join(QUERY_TOPICS)}. \n",
    "Zomato is a popular online platform that provides a comprehensive range of services related to dining and food. Originally founded in India, Zomato has expanded globally and is now a prominent player in the food technology industry. The platform allows users to explore and discover restaurants, cafes, and eateries in their vicinity, offering detailed information such as menus, reviews, ratings, and photos.\n",
    "\n",
    "Zomato's user-friendly interface enables individuals to browse through a diverse range of cuisines, make reservations, and order food for delivery or takeaway. The platform has become a go-to resource for food enthusiasts seeking recommendations, as it aggregates user-generated reviews to help people make informed decisions about where to dine.\n",
    "\n",
    "In addition to its consumer-facing services, Zomato has also ventured into food delivery, connecting users with a wide network of restaurants and delivery partners. The platform's commitment to enhancing the overall dining experience has made it a popular choice for both food lovers and businesses in the food industry.\"\"\"\n"
   ]
  },
  {
   "cell_type": "code",
   "execution_count": 4,
   "metadata": {},
   "outputs": [],
   "source": [
    "topic = \"film industry\"\n",
    "target = \"text\"\n",
    "country_code = \"IN\""
   ]
  },
  {
   "cell_type": "code",
   "execution_count": 5,
   "metadata": {},
   "outputs": [
    {
     "data": {
      "text/plain": [
       "[Document(page_content=\"capitalizing on the online gaming realm for product launches, events, and innovative monetization avenues. Notable entries include United Colors of Benetton's virtual collection in Animal Crossing and Toyota's engagement with its Asian audience through the e-Motorsport event TOYOTA GAZOO Racing GT Cup on Gran Turismo, live-streamed on Twitch, Facebook, YouTube, and Twitter, allowing gamers to race using Toyota sports cars. Prominent startups in the gaming sector, including MPL, Dream Sports, and Games 24 Seven, have achieved unicorn status. Nazara stands out as the first listed gaming company. Noteworthy international gaming firms like Electronic Arts (FIFA), Rockstar Games (Call of Duty), Ubisoft, and Zynga also have a significant presence in India. The rise of gaming culture is undeniably shaping a new era of entertainment and the government's role in fostering innovation plays a pivotal part in this transformative journey. If stakeholders and the government collaborate effectively\", metadata={'card_text': 'There is a game for everyone and the choices for players are virtually unlimited! The gaming landscape in India has...', 'country_code': 'IN', 'description': \"Dive into the dynamic Gaming Sector in India. Discover the esports milestones, technological leaps, and the government's crucial role in the industry.\", 'keywords': '', 'source': 'Invest India', 'source_href': 'https://www.investindia.gov.in', 'title': \"Rise of Gaming Culture and the Government's Role in Fostering ... - Invest India\", 'top_image': 'https://static.investindia.gov.in/s3fs-public/2023-11/Gamming-Banner.png', 'url': 'https://news.google.com/rss/articles/CBMibWh0dHBzOi8vd3d3LmludmVzdGluZGlhLmdvdi5pbi90ZWFtLWluZGlhLWJsb2dzL3Jpc2UtZ2FtaW5nLWN1bHR1cmUtYW5kLWdvdmVybm1lbnRzLXJvbGUtZm9zdGVyaW5nLWlubm92YXRpb27SAQA?oc=5'}),\n",
       " Document(page_content='to OTT consumption and social media. The gaming sector is experiencing changes across all its verticals, including fantasy sports, casual gaming, and esports, particularly in mobile-based real-money gaming.\\n\\nAccording to the FICCI-EY report of 2023 transaction-based game revenues saw a 39% increase in 2022 from 2021, surpassing INR 100 Bn. More and more Indian players are paying for online games with India’s percentage of first-time paying users increasing to 67% in 2022. In India, every second internet user is a gamer, and every third user conducting transactions online is a paying gamer. This growth can be attributed to factors such as:\\n\\nHeightened awareness and a more favourable perception of online gaming\\n\\nSubstantial marketing investments with the use of brand ambassadors and gaming influencers like MS Dhoni for WinZO, Shah Rukh Khan for Ace23, Hrithik Roshan for Games 24x7, and Virat Kohli for MPL\\n\\nThe revival of sporting events, including major tournaments like FIFA, Asia Cup,', metadata={'card_text': 'There is a game for everyone and the choices for players are virtually unlimited! The gaming landscape in India has...', 'country_code': 'IN', 'description': \"Dive into the dynamic Gaming Sector in India. Discover the esports milestones, technological leaps, and the government's crucial role in the industry.\", 'keywords': '', 'source': 'Invest India', 'source_href': 'https://www.investindia.gov.in', 'title': \"Rise of Gaming Culture and the Government's Role in Fostering ... - Invest India\", 'top_image': 'https://static.investindia.gov.in/s3fs-public/2023-11/Gamming-Banner.png', 'url': 'https://news.google.com/rss/articles/CBMibWh0dHBzOi8vd3d3LmludmVzdGluZGlhLmdvdi5pbi90ZWFtLWluZGlhLWJsb2dzL3Jpc2UtZ2FtaW5nLWN1bHR1cmUtYW5kLWdvdmVybm1lbnRzLXJvbGUtZm9zdGVyaW5nLWlubm92YXRpb27SAQA?oc=5'}),\n",
       " Document(page_content='There is a game for everyone and the choices for players are virtually unlimited! The gaming landscape in India has undergone a significant transformation in recent years, witnessing a growing participation in online gaming throughout the nation. Whether it is casual gaming on mobile phones or PCs or participating in organized tournaments and leagues within the realm of esports, India is witnessing a rise of gaming culture like never before. In 2022, gaming and esports enthusiasts experienced an exceptionally thrilling year, marked by the unprecedented Commonwealth Esports Championship. The global recognition of esports reached new heights, exemplified by Indian DOTA 2 squad’s impressive achievement of a bronze medal. Building on this success, the Asian Games 2023 also hosted an esports category as an officially recognized medal event. The inclusion of online gaming as a competitive sport highlights the increasing significance of gaming and esports on the global platform.\\n\\nIn India,', metadata={'card_text': 'There is a game for everyone and the choices for players are virtually unlimited! The gaming landscape in India has...', 'country_code': 'IN', 'description': \"Dive into the dynamic Gaming Sector in India. Discover the esports milestones, technological leaps, and the government's crucial role in the industry.\", 'keywords': '', 'source': 'Invest India', 'source_href': 'https://www.investindia.gov.in', 'title': \"Rise of Gaming Culture and the Government's Role in Fostering ... - Invest India\", 'top_image': 'https://static.investindia.gov.in/s3fs-public/2023-11/Gamming-Banner.png', 'url': 'https://news.google.com/rss/articles/CBMibWh0dHBzOi8vd3d3LmludmVzdGluZGlhLmdvdi5pbi90ZWFtLWluZGlhLWJsb2dzL3Jpc2UtZ2FtaW5nLWN1bHR1cmUtYW5kLWdvdmVybm1lbnRzLXJvbGUtZm9zdGVyaW5nLWlubm92YXRpb27SAQA?oc=5'}),\n",
       " Document(page_content='Second: Showcasing the sounds, culture, and influence of music and musicians, with an emphasis on documentary.\\n\\nGlobal: A diverse selection of International filmmaking talent, featuring innovative narratives, artful documentaries, premieres, festival favorites, and more.\\n\\nFestival Favorite: Acclaimed standouts and selected previous premieres from festivals around the world.\\n\\nSpecial Event: Live soundtracks, cult re-issues, and much more. Our Special Events section offers unusual, unexpected, and unique one-off film events.\\n\\nTV Screening Sections\\n\\nTV Premiere: Presenting world premieres of prestige serials slated for release and accompanied by show-runners, directors, and cast members.\\n\\nIndependent TV Pilot Competition: A pilot showcase introducing fresh work from bright new talent, many with an eye towards finding production, completion funds, or a release platform.\\n\\nTV Spotlight: Presenting world premieres of new seasons of prestige series or studio backed projects seeking', metadata={'card_text': 'Feature Film Screening Sections Narrative Feature Competition: World premieres with unique ways to celebrate the art of storytelling. Documentary Feature...', 'country_code': 'IN', 'description': 'Submit your film to the SXSW Film & TV Festival. Premiere your film in front of press, film industry, and film lovers. Explore more details and deadlines.', 'keywords': '', 'source': 'sxsw.com', 'source_href': 'https://www.sxsw.com', 'title': 'SXSW Film Festival Submissions - sxsw.com', 'top_image': 'https://www.sxsw.com/wp-content/uploads/2023/03/Varsity-In-Mariachi_03.12.23_AdamKissick_46.png', 'url': 'https://news.google.com/rss/articles/CBMiLGh0dHBzOi8vd3d3LnN4c3cuY29tL2FwcGx5L2ZpbG0tc3VibWlzc2lvbnMv0gEA?oc=5'}),\n",
       " Document(page_content='the online gaming segment is the fourth largest segment of the Indian Media & Entertainment sector. It is expected to reach INR 231 Bn by 2025, growing at a CAGR of 20%. In 2023, the number of online gamers in India expected to reach soared to an impressive 442 Mn, establishing it as the second-largest gaming user base globally, surpassed only by China. Among these, approximately 90 to 100 Mn are avid and regular players. Within the esports category, the number of players touched 1 Mn across all competitive level games, where 1 of 5 players were women.\\n\\nStatus of the Gaming Industry in India\\n\\nThe rise in gaming culture in India can be credited to various factors, particularly the development of broadband connectivity in Tier-II and Tier-III cities, along with cheaper data costs and affordable smartphones, broadening gaming accessibility to a diverse audience.\\n\\nDuring lockdown, as more people turned to virtual entertainment, online game viewing and streaming emerged as an alternative', metadata={'card_text': 'There is a game for everyone and the choices for players are virtually unlimited! The gaming landscape in India has...', 'country_code': 'IN', 'description': \"Dive into the dynamic Gaming Sector in India. Discover the esports milestones, technological leaps, and the government's crucial role in the industry.\", 'keywords': '', 'source': 'Invest India', 'source_href': 'https://www.investindia.gov.in', 'title': \"Rise of Gaming Culture and the Government's Role in Fostering ... - Invest India\", 'top_image': 'https://static.investindia.gov.in/s3fs-public/2023-11/Gamming-Banner.png', 'url': 'https://news.google.com/rss/articles/CBMibWh0dHBzOi8vd3d3LmludmVzdGluZGlhLmdvdi5pbi90ZWFtLWluZGlhLWJsb2dzL3Jpc2UtZ2FtaW5nLWN1bHR1cmUtYW5kLWdvdmVybm1lbnRzLXJvbGUtZm9zdGVyaW5nLWlubm92YXRpb27SAQA?oc=5'}),\n",
       " Document(page_content='JOIN THE LARGEST EVENTS TICKETING & MARKETING NETWORk\\n\\nMedia Company? Blog? Event listing site? Event calendar? Venue?\\n\\nBy joining our network and helping our event creators sell more tickets, you can diversify and grow your revenue, your brand, and audience while creating exciting new partnerships that will take your business to new heights.', metadata={'card_text': 'JOIN THE LARGEST EVENTS TICKETING & MARKETING NETWORk Media Company? Blog? Event listing site? Event calendar? Venue? By joining our...', 'country_code': 'IN', 'description': 'Looking for something to do? Find a full list of upcoming events, concerts, festivals, sports, family events & more. Both in-person & virtual events available.', 'keywords': '', 'source': 'Evvnt', 'source_href': 'https://evvnt.com', 'title': 'Evvnt Events - Black Panther 2 (2022) Film Online On 123movies - Evvnt', 'top_image': 'https://evvnt.com/wp-content/uploads/2023/10/ESC.png', 'url': 'https://news.google.com/rss/articles/CBMiaWh0dHBzOi8vZXZ2bnQuY29tL2V2ZW50cy8_X2V2RGlzY292ZXJ5UGF0aD0vZXZlbnQlMkYxMzkyMjlyLWJsYWNrLXBhbnRoZXItMi0yMDIyLWZpbG0tb25saW5lLW9uLTEyM21vdmllc9IBAA?oc=5'}),\n",
       " Document(page_content='have featured a shopping festival of some kind. In addition to major events like Double Eleven and “618,” which falls annually on June 18 and was first launched by e-commerce giant JD.com, discounts are also offered during seasonal campaigns and traditional holiday sales.\\n\\nOn top of that, platforms routinely organize commercial activities to coincide with national and global events. For example, to mark International Women’s Day on March 8 this year, Tmall offered various promotions nearly every day that month on food, digital and household appliances, cosmetics, clothing, and other products.\\n\\nThe rise of livestream shopping through platforms such as Douyin, the domestic version of TikTok, also appears to have reduced the appeal of Double Eleven. “I buy what I need for my daily life on livestreaming platforms, as the discounts are not much different from Double Eleven,” wrote one Weibo user.\\n\\nThe livestreaming market has expanded quickly in China, according to e-commerce database', metadata={'card_text': 'The annual “Double Eleven” shopping festival — so called because it falls on Nov. 11, or China’s Singles’ Day —...', 'country_code': 'IN', 'description': 'The annual online shopping festival has continued to falter as an overabundance of sales seasons and opaque pricing strategies cause fatigue among consumers.', 'keywords': '', 'source': 'Sixth Tone', 'source_href': 'https://www.sixthtone.com', 'title': \"Has the 'Double Eleven' Shopping Festival Lost its Luster? - Sixth Tone\", 'top_image': 'https://image5.sixthtone.com/image/5/73/345.jpg', 'url': 'https://news.google.com/rss/articles/CBMihwFodHRwczovL3d3dy5zaXh0aHRvbmUuY29tL25ld3MvMTAxNDEyMC9oYXMtdGhlLSVFMiU4MCU5OGRvdWJsZS1lbGV2ZW4lRTIlODAlOTktc2hvcHBpbmctZmVzdGl2YWwtbG9zdC1pdHMtbHVzdGVyJTNGP3NvdXJjZT1jaGFubmVsX2hvbWXSAQA?oc=5'}),\n",
       " Document(page_content=\"meet-and-greets, and other activities. The lineup for the event has been announced, and it is expected to feature some of India's most popular YouTubers.\\n\\nTickets for YouTube Fanfest 2023 are on sale. Fans can sign up for the waitlist on the YouTube Fanfest website. The details of the event are as follows:\\n\\nActivity Time Box Office Opening 12:00 P.M to 7:30 P.M Experiential Zone 4:00 P.M to 10:00 P.M In-Person Meet and Greet 5:30 P.M to 7:00 P.M Live Show 7:30 P.M to 10:00 P.M YouTube Fanfest 2023: Lineup The lineup for YouTube Fanfest India 2023 is nothing short of spectacular. It features some of the brightest stars across a wide array of genres, all of whom have earned their crowns as the talk of the digital town. Some of the dancers who will be performing include Awez Darbar, who is known for his awe-inspiring dance moves, and Team Naach, who are known for their groovy moves.\", metadata={'card_text': 'YouTube Fanfest is an annual event that brings together YouTube creators and their fans for a day of fun, music,...', 'country_code': 'IN', 'description': \"YouTube Fanfest India 2023 is happening on September 27, 2023 at Nesco Goregaon, Mumbai! The event will feature performances by some of India's most popular YouTubers. Here are all the details.\", 'keywords': 'youtube fanfest,youtube fan fest,n youtube fanfest 2023,when is youtube fanfest in 2023,youtube fanfest date,youtube fanfest lineup,youtube fanfest venue,youtube fanfest 2023 lineup,mostlysane,harrdy sandhu,', 'source': 'Jagran Josh', 'source_href': 'https://www.jagranjosh.com', 'title': 'YouTube Fanfest 2023: Date, Venue, Lineup, How to Buy Ticket and Event Details - Jagran Josh', 'top_image': 'https://img.jagranjosh.com/images/2023/September/892023/youtube-fanfest.jpg', 'url': 'https://news.google.com/rss/articles/CBMiZmh0dHBzOi8vd3d3LmphZ3Jhbmpvc2guY29tL2dlbmVyYWwta25vd2xlZGdlL3lvdXR1YmUtZmFuZmVzdC1kYXRlLXZlbnVlLWFuZC1ldmVudC1kZXRhaWxzLTE2OTQxNzc4MDUtMdIBamh0dHBzOi8vd3d3LmphZ3Jhbmpvc2guY29tL2dlbmVyYWwta25vd2xlZGdlL2FtcC95b3V0dWJlLWZhbmZlc3QtZGF0ZS12ZW51ZS1hbmQtZXZlbnQtZGV0YWlscy0xNjk0MTc3ODA1LTE?oc=5'}),\n",
       " Document(page_content=\"After the recently-concluded beauty and lifestyle festival Nykaaland that witnessed a footfall of 15,000 across two days, live entertainment producer and ticketing company BookMyShow is moving on to the next big thing. The company is bullish on the live entertainment space and unique experiences like Nykaaland is a great opportunity of moving forward from the music space into newer segments like beauty, says Owen Roncon, BookMyShow’s chief of business-live entertainment, who’s had stints with Izumi, Fountainhead MKTG and Oranjuice Entertainment before joining the company last year.\\n\\n“Over the last six years BookMyShow has been doing a lot of music. We've migrated from being just a ticketing company to producing and now designing and conceptualizing events as well. Nykaaland is one such concept event; the only one of its kind that has been conceptualized in India,” says Roncon.\\n\\nHe says that with the upcoming Ed Sheeran concert on March 16 in Mumbai things are only going to get bigger\", metadata={'card_text': 'After the recently-concluded beauty and lifestyle festival Nykaaland that witnessed a footfall of 15,000 across two days, live entertainment producer...', 'country_code': 'IN', 'description': 'He says that with the upcoming Ed Sheeran concert on March 16 in Mumbai things are only going to get bigger and better', 'keywords': 'BookMyShow,Owen Roncon', 'source': 'Business Today', 'source_href': 'https://www.businesstoday.in', 'title': 'We want to establish India as a global live entertainment hub: BookMyShow’s Owen Roncon - Business Today', 'top_image': 'https://akm-img-a-in.tosshub.com/businesstoday/images/story/202311/ezgif-sixteen_nine_129.jpg', 'url': 'https://news.google.com/rss/articles/CBMipAFodHRwczovL3d3dy5idXNpbmVzc3RvZGF5LmluL2VudHJlcHJlbmV1cnNoaXAvc3RhcnQtdXAvc3Rvcnkvd2Utd2FudC10by1lc3RhYmxpc2gtaW5kaWEtYXMtYS1nbG9iYWwtbGl2ZS1lbnRlcnRhaW5tZW50LWh1Yi1ib29rbXlzaG93cy1vd2VuLXJvbmNvbi00MDUxMTYtMjAyMy0xMS0wONIBqAFodHRwczovL3d3dy5idXNpbmVzc3RvZGF5LmluL2FtcC9lbnRyZXByZW5ldXJzaGlwL3N0YXJ0LXVwL3N0b3J5L3dlLXdhbnQtdG8tZXN0YWJsaXNoLWluZGlhLWFzLWEtZ2xvYmFsLWxpdmUtZW50ZXJ0YWlubWVudC1odWItYm9va215c2hvd3Mtb3dlbi1yb25jb24tNDA1MTE2LTIwMjMtMTEtMDg?oc=5'}),\n",
       " Document(page_content=\"regulatory fragmentation at the state level. Yet, the recent imposition of a 28% tax on online games has faced backlash from startups and gaming enterprises. Critics argue that this move could potentially force smaller startups out of business. The government's justification for this decision is based on the moral standpoint that online games cannot be taxed on par with essential commodities. The impact of this decision on stakeholders remains uncertain and will be noticed in coming times,\\n\\nConclusion\\n\\nThe online gaming sector is projected to reach INR 231 Bn by 2025, with transaction-based gaming expected to grow at a CAGR of 21%, contributing 79% of total segment revenues at INR 183 Bn. Key growth drivers include the clarity provided by new IT rules, simplification of legislation, and regulations, fostering trust among gamers. The sector is further propelled by the ongoing growth of digital payments and emerging monetisation models like in-app branded monetisation. Brands are\", metadata={'card_text': 'There is a game for everyone and the choices for players are virtually unlimited! The gaming landscape in India has...', 'country_code': 'IN', 'description': \"Dive into the dynamic Gaming Sector in India. Discover the esports milestones, technological leaps, and the government's crucial role in the industry.\", 'keywords': '', 'source': 'Invest India', 'source_href': 'https://www.investindia.gov.in', 'title': \"Rise of Gaming Culture and the Government's Role in Fostering ... - Invest India\", 'top_image': 'https://static.investindia.gov.in/s3fs-public/2023-11/Gamming-Banner.png', 'url': 'https://news.google.com/rss/articles/CBMibWh0dHBzOi8vd3d3LmludmVzdGluZGlhLmdvdi5pbi90ZWFtLWluZGlhLWJsb2dzL3Jpc2UtZ2FtaW5nLWN1bHR1cmUtYW5kLWdvdmVybm1lbnRzLXJvbGUtZm9zdGVyaW5nLWlubm92YXRpb27SAQA?oc=5'}),\n",
       " Document(page_content='free access to these major sport events will be closed, after Ministers updated the Bill.\\n\\nThe new definition of “relevant services” ensures that TV-like services not currently captured by the listed events regime but providing live content to UK audiences via the internet, will now be captured. This will ensure the rights for listed events continue to be offered on fair and reasonable terms to PSBs as sport audience viewing habits evolve.\\n\\nOpening the debate, Culture Secretary Lucy Frazer is expected to say:\\n\\nWe are in a golden age for the silver screen and our public service broadcasters are a major reason why. Whether it’s reality shows like the Great British Bake Off and I’m A Celebrity, or dramas like Time, Happy Valley or Broadchurch - our public service broadcasters have proven they can go toe-to-toe with the streaming giants. But success today is never a guarantee of success tomorrow. The rise of streaming giants and on-demand content, YouTube and smartphones, tablets and Tik', metadata={'card_text': 'New measures added to ensure a wide range of TV genres continue to be shown by the UK’s main broadcasters,...', 'country_code': 'IN', 'description': 'Culture Secretary promises to remove “Sword of Damocles” anti-free press laws as she opens Second Reading of the Media Bill', 'keywords': '', 'source': 'GOV.UK', 'source_href': 'https://www.gov.uk', 'title': 'Media Bill to maximise potential of British TV and radio - GOV.UK', 'top_image': 'https://assets.publishing.service.gov.uk/media/655b485e544aea000dfb303b/s960_govuk_ch4.jpg', 'url': 'https://news.google.com/rss/articles/CBMiW2h0dHBzOi8vd3d3Lmdvdi51ay9nb3Zlcm5tZW50L25ld3MvbWVkaWEtYmlsbC10by1tYXhpbWlzZS1wb3RlbnRpYWwtb2YtYnJpdGlzaC10di1hbmQtcmFkaW_SAQA?oc=5'}),\n",
       " Document(page_content='With the new year just three months away, the annual conference and convention season is largely over in the food and beverage space — with the exception of a few events, including SupplySide West later this month.\\n\\nBut the new year will quickly bring with it a barrage of gatherings scattered across the U.S. where thousands of people will assemble to discuss new products, technologies and other changes impacting their industries.\\n\\nFood Dive is highlighting 11 of the top events to start planning for in 2024.\\n\\nOct. 23-27, 2023\\n\\nLas Vegas, NV\\n\\nAttended by executives in R&D, supply chain management, food and beverage ingredient suppliers and packaging and label suppliers, SupplySide West touts itself as a “premier gathering” of health & nutrition professionals that connects both buyers and suppliers in the space.\\n\\nEvents will revolve around the science and strategy of product development.\\n\\nWinter Fancy Food Show\\n\\nJan. 21-23, 2024\\n\\nLas Vegas, NV\\n\\nThough Las Vegas may be known for its rich', metadata={'card_text': 'With the new year just three months away, the annual conference and convention season is largely over in the food...', 'country_code': 'IN', 'description': 'Food industry news, voices and jobs.  Optimized for your mobile phone.', 'keywords': '', 'source': 'Food Dive', 'source_href': 'https://www.fooddive.com', 'title': 'Top food and beverage industry events in 2024 - Food Dive', 'top_image': 'https://www.fooddive.com/imgproxy/RUVs3Xgn3gBVIIbGa9aD4eADIHSF6cNEBbTSpxg4Ijk/crop:1516:856/g:nowe:0:180/rs:fill:770:435:0/bG9jYWw6Ly8vZGl2ZWltYWdlL0lNR18wMTYzLmpwZw.jpg', 'url': 'https://news.google.com/rss/articles/CBMiNmh0dHBzOi8vd3d3LmZvb2RkaXZlLmNvbS9uZXdzL2Zvb2QtZXZlbnRzLTIwMjQvNjk1ODAwL9IBAA?oc=5'}),\n",
       " Document(page_content='year-on-year.\\n\\nThe fact that express delivery volume and online retail sales increased amid a frosty Double Eleven suggests that consumers are possibly not unwilling to buy, they are simply being more cautious about the products they “add to cart.” In the food and beverage sector, new categories emerged while others enjoyed significant gains, such as ready meals and healthy options like low-alcohol wine and high-fiber snacks.\\n\\nThis year’s Double Eleven also demonstrated an appetite among middle- and upper-class consumers for experiences or products that enhance their health, lifestyle, and self-expression. For example, vitamins, pet care, athletic apparel, and even luxury goods proved extremely popular, suggesting that buyers are looking to upgrade their consumption in these sectors.\\n\\nReported by Lian Junxiang, He Shuyao, Jin Tianyi, and Lei Guanghan.\\n\\nA version of this article originally appeared in Shanghai Data, a platform operated by the Shanghai Observer. It has been translated', metadata={'card_text': 'The annual “Double Eleven” shopping festival — so called because it falls on Nov. 11, or China’s Singles’ Day —...', 'country_code': 'IN', 'description': 'The annual online shopping festival has continued to falter as an overabundance of sales seasons and opaque pricing strategies cause fatigue among consumers.', 'keywords': '', 'source': 'Sixth Tone', 'source_href': 'https://www.sixthtone.com', 'title': \"Has the 'Double Eleven' Shopping Festival Lost its Luster? - Sixth Tone\", 'top_image': 'https://image5.sixthtone.com/image/5/73/345.jpg', 'url': 'https://news.google.com/rss/articles/CBMihwFodHRwczovL3d3dy5zaXh0aHRvbmUuY29tL25ld3MvMTAxNDEyMC9oYXMtdGhlLSVFMiU4MCU5OGRvdWJsZS1lbGV2ZW4lRTIlODAlOTktc2hvcHBpbmctZmVzdGl2YWwtbG9zdC1pdHMtbHVzdGVyJTNGP3NvdXJjZT1jaGFubmVsX2hvbWXSAQA?oc=5'}),\n",
       " Document(page_content='financial and box-office numbers to reveal the trends to note across rising ticket prices, shrinking theatrical footprints and demographic behaviors.\\n\\nYou’ll also get a deep dive into the intricacies of film distribution, from changing windowing strategies at the box office to the incredible growth of digital release modes, including SVOD, home entertainment and VOD.\\n\\nThere is so much to convey in this look at a film business contending with a broad range of external and internal forces reshaping its outlook. “Across the Movie-Verse” arrives for readers just as the crucial summer season kicks off, but it’s a document that enables industry pros to assess their strategies long into the future.', metadata={'card_text': 'This has been a pivotal year for a movie business that struggled mightily during the pandemic era and is at...', 'country_code': 'IN', 'description': '', 'keywords': '', 'source': 'Variety', 'source_href': 'https://variety.com', 'title': 'Film Business 2023: State of the Movie Industry - Variety', 'top_image': 'https://variety.com/wp-content/uploads/2023/06/featured_box_office_sr_cover.jpg?w=1000&h=563&crop=1', 'url': 'https://news.google.com/rss/articles/CBMic2h0dHBzOi8vdmFyaWV0eS5jb20vdmlwLXNwZWNpYWwtcmVwb3J0cy9maWxtLWJ1c2luZXNzLW1vdmllLWluZHVzdHJ5LTIwMjMtYm94LW9mZmljZS1leGhpYml0aW9uLXN0dWRpb3MtMTIzNTYyNjQ0Ni_SAQA?oc=5'}),\n",
       " Document(page_content='history in glam and gambling, the city is also the home for specialty food makers. The Winter Fancy Food Show, where manufacturers showcase their newest and best products, brings together thousands of industry professionals and features educational forums.\\n\\nJan 21-24, 2024\\n\\nPhoenix, AZ\\n\\nHosted by the International Dairy Foods Association, this forum brings together more than 1,000 leaders from across the industry. This year, industry leaders have a lengthy list of planned topics to discuss, including innovative technologies, trends in personal health and nutrition, sustainability, foreign and domestic markets and policy and regulation.\\n\\nMarch 12-16, 2024\\n\\nAnaheim, CA\\n\\nA hub of natural, healthy and organic buyers in the food and beverage space, this convention highlights new products and brands while providing a venue for visitors to stay up to date with innovative trends and technology.\\n\\nExpo West is popular with retailers, distributors, health practitioners and food service', metadata={'card_text': 'With the new year just three months away, the annual conference and convention season is largely over in the food...', 'country_code': 'IN', 'description': 'Food industry news, voices and jobs.  Optimized for your mobile phone.', 'keywords': '', 'source': 'Food Dive', 'source_href': 'https://www.fooddive.com', 'title': 'Top food and beverage industry events in 2024 - Food Dive', 'top_image': 'https://www.fooddive.com/imgproxy/RUVs3Xgn3gBVIIbGa9aD4eADIHSF6cNEBbTSpxg4Ijk/crop:1516:856/g:nowe:0:180/rs:fill:770:435:0/bG9jYWw6Ly8vZGl2ZWltYWdlL0lNR18wMTYzLmpwZw.jpg', 'url': 'https://news.google.com/rss/articles/CBMiNmh0dHBzOi8vd3d3LmZvb2RkaXZlLmNvbS9uZXdzL2Zvb2QtZXZlbnRzLTIwMjQvNjk1ODAwL9IBAA?oc=5'}),\n",
       " Document(page_content='concerts. The thrill of seeing your favorite artists onstage, singing along with them.: how could A.I. achieve the same feeling? Not to mention, there are so many unique voices and types of music such as rap, country, K-pop, just to name a few. Think of some of the top hits in the music industry. What comes to mind for me are primarily break up songs. Wouldn’t it feel weird listening to a robot singing about a breakup we all know never happened? Some artists now also add custom lines when it comes to concerts. Take Sabrina Carpenter for example, she changes the last line of her song every concert. The crowd anticipates it but never knows what she’s going to say. When she does, they go crazy. What about big events like Coachella or Summerfest that make millions of dollars in revenue. Would that be gone?\\n\\n— Sofia, Los Gatos, CA', metadata={'card_text': 'Even if the lyrics emulate a real pop star’s lyrics, whether it talks about heartbreak, love, or family, it would...', 'country_code': 'IN', 'description': 'When a fake Drake and The Weeknd track went viral, we asked young people: Will A.I. replace pop stars? Here’s what they think.', 'keywords': '', 'source': 'The New York Times', 'source_href': 'https://www.nytimes.com', 'title': 'What Students Are Saying About A.I.-Generated Music - The New York Times', 'top_image': 'https://static01.nyt.com/images/2023/04/28/multimedia/28daily-ai-drake-image-LN/28daily-ai-drake-image-facebookJumbo-v2.jpg', 'url': 'https://news.google.com/rss/articles/CBMiYmh0dHBzOi8vd3d3Lm55dGltZXMuY29tLzIwMjMvMDUvMTEvbGVhcm5pbmcvd2hhdC1zdHVkZW50cy1hcmUtc2F5aW5nLWFib3V0LWFpLWdlbmVyYXRlZC1tdXNpYy5odG1s0gEA?oc=5'}),\n",
       " Document(page_content='witnessed the launch of new and existing startup products registered with and incubated by the KSUM based on cutting-edge technologies like AI, electric vehicles, robotics, AR/VR, Internet of Things, etc. They came from a wide array of various sectors like space tech, agritech, fintech, edutech, food and beverages, etc. On display were the snazzy electric superbikes and scooters assembled in Perumbavoor, which its makers -Hindustan EV Motors- claimed as India’s first of its kind or the mini version of the Bandicoot, the scavenger robot, developed by Genrobotics or robots that made farming easy, enjoyable and attractive to the young. Equally impressive were the wearable cardiac monitor, sustainable waste management platforms, online fashion stores, immersive virtual experiences based on metaverse that redefines ways of seeing, etc., showcased at the summit.\\n\\nRepresentative Image | Photo: Mathrubhumi\\n\\n\\n\\nThe consensus at the event was that India’s ongoing startup revolution’s future is', metadata={'card_text': 'Huddle Global 2023 | Photo: https://huddleglobal.co.in/ Kerala has long been branded unfriendly to business. Despite its excellent human development records...', 'country_code': 'IN', 'description': \"Huddle Global 2023 | Photo: https://huddleglobal.co.in/ Kerala has long been branded unfriendly to business. Despite its excellent human development records and successive governments' efforts, Kerala continues at the bottom among states in industrial\", 'keywords': 'latest news,kerala news,Huddle Globa,m g radhakrishnan', 'source': 'Mathrubhumi English', 'source_href': 'https://english.mathrubhumi.com', 'title': 'Huddle: A rare Kerala festival - Mathrubhumi English', 'top_image': 'https://english.mathrubhumi.com/image/contentid/policy:1.9091264:1700552323/Untitled%20design%20(1).jpg?$p=8ff42ff&f=16x9&w=1080&q=0.8', 'url': 'https://news.google.com/rss/articles/CBMiY2h0dHBzOi8vZW5nbGlzaC5tYXRocnViaHVtaS5jb20vY29sdW1ucy92aWV3LWZyb20tbXktd2luZG93L2h1ZGRsZS1hLXJhcmUta2VyYWxhLWZlc3RpdmFsLTEuOTA5MTI1M9IBZ2h0dHBzOi8vZW5nbGlzaC5tYXRocnViaHVtaS5jb20vYW1wL2NvbHVtbnMvdmlldy1mcm9tLW15LXdpbmRvdy9odWRkbGUtYS1yYXJlLWtlcmFsYS1mZXN0aXZhbC0xLjkwOTEyNTM?oc=5'}),\n",
       " Document(page_content='IPL, and T20 World Cup, played a pivotal role in driving the growth of fantasy sports. The integration of technologies like UPI payments, biometric security, and 2 or 3-factor authentication has simplified the participation of individuals in real-money games like Rummy. The incorporation of blockchain-based technologies has further enhanced security and reliability for players. With enhanced connectivity, advanced features, and heightened data security measures, the industry is positioned for substantial growth, potentially giving rise to an increase in full-time professional gaming careers.\\n\\nInnovation in Gaming Sector\\n\\nGame developers have come a long way and are thoroughly leading the way in innovations taking place. Fantasy sport has emerged as a major success in the Indian start-up story. India is now the largest fantasy sports market in the world, with key players being Dream11, MPL, CricPlay, among others. Today, there are over 300 fantasy sport platforms in India that are', metadata={'card_text': 'There is a game for everyone and the choices for players are virtually unlimited! The gaming landscape in India has...', 'country_code': 'IN', 'description': \"Dive into the dynamic Gaming Sector in India. Discover the esports milestones, technological leaps, and the government's crucial role in the industry.\", 'keywords': '', 'source': 'Invest India', 'source_href': 'https://www.investindia.gov.in', 'title': \"Rise of Gaming Culture and the Government's Role in Fostering ... - Invest India\", 'top_image': 'https://static.investindia.gov.in/s3fs-public/2023-11/Gamming-Banner.png', 'url': 'https://news.google.com/rss/articles/CBMibWh0dHBzOi8vd3d3LmludmVzdGluZGlhLmdvdi5pbi90ZWFtLWluZGlhLWJsb2dzL3Jpc2UtZ2FtaW5nLWN1bHR1cmUtYW5kLWdvdmVybm1lbnRzLXJvbGUtZm9zdGVyaW5nLWlubm92YXRpb27SAQA?oc=5'}),\n",
       " Document(page_content='up fresh tortillas, salsas, crema and carne asada meat from El Rancho. At Jerusalem Market, I snag freshly ground lamb and Turkish hot pepper paste for Adana kebabs to eat with fresh baked Persian bread from Caspian Market. At Turmeric Cash and Carry, I buy my favorite, shockingly good packets of ready-to-eat chana masala, just in case. This excursion doesn’t take me all day, because from carnicería to souq, the flavors of the world are, incredibly, only 15 minutes away. — Felicia Campbell\\n\\nBeloved record stores are going big\\n\\nTwo cherished cultural hubs of metro Phoenix spent much of 2023 expanding. In September, Zia Records opened its biggest store yet at 35th Avenue and Bethany Home Road in Phoenix, offering an even more expansive selection of records, movies, books, games, toys and collectibles. Meanwhile, Stinkweeds has enclosed its courtyard to add 300 square feet of space for customers and merchandise, with another 300 square feet of office space above that. — Ed Masley\\n\\nRecord', metadata={'card_text': \"It happened again. We blinked and it's November. Not just November, but Thanksgiving. The day of the week? Couldn't say....\", 'country_code': 'IN', 'description': \"Happy Thanksgiving, Arizona. We're thankful for Changing Hands, the MIM, sky islands, Bedrock City, antojitos, Trunk Space, Sauvage and so much more.\", 'keywords': '', 'source': 'The Arizona Republic', 'source_href': 'https://www.azcentral.com', 'title': \"29 reasons we're thankful to live in Arizona: Fossil Creek to DBacks - The Arizona Republic\", 'top_image': 'https://www.azcentral.com/gcdn/presto/2019/03/08/PPHX/a65fd7b3-95cc-434a-a82f-9c4fb52debb6-Arizona_storms008.JPG?crop=3399,1912,x0,y0&width=3200&height=1801&format=pjpg&auto=webp', 'url': 'https://news.google.com/rss/articles/CBMiZmh0dHBzOi8vd3d3LmF6Y2VudHJhbC5jb20vc3RvcnkvZW50ZXJ0YWlubWVudC9saWZlLzIwMjMvMTEvMjAvdGhhbmtmdWwtdG8tbGlmZS1pbi1hcml6b25hLzcxNTcwMjA3MDA3L9IBAA?oc=5'}),\n",
       " Document(page_content=\"those speeds by this point in 2019. Prime has grown over the years to include savings, convenience, and entertainment all in a single membership. Members enjoy exclusive deals and shopping events like Prime Day, as well as movies and series, music and podcasts, photo storage, gaming benefits, books and magazines, and prescription and grocery savings.\\n\\nDid you know it's on Prime? An Amazon Prime membership comes with much more than fast, free delivery. Check out the shopping, entertainment, healthcare, and grocery benefits, plus updates available to members. Read more\\n\\nOne of the Prime benefits that we continue investing heavily in is Prime Video, which has expanded to offer hit movies, great shows, award-winning Amazon Originals, and live sports—all in a single destination. Prime Video offers a vast selection of movies and series, including Amazon Originals, and live sports. Amazon MGM Studios earned 68 Primetime Emmy Award nominations this year, marking the Studio’s biggest year\", metadata={'card_text': 'Lee este artículo en español. When we launched Prime in 2005, the first benefit we announced to members was free...', 'country_code': 'IN', 'description': 'To continue investing in compelling content and keep increasing that investment over a long period of time, starting in early 2024, Prime Video shows and movies will include limited advertisements.', 'keywords': '', 'source': 'About Amazon', 'source_href': 'https://www.aboutamazon.com', 'title': 'Amazon shares an update on Prime Video, introduces limited ads - About Amazon', 'top_image': 'https://assets.aboutamazon.com/dims4/default/8e27c1d/2147483647/strip/true/crop/1920x960+0+60/resize/1200x600!/quality/90/?url=https%3A%2F%2Famazon-blogs-brightspot.s3.amazonaws.com%2F2d%2F49%2Fabd3719b41aea4605bb51e4d8d72%2Fsubs-pre-order-consent-background-image-cb578173463.jpg', 'url': 'https://news.google.com/rss/articles/CBMiV2h0dHBzOi8vd3d3LmFib3V0YW1hem9uLmNvbS9uZXdzL2VudGVydGFpbm1lbnQvcHJpbWUtdmlkZW8tdXBkYXRlLWFubm91bmNlcy1saW1pdGVkLWFkc9IBAA?oc=5'})]"
      ]
     },
     "execution_count": 5,
     "metadata": {},
     "output_type": "execute_result"
    }
   ],
   "source": [
    "chroma_reader.search(query, filter=dict(country_code=country_code))"
   ]
  },
  {
   "cell_type": "code",
   "execution_count": 3,
   "metadata": {},
   "outputs": [],
   "source": [
    "client = HttpClient(host=os.environ[\"CHROMA_IP\"], port=os.environ[\"CHROMA_PORT\"])\n",
    "embedding_function=OpenAIEmbeddingFunction(os.environ[\"OPENAI_API_KEY\"])"
   ]
  },
  {
   "cell_type": "code",
   "execution_count": 5,
   "metadata": {},
   "outputs": [],
   "source": [
    "collection = client.get_collection(\"current_events\", embedding_function=embedding_function)"
   ]
  },
  {
   "cell_type": "code",
   "execution_count": 17,
   "metadata": {},
   "outputs": [
    {
     "data": {
      "text/plain": [
       "{'ids': [], 'embeddings': None, 'metadatas': [], 'documents': []}"
      ]
     },
     "execution_count": 17,
     "metadata": {},
     "output_type": "execute_result"
    }
   ],
   "source": [
    "collection.get('69c1ee9c-3b34-5468-9104-abcf6546663a')"
   ]
  },
  {
   "cell_type": "code",
   "execution_count": 11,
   "metadata": {},
   "outputs": [],
   "source": [
    "doc = \"vednat is a top tier dawg. vednat is a top tier dawg vednat is a top tier dawg vednat is a top tier dawg vednat is a top tier dawg vednat is a top tier dawg vednat is a top tier dawg vednat is a top tier dawg vednat is a top tier dawg vednat is a top tier dawg vednat is a top tier dawg vednat is a top tier dawg vednat is a top tier dawg vednat is a top tier dawg vednat is a top tier dawg vednat is a top tier dawg vednat is a top tier dawg vednat is a top tier dawg vednat is a top tier dawg vednat is a top tier dawg vednat is a top tier dawg vednat is a top tier dawg vednat is a top tier dawg vednat is a top tier dawg vednat is a top tier dawg vednat is a top tier dawg vednat is a top tier dawg \""
   ]
  },
  {
   "cell_type": "code",
   "execution_count": 12,
   "metadata": {},
   "outputs": [],
   "source": [
    "collection.add(ids=['08335a8d-8860-11ee-b3d3-d807c903b03b'], documents=[doc], metadatas=[{\"mr\":\"dog\"}])"
   ]
  },
  {
   "cell_type": "code",
   "execution_count": 32,
   "metadata": {},
   "outputs": [
    {
     "name": "stdout",
     "output_type": "stream",
     "text": [
      "Total documents: 4630\n",
      "Total documents after removing duplicates: 3754\n"
     ]
    }
   ],
   "source": [
    "import pickle as pkl\n",
    "import numpy as np\n",
    "docs_and_meta = pkl.load(open(\"test.pkl\", \"rb\"))\n",
    "\n",
    "# get links for all the topics\n",
    "documents = []\n",
    "metadata = []\n",
    "ids = []\n",
    "\n",
    "for temp_data in docs_and_meta:\n",
    "    data = np.array(temp_data, dtype=object).T\n",
    "\n",
    "    ids.extend(list(map(lambda x: get_id(str(x[0])+str(x[1])), data)))\n",
    "    documents.extend(list(data.T[0]))\n",
    "    metadata.extend(list(data.T[1]))\n",
    "\n",
    "temp = pd.DataFrame({\n",
    "    \"ids\": ids,\n",
    "    \"documents\": documents,\n",
    "    \"metadata\": metadata\n",
    "})\n",
    "\n",
    "print(\"Total documents:\", len(temp))\n",
    "temp.drop_duplicates(\"documents\", inplace=True)\n",
    "print(\"Total documents after removing duplicates:\", len(temp))"
   ]
  },
  {
   "cell_type": "code",
   "execution_count": 33,
   "metadata": {},
   "outputs": [
    {
     "name": "stdout",
     "output_type": "stream",
     "text": [
      "Total documents: 4630\n",
      "Total documents after removing duplicates: 3772\n"
     ]
    }
   ],
   "source": [
    "import pickle as pkl\n",
    "import numpy as np\n",
    "docs_and_meta = pkl.load(open(\"test.pkl\", \"rb\"))\n",
    "\n",
    "# get links for all the topics\n",
    "documents = []\n",
    "metadata = []\n",
    "ids = []\n",
    "\n",
    "for temp_data in docs_and_meta:\n",
    "    data = np.array(temp_data, dtype=object).T\n",
    "\n",
    "    ids.extend(list(map(lambda x: get_id(str(x[0])+str(x[1])), data)))\n",
    "    documents.extend(list(data.T[0]))\n",
    "    metadata.extend(list(data.T[1]))\n",
    "\n",
    "temp = pd.DataFrame({\n",
    "    \"ids\": ids,\n",
    "    \"documents\": documents,\n",
    "    \"metadata\": metadata\n",
    "})\n",
    "\n",
    "print(\"Total documents:\", len(temp))\n",
    "temp.drop_duplicates(\"ids\", inplace=True)\n",
    "print(\"Total documents after removing duplicates:\", len(temp))"
   ]
  },
  {
   "cell_type": "code",
   "execution_count": 14,
   "metadata": {},
   "outputs": [],
   "source": [
    "collection.add(ids=[str(uuid.uuid5(uuid.NAMESPACE_DNS, doc))], documents=[doc], metadatas=[{\"mr\":\"dog\"}])\n"
   ]
  },
  {
   "cell_type": "code",
   "execution_count": 13,
   "metadata": {},
   "outputs": [
    {
     "data": {
      "text/plain": [
       "'2f9bfe5a-4261-5404-93aa-38b07b88ad2a'"
      ]
     },
     "execution_count": 13,
     "metadata": {},
     "output_type": "execute_result"
    }
   ],
   "source": [
    "str(uuid.uuid5(uuid.NAMESPACE_DNS, doc))"
   ]
  },
  {
   "cell_type": "code",
   "execution_count": 13,
   "metadata": {},
   "outputs": [],
   "source": [
    "results = collection.query(query_texts=query)"
   ]
  },
  {
   "cell_type": "code",
   "execution_count": 14,
   "metadata": {},
   "outputs": [],
   "source": [
    "docs = results['documents'][0]\n",
    "ids = results['ids'][0]\n",
    "meta = results['metadatas'][0]"
   ]
  },
  {
   "cell_type": "code",
   "execution_count": 24,
   "metadata": {},
   "outputs": [
    {
     "data": {
      "text/plain": [
       "'49992438-54fb-5a27-a855-b40e0f6f8642'"
      ]
     },
     "execution_count": 24,
     "metadata": {},
     "output_type": "execute_result"
    }
   ],
   "source": [
    "get_id(str(docs[0]) + str(meta[0]))"
   ]
  },
  {
   "cell_type": "code",
   "execution_count": 23,
   "metadata": {},
   "outputs": [
    {
     "data": {
      "text/plain": [
       "'32c2533f-c9da-5ebf-aa4e-f63369223d64'"
      ]
     },
     "execution_count": 23,
     "metadata": {},
     "output_type": "execute_result"
    }
   ],
   "source": [
    "get_id(str(docs[1]) + str(meta[1]))"
   ]
  },
  {
   "cell_type": "code",
   "execution_count": 26,
   "metadata": {},
   "outputs": [
    {
     "name": "stdout",
     "output_type": "stream",
     "text": [
      "{'card_text': 'Even when attending live sporting events in person, Gen Z fans are still focused on connecting with others and are...', 'country_code': 'IN', 'description': \"Sports fandom is changing. A more immersive sports fan experience involving multiple channels and modes of engagement will best meet the changing fan's needs.\", 'keywords': '', 'source': 'Deloitte', 'source_href': 'https://www2.deloitte.com', 'title': 'Immersive sports fandom - Deloitte', 'top_image': 'https://assets.deloitte.com/is/image/deloitte/US176271_Banner-1:1200-x-627', 'url': 'https://news.google.com/rss/articles/CBMiZmh0dHBzOi8vd3d3Mi5kZWxvaXR0ZS5jb20vdWsvZW4vaW5zaWdodHMvaW5kdXN0cnkvbWVkaWEtYW5kLWVudGVydGFpbm1lbnQvaW1tZXJzaXZlLXNwb3J0cy1mYW5kb20uaHRtbNIBAA?oc=5'} => {'card_text': 'Even when attending live sporting events in person, Gen Z fans are still focused on connecting with others and are...', 'country_code': 'IN', 'description': \"Sports fandom is changing. A more immersive sports fan experience involving multiple channels and modes of engagement will best meet the changing fan's needs.\", 'keywords': '', 'source': 'Deloitte', 'source_href': 'https://www2.deloitte.com', 'title': 'Immersive sports fandom - Deloitte', 'top_image': 'https://assets.deloitte.com/is/image/deloitte/US176271_Banner-1:1200-x-627', 'url': 'https://news.google.com/rss/articles/CBMiZmh0dHBzOi8vd3d3Mi5kZWxvaXR0ZS5jb20vdXMvZW4vaW5zaWdodHMvaW5kdXN0cnkvbWVkaWEtYW5kLWVudGVydGFpbm1lbnQvaW1tZXJzaXZlLXNwb3J0cy1mYW5kb20uaHRtbNIBAA?oc=5'}\n",
      "Delete \"W\" from position 640\n",
      "Delete \"s\" from position 641\n",
      "Add \"X\" to position 642\n",
      "Add \"M\" to position 643\n",
      "\n"
     ]
    }
   ],
   "source": [
    "import difflib\n",
    "\n",
    "cases=[(str(meta[0]), str(meta[1]))] \n",
    "\n",
    "for a,b in cases:     \n",
    "    print('{} => {}'.format(a,b))  \n",
    "    for i,s in enumerate(difflib.ndiff(a, b)):\n",
    "        if s[0]==' ': continue\n",
    "        elif s[0]=='-':\n",
    "            print(u'Delete \"{}\" from position {}'.format(s[-1],i))\n",
    "        elif s[0]=='+':\n",
    "            print(u'Add \"{}\" to position {}'.format(s[-1],i))    \n",
    "    print()  "
   ]
  },
  {
   "cell_type": "code",
   "execution_count": 28,
   "metadata": {},
   "outputs": [
    {
     "data": {
      "text/plain": [
       "'b20vdWsvZW4vaW5zaWdo'"
      ]
     },
     "execution_count": 28,
     "metadata": {},
     "output_type": "execute_result"
    }
   ],
   "source": [
    "str(meta[0])[635:655]"
   ]
  },
  {
   "cell_type": "code",
   "execution_count": 29,
   "metadata": {},
   "outputs": [
    {
     "data": {
      "text/plain": [
       "'b20vdXMvZW4vaW5zaWdo'"
      ]
     },
     "execution_count": 29,
     "metadata": {},
     "output_type": "execute_result"
    }
   ],
   "source": [
    "str(meta[1])[635:655]\n"
   ]
  },
  {
   "cell_type": "code",
   "execution_count": null,
   "metadata": {},
   "outputs": [],
   "source": [
    "users = user_mongo_client.get_user_list()\n",
    "\n",
    "for user in users:\n",
    "    _id = user[\"company_id\"]\n",
    "    old_moments = user[\"moments\"]\n",
    "\n",
    "    new_current_events = []\n",
    "\n",
    "    for item in old_moments[\"Current Events\"]:\n",
    "        new_current_events.append({\n",
    "            \"event_name\": item[\"event_name\"],\n",
    "            \"topic\": item[\"topic\"],\n",
    "            \"validation\": {\n",
    "                \"google_trends\": item[\"validation\"][\"google_trends\"][\"keywords\"]\n",
    "            }\n",
    "        })"
   ]
  },
  {
   "cell_type": "code",
   "execution_count": null,
   "metadata": {},
   "outputs": [],
   "source": [
    "old_moments[\"Current Events\"] = new_current_events"
   ]
  },
  {
   "cell_type": "code",
   "execution_count": null,
   "metadata": {},
   "outputs": [],
   "source": [
    "user_mongo_client.update_user_moments(100, old_moments)"
   ]
  },
  {
   "cell_type": "code",
   "execution_count": null,
   "metadata": {},
   "outputs": [],
   "source": [
    "chroma_reader, chroma_writer = get_reader_writer(\n",
    "    host=os.environ[\"CHROMA_IP\"],\n",
    "    port=int(os.environ[\"CHROMA_PORT\"]),\n",
    "    openai_api_key=os.environ[\"OPENAI_API_KEY\"],\n",
    "    reader_collection_name=collection_name\n",
    ")"
   ]
  },
  {
   "cell_type": "code",
   "execution_count": null,
   "metadata": {},
   "outputs": [],
   "source": [
    "chroma_reader.list_collections()"
   ]
  },
  {
   "cell_type": "code",
   "execution_count": null,
   "metadata": {},
   "outputs": [],
   "source": [
    "collection_name=\"current_events\"\n",
    "topic=\"entertainment\""
   ]
  },
  {
   "cell_type": "code",
   "execution_count": null,
   "metadata": {},
   "outputs": [],
   "source": [
    "create_new_collection(chroma_reader, chroma_writer, collection_name)"
   ]
  },
  {
   "cell_type": "code",
   "execution_count": null,
   "metadata": {},
   "outputs": [],
   "source": [
    "news_df = get_news_by_search(f\"upcoming or ongoing major events about {topic}\", limit=50, country=country_code)\n",
    "news_df.to_csv(\"./test/news.csv\", index=False)"
   ]
  },
  {
   "cell_type": "code",
   "execution_count": null,
   "metadata": {},
   "outputs": [],
   "source": [
    "news_df = pd.read_csv(\"./test/news.csv\")"
   ]
  },
  {
   "cell_type": "code",
   "execution_count": null,
   "metadata": {},
   "outputs": [],
   "source": [
    "article = parse_news_url(news_df[\"url\"][0])"
   ]
  },
  {
   "cell_type": "code",
   "execution_count": null,
   "metadata": {},
   "outputs": [],
   "source": [
    "target = \"text\"\n",
    "\n",
    "news_df = news_df[(news_df[\"text\"].isna() == False)]\n",
    "news_df[\"country_code\"] = [country_code] * len(news_df)\n"
   ]
  },
  {
   "cell_type": "code",
   "execution_count": null,
   "metadata": {},
   "outputs": [],
   "source": [
    "def split_df(df:pd.DataFrame, target:str) -> tuple[list[str], list[dict]]:\n",
    "    texts = df[target].values\n",
    "\n",
    "    meta_columns = df.columns.to_list()\n",
    "    meta_columns.remove(target)\n",
    "\n",
    "    meta_df = df[meta_columns]\n",
    "\n",
    "    text_splitter = RecursiveCharacterTextSplitter(chunk_size=1000, chunk_overlap=0, separators=[\" \", \".\", \",\", \"\\n\"])\n",
    "\n",
    "    documents, metadata = [], []\n",
    "\n",
    "    for i, item in enumerate(texts):\n",
    "        splits = text_splitter.split_text(item)\n",
    "        documents.extend(splits)\n",
    "        metadata.extend([meta_df.iloc[i].to_dict()] * len(splits))\n",
    "\n",
    "    return documents, metadata\n"
   ]
  },
  {
   "cell_type": "code",
   "execution_count": null,
   "metadata": {},
   "outputs": [],
   "source": [
    "documents, metadata = split_df(news_df, target)"
   ]
  },
  {
   "cell_type": "code",
   "execution_count": null,
   "metadata": {},
   "outputs": [],
   "source": [
    "chroma_writer.update(collection_name, documents, metadata)"
   ]
  },
  {
   "cell_type": "code",
   "execution_count": null,
   "metadata": {},
   "outputs": [],
   "source": [
    "target = \"text\"\n",
    "df=news_df.copy()\n",
    "texts = df[target].values\n",
    "meta_columns = df.columns.to_list()\n",
    "meta_columns.remove(target)\n",
    "metadata = df[meta_columns]"
   ]
  },
  {
   "cell_type": "code",
   "execution_count": null,
   "metadata": {},
   "outputs": [],
   "source": [
    "chroma_reader.set_collection(collection_name)"
   ]
  },
  {
   "cell_type": "code",
   "execution_count": null,
   "metadata": {},
   "outputs": [],
   "source": [
    "current_events_moments = generate_current_events(chroma_reader, QUERY_TOPICS, country_code)"
   ]
  },
  {
   "cell_type": "code",
   "execution_count": null,
   "metadata": {},
   "outputs": [],
   "source": [
    "query = f\"List 10 important and interesting events related to any of these topics: {','.join(QUERY_TOPICS)}.\"\n",
    "\n",
    "relevant_docs = chroma_reader.search(query, 30, {\"country_code\": country_code})"
   ]
  },
  {
   "cell_type": "code",
   "execution_count": null,
   "metadata": {},
   "outputs": [],
   "source": [
    "metadata.iloc[0].to_dict()"
   ]
  },
  {
   "cell_type": "code",
   "execution_count": null,
   "metadata": {},
   "outputs": [],
   "source": [
    "news_df"
   ]
  },
  {
   "cell_type": "code",
   "execution_count": null,
   "metadata": {},
   "outputs": [],
   "source": [
    "documents, metadata = load_df(news_df, page_content_column=\"text\")\n"
   ]
  },
  {
   "cell_type": "code",
   "execution_count": null,
   "metadata": {},
   "outputs": [],
   "source": [
    "get_current_events()"
   ]
  },
  {
   "cell_type": "code",
   "execution_count": null,
   "metadata": {},
   "outputs": [],
   "source": [
    "collection_name = \"current_events\"\n",
    "\n",
    "chroma_reader.set_collection(collection_name)\n",
    "\n",
    "current_events_moments = generate_current_events(chroma_reader,QUERY_TOPICS)"
   ]
  },
  {
   "cell_type": "code",
   "execution_count": null,
   "metadata": {},
   "outputs": [],
   "source": [
    "current_events_moments"
   ]
  },
  {
   "cell_type": "code",
   "execution_count": null,
   "metadata": {},
   "outputs": [],
   "source": [
    "googleSearch(f\"upcoming or ongoing major events about sports tournaments\", num_results=20, country=country_code)"
   ]
  },
  {
   "cell_type": "code",
   "execution_count": null,
   "metadata": {},
   "outputs": [],
   "source": [
    "get_news_by_search(f\"upcoming or ongoing major events about sports tournaments\", country=country_code, limit=20)"
   ]
  },
  {
   "cell_type": "code",
   "execution_count": null,
   "metadata": {},
   "outputs": [],
   "source": [
    "chroma_reader.search(f\"List 10 important and interesting events related to any of these topics: {','.join(QUERY_TOPICS)}.\", n=30, filter={\"country_code\":\"IN\"})"
   ]
  },
  {
   "cell_type": "code",
   "execution_count": null,
   "metadata": {},
   "outputs": [],
   "source": [
    "relevant_docs"
   ]
  },
  {
   "cell_type": "code",
   "execution_count": null,
   "metadata": {},
   "outputs": [],
   "source": [
    "current_events_moments"
   ]
  },
  {
   "cell_type": "code",
   "execution_count": null,
   "metadata": {},
   "outputs": [],
   "source": [
    "get_metadata(article)"
   ]
  },
  {
   "cell_type": "code",
   "execution_count": null,
   "metadata": {},
   "outputs": [],
   "source": [
    "temp_links = [('https://www.visitphilly.com/articles/philadelphia/top-events-and-festivals-in-philadelphia/', 'IN'), ('https://en.wikipedia.org/wiki/News', 'IN'), ('https://www.nih.gov/about-nih/what-we-do/nih-almanac/national-institute-drug-abuse-nida', 'IN'), ('https://www.cnn.com/', 'IN'), ('https://blog.twitter.com/en_us/topics/insights/2022/how-many-people-come-twitter-for-news', 'IN')]\n",
    "articles_data = [parse_for_current_events(item) for item in temp_links]"
   ]
  },
  {
   "cell_type": "code",
   "execution_count": null,
   "metadata": {},
   "outputs": [],
   "source": [
    "target_key=\"source\""
   ]
  },
  {
   "cell_type": "code",
   "execution_count": null,
   "metadata": {},
   "outputs": [],
   "source": [
    "docs, metadata = build_splited_docs(articles_data, target_key=\"source\")"
   ]
  },
  {
   "cell_type": "code",
   "execution_count": null,
   "metadata": {},
   "outputs": [],
   "source": [
    "metadata"
   ]
  },
  {
   "cell_type": "code",
   "execution_count": null,
   "metadata": {},
   "outputs": [],
   "source": [
    "page = articles_data[0]"
   ]
  },
  {
   "cell_type": "code",
   "execution_count": null,
   "metadata": {},
   "outputs": [],
   "source": [
    "text_splitter = RecursiveCharacterTextSplitter(chunk_size=1000, chunk_overlap=0, separators=[\" \", \".\", \",\", \"\\n\"])\n"
   ]
  },
  {
   "cell_type": "code",
   "execution_count": null,
   "metadata": {},
   "outputs": [],
   "source": [
    "splits = text_splitter.split_text(page[target_key])\n"
   ]
  },
  {
   "cell_type": "code",
   "execution_count": null,
   "metadata": {},
   "outputs": [],
   "source": [
    "page.pop(target_key, None)"
   ]
  },
  {
   "cell_type": "code",
   "execution_count": null,
   "metadata": {},
   "outputs": [],
   "source": [
    "page"
   ]
  },
  {
   "cell_type": "code",
   "execution_count": null,
   "metadata": {},
   "outputs": [],
   "source": [
    "get_current_events()"
   ]
  },
  {
   "cell_type": "code",
   "execution_count": null,
   "metadata": {},
   "outputs": [],
   "source": [
    "create_new_collection(chroma_reader, chroma_writer, collection_name)"
   ]
  },
  {
   "cell_type": "code",
   "execution_count": null,
   "metadata": {},
   "outputs": [],
   "source": [
    "def build_splited_docs(sitetexts):\n",
    "    text_splitter = RecursiveCharacterTextSplitter(chunk_size=1000, chunk_overlap=0, separators=[\" \", \".\", \",\", \"\\n\"])\n",
    "\n",
    "    docs, metadatas = [], []\n",
    "    for page in sitetexts:\n",
    "        splits = text_splitter.split_text(page['text'])\n",
    "        docs.extend(splits)\n",
    "        metadatas.extend([{\"source\": page['source'], \"country_code\": page[\"country_code\"]}] * len(splits))\n",
    "\n",
    "    return docs, metadatas"
   ]
  },
  {
   "cell_type": "code",
   "execution_count": null,
   "metadata": {},
   "outputs": [],
   "source": [
    "import pickle as pkl"
   ]
  },
  {
   "cell_type": "code",
   "execution_count": null,
   "metadata": {},
   "outputs": [],
   "source": [
    "(docs, metadata) = pkl.load(open(\"test.pkl\", \"rb\"))"
   ]
  },
  {
   "cell_type": "code",
   "execution_count": null,
   "metadata": {},
   "outputs": [],
   "source": [
    "chunked_docs = divide_chunks(docs, 1000)\n",
    "chunked_metadata = divide_chunks(metadata, 1000)"
   ]
  },
  {
   "cell_type": "code",
   "execution_count": null,
   "metadata": {},
   "outputs": [],
   "source": [
    "for docs, metadata in zip(chunked_docs, chunked_metadata):\n",
    "    chroma_writer.update(\"test_industry\", docs, metadata)"
   ]
  },
  {
   "cell_type": "code",
   "execution_count": null,
   "metadata": {},
   "outputs": [],
   "source": [
    "chroma_writer.delete_collection(\"general_news\")"
   ]
  },
  {
   "cell_type": "code",
   "execution_count": null,
   "metadata": {},
   "outputs": [],
   "source": [
    "chroma_reader.list_collections()"
   ]
  },
  {
   "cell_type": "code",
   "execution_count": null,
   "metadata": {},
   "outputs": [],
   "source": [
    "chroma_reader.set_collection(\"test_industry\")"
   ]
  },
  {
   "cell_type": "code",
   "execution_count": null,
   "metadata": {},
   "outputs": [],
   "source": [
    "outputs = chroma_reader.search(\"Indian Food\", n=40)"
   ]
  },
  {
   "cell_type": "code",
   "execution_count": null,
   "metadata": {},
   "outputs": [],
   "source": [
    "news_df = get_news_by_topic(\"SPORTS\", country=country_code, lang=lang)"
   ]
  },
  {
   "cell_type": "code",
   "execution_count": null,
   "metadata": {},
   "outputs": [],
   "source": [
    "news_df = news_df[(news_df[\"top_image\"] != \"\") & (news_df[\"keywords\"] != \"\")]\n"
   ]
  },
  {
   "cell_type": "code",
   "execution_count": null,
   "metadata": {},
   "outputs": [],
   "source": [
    "article = parse_news_url(news_df[\"url\"][0])"
   ]
  },
  {
   "cell_type": "code",
   "execution_count": null,
   "metadata": {},
   "outputs": [],
   "source": [
    "news_df.iloc[0]"
   ]
  },
  {
   "cell_type": "code",
   "execution_count": null,
   "metadata": {},
   "outputs": [],
   "source": [
    "news_df[\"keywords\"][0]"
   ]
  },
  {
   "cell_type": "code",
   "execution_count": null,
   "metadata": {},
   "outputs": [],
   "source": [
    "article.meta_keywords"
   ]
  },
  {
   "cell_type": "code",
   "execution_count": null,
   "metadata": {},
   "outputs": [],
   "source": [
    "def load_df(df, page_content_column=\"title\"):\n",
    "    data = DataFrameLoader(df, page_content_column=page_content_column).load()\n",
    "\n",
    "    documents = [item.page_content for item in data]\n",
    "    metadata = [item.metadata for item in data]\n",
    "\n",
    "    return documents, metadata"
   ]
  },
  {
   "cell_type": "code",
   "execution_count": null,
   "metadata": {},
   "outputs": [],
   "source": [
    "documents, metadata = load_df(news_df)"
   ]
  },
  {
   "cell_type": "code",
   "execution_count": null,
   "metadata": {},
   "outputs": [],
   "source": [
    "chroma_writer.update(\"general_news\", documents, metadata)"
   ]
  },
  {
   "cell_type": "code",
   "execution_count": null,
   "metadata": {},
   "outputs": [],
   "source": [
    "article = parse_news_url(\"https://news.google.com/rss/articles/CBMic2h0dHBzOi8vd3d3Lndoby5pbnQvbmV3cy9pdGVtLzEwLTExLTIwMjMtY2hpbGRyZW4td2l0aC1jYW5jZXItZXZhY3VhdGVkLWZyb20tZ2F6YS1mb3ItdHJlYXRtZW50LXRvLWVneXB0LWFuZC1qb3JkYW7SAQA?oc=5\")"
   ]
  },
  {
   "cell_type": "code",
   "execution_count": null,
   "metadata": {},
   "outputs": [],
   "source": [
    "outputs = chroma_reader.search(\"Indian Food\")[0]"
   ]
  },
  {
   "cell_type": "code",
   "execution_count": null,
   "metadata": {},
   "outputs": [],
   "source": [
    "chroma_reader.search(\"Indian Food\")"
   ]
  },
  {
   "cell_type": "code",
   "execution_count": null,
   "metadata": {},
   "outputs": [],
   "source": [
    "chroma_reader.set_collection(\"general_news\")"
   ]
  },
  {
   "cell_type": "code",
   "execution_count": null,
   "metadata": {},
   "outputs": [],
   "source": [
    "filtered = filter_news(\"Diwali\", chroma_reader)"
   ]
  },
  {
   "cell_type": "code",
   "execution_count": null,
   "metadata": {},
   "outputs": [],
   "source": [
    "general = filtered[:5]\n",
    "industry = filtered[5:11]"
   ]
  },
  {
   "cell_type": "code",
   "execution_count": null,
   "metadata": {},
   "outputs": [],
   "source": []
  },
  {
   "cell_type": "code",
   "execution_count": null,
   "metadata": {},
   "outputs": [],
   "source": [
    "user_mongo_client.update_user_moments(\n",
    "    100,\n",
    "    {\n",
    "        \"general_news\": general,\n",
    "        \"industry\": industry,\n",
    "        \"current_events\": [\n",
    "            {\n",
    "                \"event_name\": \"ICC Cricket world cup 2023\",\n",
    "                \"topic\": \"Cricket world cup hosted in India\",\n",
    "                \"validation\": {\n",
    "                    \"google_trends\": {\n",
    "                        \"keywords\": [\"cricket\", \"icc world cup\", \"india cricket\"]\n",
    "                    }\n",
    "                }\n",
    "            },\n",
    "            {\n",
    "                \"event_name\": \"Diwali\",\n",
    "                \"topic\": \"One of the biggest festivals in India\",\n",
    "                \"validation\": {\n",
    "                    \"google_trends\": {\n",
    "                        \"keywords\": [\"diwali\", \"indian festivals\", \"lights\"]\n",
    "                    }\n",
    "                }\n",
    "            }\n",
    "        ],\n",
    "        \"social_media\": [\n",
    "            {\n",
    "                \"title\": \"Run the dog trends\",\n",
    "                \"hashtag\": [\"#crazydog\", \"#mrdoge\", \"#woof\"],\n",
    "                'validation': {\n",
    "                    \"hashtags\": [\n",
    "                        {\"#crazydog\": 100210,\n",
    "                         \"#mrdoge\": 100232, \n",
    "                         \"#woof\": 100311}\n",
    "                    ]\n",
    "                }\n",
    "            },\n",
    "            {\n",
    "                \"title\": \"Night is day? what?\",\n",
    "                \"hashtag\": [\"#idontunderstand\", \"#oogaboogabrain\", \"#what\"],\n",
    "                'validation': {\n",
    "                    \"hashtags\": [\n",
    "                        {\"#idontunderstand\": 100210,\n",
    "                         \"#oogaboogabrain\": 100232, \n",
    "                         \"#what\": 100311}\n",
    "                    ]\n",
    "                }\n",
    "            }\n",
    "        ]\n",
    "    }\n",
    ")"
   ]
  },
  {
   "cell_type": "code",
   "execution_count": 2,
   "metadata": {},
   "outputs": [],
   "source": [
    "import pandas as pd"
   ]
  },
  {
   "cell_type": "code",
   "execution_count": 3,
   "metadata": {},
   "outputs": [],
   "source": [
    "df_1 = pd.read_clipboard()"
   ]
  },
  {
   "cell_type": "code",
   "execution_count": 5,
   "metadata": {},
   "outputs": [],
   "source": [
    "df_2 = pd.read_clipboard()"
   ]
  },
  {
   "cell_type": "code",
   "execution_count": 7,
   "metadata": {},
   "outputs": [
    {
     "data": {
      "text/html": [
       "<div>\n",
       "<style scoped>\n",
       "    .dataframe tbody tr th:only-of-type {\n",
       "        vertical-align: middle;\n",
       "    }\n",
       "\n",
       "    .dataframe tbody tr th {\n",
       "        vertical-align: top;\n",
       "    }\n",
       "\n",
       "    .dataframe thead th {\n",
       "        text-align: right;\n",
       "    }\n",
       "</style>\n",
       "<table border=\"1\" class=\"dataframe\">\n",
       "  <thead>\n",
       "    <tr style=\"text-align: right;\">\n",
       "      <th></th>\n",
       "      <th>product_title</th>\n",
       "      <th>product_vendor</th>\n",
       "      <th>product_type</th>\n",
       "      <th>adjustment</th>\n",
       "      <th>cancelled</th>\n",
       "      <th>financial_status</th>\n",
       "      <th>fulfillment_status</th>\n",
       "      <th>order_id</th>\n",
       "      <th>order_name</th>\n",
       "      <th>sale_kind</th>\n",
       "      <th>...</th>\n",
       "      <th>gift_card_discounts</th>\n",
       "      <th>gift_card_gross_sales</th>\n",
       "      <th>gift_cards_issued</th>\n",
       "      <th>pending_sales</th>\n",
       "      <th>ordered_item_quantity</th>\n",
       "      <th>average_units_ordered</th>\n",
       "      <th>returned_item_quantity</th>\n",
       "      <th>percent_of_sales_with_staff_help</th>\n",
       "      <th>InsertDate</th>\n",
       "      <th>BrandName</th>\n",
       "    </tr>\n",
       "  </thead>\n",
       "  <tbody>\n",
       "  </tbody>\n",
       "</table>\n",
       "<p>0 rows × 84 columns</p>\n",
       "</div>"
      ],
      "text/plain": [
       "Empty DataFrame\n",
       "Columns: [product_title, product_vendor, product_type, adjustment, cancelled, financial_status, fulfillment_status, order_id, order_name, sale_kind, sale_line_type, cost_tracked, billing_company, billing_city, billing_region, billing_country, billing_postal_code, customer_email, customer_id, customer_name, customer_type, marketing_event_target, marketing_event_type, utm_campaign_content, utm_campaign_medium, utm_campaign_name, utm_campaign_source, utm_campaign_term, pos_location_name, product_id, product_price, variant_id, variant_sku, variant_title, api_client_title, shipping_city, shipping_region, shipping_country, shipping_postal_code, staff_id, staff_name, id_of_staff_who_helped_with_sale, name_of_staff_who_helped_with_sale, referrer_host, referrer_name, referrer_path, referrer_source, referrer_url, hour, day, week, month, quarter, year, hour_of_day, day_of_week, month_of_year, net_quantity, rate, gross_sales, discounts, returns, net_sales, taxes, total_sales, average_order_value, orders, shipping, total_tips, total_cost, gross_profit, gross_margin, units_per_transaction, customers, gift_card_discounts, gift_card_gross_sales, gift_cards_issued, pending_sales, ordered_item_quantity, average_units_ordered, returned_item_quantity, percent_of_sales_with_staff_help, InsertDate, BrandName]\n",
       "Index: []\n",
       "\n",
       "[0 rows x 84 columns]"
      ]
     },
     "execution_count": 7,
     "metadata": {},
     "output_type": "execute_result"
    }
   ],
   "source": [
    "df_1"
   ]
  },
  {
   "cell_type": "code",
   "execution_count": 6,
   "metadata": {},
   "outputs": [
    {
     "data": {
      "text/html": [
       "<div>\n",
       "<style scoped>\n",
       "    .dataframe tbody tr th:only-of-type {\n",
       "        vertical-align: middle;\n",
       "    }\n",
       "\n",
       "    .dataframe tbody tr th {\n",
       "        vertical-align: top;\n",
       "    }\n",
       "\n",
       "    .dataframe thead th {\n",
       "        text-align: right;\n",
       "    }\n",
       "</style>\n",
       "<table border=\"1\" class=\"dataframe\">\n",
       "  <thead>\n",
       "    <tr style=\"text-align: right;\">\n",
       "      <th></th>\n",
       "      <th>ad_id</th>\n",
       "      <th>xyz_campaign_id</th>\n",
       "      <th>fb_campaign_id</th>\n",
       "      <th>age</th>\n",
       "      <th>gender</th>\n",
       "      <th>interest</th>\n",
       "      <th>Impressions</th>\n",
       "      <th>Clicks</th>\n",
       "      <th>Spent</th>\n",
       "      <th>Total_Conversion</th>\n",
       "      <th>Approved_Conversion</th>\n",
       "    </tr>\n",
       "  </thead>\n",
       "  <tbody>\n",
       "    <tr>\n",
       "      <th>0</th>\n",
       "      <td>708746</td>\n",
       "      <td>916</td>\n",
       "      <td>103916</td>\n",
       "      <td>30-34</td>\n",
       "      <td>M</td>\n",
       "      <td>15</td>\n",
       "      <td>7350</td>\n",
       "      <td>1</td>\n",
       "      <td>1.430000</td>\n",
       "      <td>2</td>\n",
       "      <td>1</td>\n",
       "    </tr>\n",
       "    <tr>\n",
       "      <th>1</th>\n",
       "      <td>708749</td>\n",
       "      <td>916</td>\n",
       "      <td>103917</td>\n",
       "      <td>30-34</td>\n",
       "      <td>M</td>\n",
       "      <td>16</td>\n",
       "      <td>17861</td>\n",
       "      <td>2</td>\n",
       "      <td>1.820000</td>\n",
       "      <td>2</td>\n",
       "      <td>0</td>\n",
       "    </tr>\n",
       "    <tr>\n",
       "      <th>2</th>\n",
       "      <td>708771</td>\n",
       "      <td>916</td>\n",
       "      <td>103920</td>\n",
       "      <td>30-34</td>\n",
       "      <td>M</td>\n",
       "      <td>20</td>\n",
       "      <td>693</td>\n",
       "      <td>0</td>\n",
       "      <td>0.000000</td>\n",
       "      <td>1</td>\n",
       "      <td>0</td>\n",
       "    </tr>\n",
       "    <tr>\n",
       "      <th>3</th>\n",
       "      <td>708815</td>\n",
       "      <td>916</td>\n",
       "      <td>103928</td>\n",
       "      <td>30-34</td>\n",
       "      <td>M</td>\n",
       "      <td>28</td>\n",
       "      <td>4259</td>\n",
       "      <td>1</td>\n",
       "      <td>1.250000</td>\n",
       "      <td>1</td>\n",
       "      <td>0</td>\n",
       "    </tr>\n",
       "    <tr>\n",
       "      <th>4</th>\n",
       "      <td>708818</td>\n",
       "      <td>916</td>\n",
       "      <td>103928</td>\n",
       "      <td>30-34</td>\n",
       "      <td>M</td>\n",
       "      <td>28</td>\n",
       "      <td>4133</td>\n",
       "      <td>1</td>\n",
       "      <td>1.290000</td>\n",
       "      <td>1</td>\n",
       "      <td>1</td>\n",
       "    </tr>\n",
       "    <tr>\n",
       "      <th>...</th>\n",
       "      <td>...</td>\n",
       "      <td>...</td>\n",
       "      <td>...</td>\n",
       "      <td>...</td>\n",
       "      <td>...</td>\n",
       "      <td>...</td>\n",
       "      <td>...</td>\n",
       "      <td>...</td>\n",
       "      <td>...</td>\n",
       "      <td>...</td>\n",
       "      <td>...</td>\n",
       "    </tr>\n",
       "    <tr>\n",
       "      <th>1138</th>\n",
       "      <td>1314410</td>\n",
       "      <td>1178</td>\n",
       "      <td>179977</td>\n",
       "      <td>45-49</td>\n",
       "      <td>F</td>\n",
       "      <td>109</td>\n",
       "      <td>1129773</td>\n",
       "      <td>252</td>\n",
       "      <td>358.189997</td>\n",
       "      <td>13</td>\n",
       "      <td>2</td>\n",
       "    </tr>\n",
       "    <tr>\n",
       "      <th>1139</th>\n",
       "      <td>1314411</td>\n",
       "      <td>1178</td>\n",
       "      <td>179978</td>\n",
       "      <td>45-49</td>\n",
       "      <td>F</td>\n",
       "      <td>110</td>\n",
       "      <td>637549</td>\n",
       "      <td>120</td>\n",
       "      <td>173.880003</td>\n",
       "      <td>3</td>\n",
       "      <td>0</td>\n",
       "    </tr>\n",
       "    <tr>\n",
       "      <th>1140</th>\n",
       "      <td>1314412</td>\n",
       "      <td>1178</td>\n",
       "      <td>179979</td>\n",
       "      <td>45-49</td>\n",
       "      <td>F</td>\n",
       "      <td>111</td>\n",
       "      <td>151531</td>\n",
       "      <td>28</td>\n",
       "      <td>40.289999</td>\n",
       "      <td>2</td>\n",
       "      <td>0</td>\n",
       "    </tr>\n",
       "    <tr>\n",
       "      <th>1141</th>\n",
       "      <td>1314414</td>\n",
       "      <td>1178</td>\n",
       "      <td>179981</td>\n",
       "      <td>45-49</td>\n",
       "      <td>F</td>\n",
       "      <td>113</td>\n",
       "      <td>790253</td>\n",
       "      <td>135</td>\n",
       "      <td>198.710001</td>\n",
       "      <td>8</td>\n",
       "      <td>2</td>\n",
       "    </tr>\n",
       "    <tr>\n",
       "      <th>1142</th>\n",
       "      <td>1314415</td>\n",
       "      <td>1178</td>\n",
       "      <td>179982</td>\n",
       "      <td>45-49</td>\n",
       "      <td>F</td>\n",
       "      <td>114</td>\n",
       "      <td>513161</td>\n",
       "      <td>114</td>\n",
       "      <td>165.609999</td>\n",
       "      <td>5</td>\n",
       "      <td>2</td>\n",
       "    </tr>\n",
       "  </tbody>\n",
       "</table>\n",
       "<p>1143 rows × 11 columns</p>\n",
       "</div>"
      ],
      "text/plain": [
       "        ad_id  xyz_campaign_id  fb_campaign_id    age gender  interest  \\\n",
       "0      708746              916          103916  30-34      M        15   \n",
       "1      708749              916          103917  30-34      M        16   \n",
       "2      708771              916          103920  30-34      M        20   \n",
       "3      708815              916          103928  30-34      M        28   \n",
       "4      708818              916          103928  30-34      M        28   \n",
       "...       ...              ...             ...    ...    ...       ...   \n",
       "1138  1314410             1178          179977  45-49      F       109   \n",
       "1139  1314411             1178          179978  45-49      F       110   \n",
       "1140  1314412             1178          179979  45-49      F       111   \n",
       "1141  1314414             1178          179981  45-49      F       113   \n",
       "1142  1314415             1178          179982  45-49      F       114   \n",
       "\n",
       "      Impressions  Clicks       Spent  Total_Conversion  Approved_Conversion  \n",
       "0            7350       1    1.430000                 2                    1  \n",
       "1           17861       2    1.820000                 2                    0  \n",
       "2             693       0    0.000000                 1                    0  \n",
       "3            4259       1    1.250000                 1                    0  \n",
       "4            4133       1    1.290000                 1                    1  \n",
       "...           ...     ...         ...               ...                  ...  \n",
       "1138      1129773     252  358.189997                13                    2  \n",
       "1139       637549     120  173.880003                 3                    0  \n",
       "1140       151531      28   40.289999                 2                    0  \n",
       "1141       790253     135  198.710001                 8                    2  \n",
       "1142       513161     114  165.609999                 5                    2  \n",
       "\n",
       "[1143 rows x 11 columns]"
      ]
     },
     "execution_count": 6,
     "metadata": {},
     "output_type": "execute_result"
    }
   ],
   "source": [
    "df_2"
   ]
  },
  {
   "cell_type": "code",
   "execution_count": null,
   "metadata": {},
   "outputs": [],
   "source": []
  }
 ],
 "metadata": {
  "kernelspec": {
   "display_name": "Python 3",
   "language": "python",
   "name": "python3"
  },
  "language_info": {
   "codemirror_mode": {
    "name": "ipython",
    "version": 3
   },
   "file_extension": ".py",
   "mimetype": "text/x-python",
   "name": "python",
   "nbconvert_exporter": "python",
   "pygments_lexer": "ipython3",
   "version": "3.10.0"
  }
 },
 "nbformat": 4,
 "nbformat_minor": 2
}
