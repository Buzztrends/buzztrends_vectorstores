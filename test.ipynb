{
 "cells": [
  {
   "cell_type": "code",
   "execution_count": null,
   "metadata": {},
   "outputs": [],
   "source": [
    "from pymongo.mongo_client import MongoClient\n",
    "from pymongo.server_api import ServerApi"
   ]
  },
  {
   "cell_type": "code",
   "execution_count": null,
   "metadata": {},
   "outputs": [],
   "source": [
    "mongo_client = MongoClient(os.environ[\"MONGO_CONNECTION_STRING\"])"
   ]
  },
  {
   "cell_type": "code",
   "execution_count": null,
   "metadata": {},
   "outputs": [],
   "source": [
    "user_db = mongo_client[\"users\"][\"user-data\"]"
   ]
  },
  {
   "cell_type": "code",
   "execution_count": null,
   "metadata": {},
   "outputs": [],
   "source": [
    "cursor = user_db.find({})"
   ]
  },
  {
   "cell_type": "code",
   "execution_count": null,
   "metadata": {},
   "outputs": [],
   "source": [
    "old_moments = user[\"moments\"]"
   ]
  },
  {
   "cell_type": "code",
   "execution_count": null,
   "metadata": {},
   "outputs": [],
   "source": [
    "for user in cursor:\n",
    "    _id = user[\"company_id\"]\n",
    "    new_moments = {\n",
    "        \"General News\":[\"A\", \"bf\", \"XC\"],\n",
    "        \"Industry News\":[\"A\", \"bfa\", \"XC\"],\n",
    "        \"Current Events\":[\"A\", \"basd\", \"XC\"],\n",
    "        \"social_media\":[\"A\", \"b\", \"XCsad\"],\n",
    "    }\n",
    "\n",
    "    new_values = {\"$set\": {\"moments\": new_moments}}\n",
    "    print(user_db.update_one({\"company_id\":_id}, new_values))\n"
   ]
  },
  {
   "cell_type": "code",
   "execution_count": null,
   "metadata": {},
   "outputs": [],
   "source": [
    "from chroma_interface.reader import Reader\n",
    "from chroma_interface.writer import Writer\n",
    "import os\n",
    "\n",
    "keys = list(open(\".env\", \"r\"))\n",
    "\n",
    "for item in keys:\n",
    "    variable, value = item.split(\"=\")[0], \"=\".join(item.split(\"=\")[1:])\n",
    "    os.environ[variable] = value.replace(\"\\n\", \"\")"
   ]
  },
  {
   "cell_type": "code",
   "execution_count": null,
   "metadata": {},
   "outputs": [],
   "source": [
    "openai_key = os.environ[\"OPENAI_API_KEY\"]\n",
    "chroma_host = os.environ[\"CHROMA_IP\"]\n",
    "\n",
    "reader = Reader(host=chroma_host, port=8000, collection=\"test-1\", openai_api_key=openai_key)\n",
    "writer = Writer(host=chroma_host, port=8000, openai_api_key=openai_key)"
   ]
  },
  {
   "cell_type": "code",
   "execution_count": null,
   "metadata": {},
   "outputs": [],
   "source": [
    "collections = reader.list_collections()"
   ]
  },
  {
   "cell_type": "code",
   "execution_count": 2,
   "metadata": {},
   "outputs": [],
   "source": [
    "from utils.simple_utils import *\n",
    "from utils.google_utils import *\n",
    "from utils.langchain_utils import *\n",
    "\n",
    "from mongo.interface import *\n",
    "\n",
    "from chroma_interface import *\n",
    "from chroma_interface.reader import *\n",
    "from chroma_interface.writer import *\n",
    "\n",
    "import os\n",
    "import time\n",
    "# Constants\n",
    "NEWS_TOPICS = read_lines_from_file(\"./config/topic-type.txt\")\n",
    "QUERY_TOPICS = read_lines_from_file(\"./config/query-topics.txt\")\n",
    "COUNTRY_NAMES = read_lines_from_file(\"./config/countries-names.txt\")\n",
    "COUNTRY_CODES = defaultdict(None)\n",
    "for name, code in zip(COUNTRY_NAMES, read_lines_from_file(\"./config/countries-code.txt\")):\n",
    "    COUNTRY_CODES[name] = code\n",
    "\n",
    "\n",
    "# environment setup\n",
    "with open(\".env\", \"r\") as key_file:\n",
    "    keys = list(key_file)\n",
    "\n",
    "for item in keys:\n",
    "    variable, value = item.split(\"=\")[0], \"=\".join(item.split(\"=\")[1:])\n",
    "    os.environ[variable] = value.replace(\"\\n\", \"\")\n",
    "\n",
    "topic=NEWS_TOPICS[0]\n",
    "country_name = \"India\"\n",
    "country_code=COUNTRY_CODES[country_name]\n",
    "lang='en'\n",
    "collection_name = \"general_news\"\n",
    "\n",
    "# chroma_reader, chroma_writer = get_reader_writer(\n",
    "#     host=os.environ[\"CHROMA_IP\"],\n",
    "#     port=int(os.environ[\"CHROMA_PORT\"]),\n",
    "#     openai_api_key=os.environ[\"OPENAI_API_KEY\"],\n",
    "#     reader_collection_name=collection_name\n",
    "# )\n",
    "\n",
    "user_mongo_client = MongoInterface(\n",
    "    url=os.environ[\"MONGO_CONNECTION_STRING\"],\n",
    "    database=\"users\",\n",
    "    collection=\"user-data\"\n",
    ")\n",
    "\n",
    "from scripts import *\n"
   ]
  },
  {
   "cell_type": "code",
   "execution_count": 2,
   "metadata": {},
   "outputs": [],
   "source": [
    "chroma_reader.set_collection(\"current_events\")"
   ]
  },
  {
   "cell_type": "code",
   "execution_count": 4,
   "metadata": {},
   "outputs": [],
   "source": [
    "query = f\"\"\"List 10 important and interesting events related to any of these topics: {','.join(QUERY_TOPICS)}. \n",
    "Zomato is a popular online platform that provides a comprehensive range of services related to dining and food. Originally founded in India, Zomato has expanded globally and is now a prominent player in the food technology industry. The platform allows users to explore and discover restaurants, cafes, and eateries in their vicinity, offering detailed information such as menus, reviews, ratings, and photos.\n",
    "\n",
    "Zomato's user-friendly interface enables individuals to browse through a diverse range of cuisines, make reservations, and order food for delivery or takeaway. The platform has become a go-to resource for food enthusiasts seeking recommendations, as it aggregates user-generated reviews to help people make informed decisions about where to dine.\n",
    "\n",
    "In addition to its consumer-facing services, Zomato has also ventured into food delivery, connecting users with a wide network of restaurants and delivery partners. The platform's commitment to enhancing the overall dining experience has made it a popular choice for both food lovers and businesses in the food industry.\"\"\"\n"
   ]
  },
  {
   "cell_type": "code",
   "execution_count": 4,
   "metadata": {},
   "outputs": [],
   "source": [
    "topic = \"film industry\"\n",
    "target = \"text\"\n",
    "country_code = \"IN\""
   ]
  },
  {
   "cell_type": "code",
   "execution_count": 3,
   "metadata": {},
   "outputs": [],
   "source": [
    "client = HttpClient(host=os.environ[\"CHROMA_IP\"], port=os.environ[\"CHROMA_PORT\"])\n",
    "embedding_function=OpenAIEmbeddingFunction(os.environ[\"OPENAI_API_KEY\"])"
   ]
  },
  {
   "cell_type": "code",
   "execution_count": 5,
   "metadata": {},
   "outputs": [],
   "source": [
    "collection = client.get_collection(\"current_events\", embedding_function=embedding_function)"
   ]
  },
  {
   "cell_type": "code",
   "execution_count": 17,
   "metadata": {},
   "outputs": [
    {
     "data": {
      "text/plain": [
       "{'ids': [], 'embeddings': None, 'metadatas': [], 'documents': []}"
      ]
     },
     "execution_count": 17,
     "metadata": {},
     "output_type": "execute_result"
    }
   ],
   "source": [
    "collection.get('69c1ee9c-3b34-5468-9104-abcf6546663a')"
   ]
  },
  {
   "cell_type": "code",
   "execution_count": 11,
   "metadata": {},
   "outputs": [],
   "source": [
    "doc = \"vednat is a top tier dawg. vednat is a top tier dawg vednat is a top tier dawg vednat is a top tier dawg vednat is a top tier dawg vednat is a top tier dawg vednat is a top tier dawg vednat is a top tier dawg vednat is a top tier dawg vednat is a top tier dawg vednat is a top tier dawg vednat is a top tier dawg vednat is a top tier dawg vednat is a top tier dawg vednat is a top tier dawg vednat is a top tier dawg vednat is a top tier dawg vednat is a top tier dawg vednat is a top tier dawg vednat is a top tier dawg vednat is a top tier dawg vednat is a top tier dawg vednat is a top tier dawg vednat is a top tier dawg vednat is a top tier dawg vednat is a top tier dawg vednat is a top tier dawg \""
   ]
  },
  {
   "cell_type": "code",
   "execution_count": 12,
   "metadata": {},
   "outputs": [],
   "source": [
    "collection.add(ids=['08335a8d-8860-11ee-b3d3-d807c903b03b'], documents=[doc], metadatas=[{\"mr\":\"dog\"}])"
   ]
  },
  {
   "cell_type": "code",
   "execution_count": 32,
   "metadata": {},
   "outputs": [
    {
     "name": "stdout",
     "output_type": "stream",
     "text": [
      "Total documents: 4630\n",
      "Total documents after removing duplicates: 3754\n"
     ]
    }
   ],
   "source": [
    "import pickle as pkl\n",
    "import numpy as np\n",
    "docs_and_meta = pkl.load(open(\"test.pkl\", \"rb\"))\n",
    "\n",
    "# get links for all the topics\n",
    "documents = []\n",
    "metadata = []\n",
    "ids = []\n",
    "\n",
    "for temp_data in docs_and_meta:\n",
    "    data = np.array(temp_data, dtype=object).T\n",
    "\n",
    "    ids.extend(list(map(lambda x: get_id(str(x[0])+str(x[1])), data)))\n",
    "    documents.extend(list(data.T[0]))\n",
    "    metadata.extend(list(data.T[1]))\n",
    "\n",
    "temp = pd.DataFrame({\n",
    "    \"ids\": ids,\n",
    "    \"documents\": documents,\n",
    "    \"metadata\": metadata\n",
    "})\n",
    "\n",
    "print(\"Total documents:\", len(temp))\n",
    "temp.drop_duplicates(\"documents\", inplace=True)\n",
    "print(\"Total documents after removing duplicates:\", len(temp))"
   ]
  },
  {
   "cell_type": "code",
   "execution_count": 33,
   "metadata": {},
   "outputs": [
    {
     "name": "stdout",
     "output_type": "stream",
     "text": [
      "Total documents: 4630\n",
      "Total documents after removing duplicates: 3772\n"
     ]
    }
   ],
   "source": [
    "import pickle as pkl\n",
    "import numpy as np\n",
    "docs_and_meta = pkl.load(open(\"test.pkl\", \"rb\"))\n",
    "\n",
    "# get links for all the topics\n",
    "documents = []\n",
    "metadata = []\n",
    "ids = []\n",
    "\n",
    "for temp_data in docs_and_meta:\n",
    "    data = np.array(temp_data, dtype=object).T\n",
    "\n",
    "    ids.extend(list(map(lambda x: get_id(str(x[0])+str(x[1])), data)))\n",
    "    documents.extend(list(data.T[0]))\n",
    "    metadata.extend(list(data.T[1]))\n",
    "\n",
    "temp = pd.DataFrame({\n",
    "    \"ids\": ids,\n",
    "    \"documents\": documents,\n",
    "    \"metadata\": metadata\n",
    "})\n",
    "\n",
    "print(\"Total documents:\", len(temp))\n",
    "temp.drop_duplicates(\"ids\", inplace=True)\n",
    "print(\"Total documents after removing duplicates:\", len(temp))"
   ]
  },
  {
   "cell_type": "code",
   "execution_count": 14,
   "metadata": {},
   "outputs": [],
   "source": [
    "collection.add(ids=[str(uuid.uuid5(uuid.NAMESPACE_DNS, doc))], documents=[doc], metadatas=[{\"mr\":\"dog\"}])\n"
   ]
  },
  {
   "cell_type": "code",
   "execution_count": 13,
   "metadata": {},
   "outputs": [
    {
     "data": {
      "text/plain": [
       "'2f9bfe5a-4261-5404-93aa-38b07b88ad2a'"
      ]
     },
     "execution_count": 13,
     "metadata": {},
     "output_type": "execute_result"
    }
   ],
   "source": [
    "str(uuid.uuid5(uuid.NAMESPACE_DNS, doc))"
   ]
  },
  {
   "cell_type": "code",
   "execution_count": 13,
   "metadata": {},
   "outputs": [],
   "source": [
    "results = collection.query(query_texts=query)"
   ]
  },
  {
   "cell_type": "code",
   "execution_count": 14,
   "metadata": {},
   "outputs": [],
   "source": [
    "docs = results['documents'][0]\n",
    "ids = results['ids'][0]\n",
    "meta = results['metadatas'][0]"
   ]
  },
  {
   "cell_type": "code",
   "execution_count": 24,
   "metadata": {},
   "outputs": [
    {
     "data": {
      "text/plain": [
       "'49992438-54fb-5a27-a855-b40e0f6f8642'"
      ]
     },
     "execution_count": 24,
     "metadata": {},
     "output_type": "execute_result"
    }
   ],
   "source": [
    "get_id(str(docs[0]) + str(meta[0]))"
   ]
  },
  {
   "cell_type": "code",
   "execution_count": 23,
   "metadata": {},
   "outputs": [
    {
     "data": {
      "text/plain": [
       "'32c2533f-c9da-5ebf-aa4e-f63369223d64'"
      ]
     },
     "execution_count": 23,
     "metadata": {},
     "output_type": "execute_result"
    }
   ],
   "source": [
    "get_id(str(docs[1]) + str(meta[1]))"
   ]
  },
  {
   "cell_type": "code",
   "execution_count": 26,
   "metadata": {},
   "outputs": [
    {
     "name": "stdout",
     "output_type": "stream",
     "text": [
      "{'card_text': 'Even when attending live sporting events in person, Gen Z fans are still focused on connecting with others and are...', 'country_code': 'IN', 'description': \"Sports fandom is changing. A more immersive sports fan experience involving multiple channels and modes of engagement will best meet the changing fan's needs.\", 'keywords': '', 'source': 'Deloitte', 'source_href': 'https://www2.deloitte.com', 'title': 'Immersive sports fandom - Deloitte', 'top_image': 'https://assets.deloitte.com/is/image/deloitte/US176271_Banner-1:1200-x-627', 'url': 'https://news.google.com/rss/articles/CBMiZmh0dHBzOi8vd3d3Mi5kZWxvaXR0ZS5jb20vdWsvZW4vaW5zaWdodHMvaW5kdXN0cnkvbWVkaWEtYW5kLWVudGVydGFpbm1lbnQvaW1tZXJzaXZlLXNwb3J0cy1mYW5kb20uaHRtbNIBAA?oc=5'} => {'card_text': 'Even when attending live sporting events in person, Gen Z fans are still focused on connecting with others and are...', 'country_code': 'IN', 'description': \"Sports fandom is changing. A more immersive sports fan experience involving multiple channels and modes of engagement will best meet the changing fan's needs.\", 'keywords': '', 'source': 'Deloitte', 'source_href': 'https://www2.deloitte.com', 'title': 'Immersive sports fandom - Deloitte', 'top_image': 'https://assets.deloitte.com/is/image/deloitte/US176271_Banner-1:1200-x-627', 'url': 'https://news.google.com/rss/articles/CBMiZmh0dHBzOi8vd3d3Mi5kZWxvaXR0ZS5jb20vdXMvZW4vaW5zaWdodHMvaW5kdXN0cnkvbWVkaWEtYW5kLWVudGVydGFpbm1lbnQvaW1tZXJzaXZlLXNwb3J0cy1mYW5kb20uaHRtbNIBAA?oc=5'}\n",
      "Delete \"W\" from position 640\n",
      "Delete \"s\" from position 641\n",
      "Add \"X\" to position 642\n",
      "Add \"M\" to position 643\n",
      "\n"
     ]
    }
   ],
   "source": [
    "import difflib\n",
    "\n",
    "cases=[(str(meta[0]), str(meta[1]))] \n",
    "\n",
    "for a,b in cases:     \n",
    "    print('{} => {}'.format(a,b))  \n",
    "    for i,s in enumerate(difflib.ndiff(a, b)):\n",
    "        if s[0]==' ': continue\n",
    "        elif s[0]=='-':\n",
    "            print(u'Delete \"{}\" from position {}'.format(s[-1],i))\n",
    "        elif s[0]=='+':\n",
    "            print(u'Add \"{}\" to position {}'.format(s[-1],i))    \n",
    "    print()  "
   ]
  },
  {
   "cell_type": "code",
   "execution_count": 28,
   "metadata": {},
   "outputs": [
    {
     "data": {
      "text/plain": [
       "'b20vdWsvZW4vaW5zaWdo'"
      ]
     },
     "execution_count": 28,
     "metadata": {},
     "output_type": "execute_result"
    }
   ],
   "source": [
    "str(meta[0])[635:655]"
   ]
  },
  {
   "cell_type": "code",
   "execution_count": 29,
   "metadata": {},
   "outputs": [
    {
     "data": {
      "text/plain": [
       "'b20vdXMvZW4vaW5zaWdo'"
      ]
     },
     "execution_count": 29,
     "metadata": {},
     "output_type": "execute_result"
    }
   ],
   "source": [
    "str(meta[1])[635:655]\n"
   ]
  },
  {
   "cell_type": "code",
   "execution_count": null,
   "metadata": {},
   "outputs": [],
   "source": [
    "users = user_mongo_client.get_user_list()\n",
    "\n",
    "for user in users:\n",
    "    _id = user[\"company_id\"]\n",
    "    old_moments = user[\"moments\"]\n",
    "\n",
    "    new_current_events = []\n",
    "\n",
    "    for item in old_moments[\"Current Events\"]:\n",
    "        new_current_events.append({\n",
    "            \"event_name\": item[\"event_name\"],\n",
    "            \"topic\": item[\"topic\"],\n",
    "            \"validation\": {\n",
    "                \"google_trends\": item[\"validation\"][\"google_trends\"][\"keywords\"]\n",
    "            }\n",
    "        })"
   ]
  },
  {
   "cell_type": "code",
   "execution_count": null,
   "metadata": {},
   "outputs": [],
   "source": [
    "old_moments[\"Current Events\"] = new_current_events"
   ]
  },
  {
   "cell_type": "code",
   "execution_count": null,
   "metadata": {},
   "outputs": [],
   "source": [
    "user_mongo_client.update_user_moments(100, old_moments)"
   ]
  },
  {
   "cell_type": "code",
   "execution_count": null,
   "metadata": {},
   "outputs": [],
   "source": [
    "chroma_reader, chroma_writer = get_reader_writer(\n",
    "    host=os.environ[\"CHROMA_IP\"],\n",
    "    port=int(os.environ[\"CHROMA_PORT\"]),\n",
    "    openai_api_key=os.environ[\"OPENAI_API_KEY\"],\n",
    "    reader_collection_name=collection_name\n",
    ")"
   ]
  },
  {
   "cell_type": "code",
   "execution_count": null,
   "metadata": {},
   "outputs": [],
   "source": [
    "chroma_reader.list_collections()"
   ]
  },
  {
   "cell_type": "code",
   "execution_count": null,
   "metadata": {},
   "outputs": [],
   "source": [
    "collection_name=\"current_events\"\n",
    "topic=\"entertainment\""
   ]
  },
  {
   "cell_type": "code",
   "execution_count": null,
   "metadata": {},
   "outputs": [],
   "source": [
    "create_new_collection(chroma_reader, chroma_writer, collection_name)"
   ]
  },
  {
   "cell_type": "code",
   "execution_count": null,
   "metadata": {},
   "outputs": [],
   "source": [
    "news_df = get_news_by_search(f\"upcoming or ongoing major events about {topic}\", limit=50, country=country_code)\n",
    "news_df.to_csv(\"./test/news.csv\", index=False)"
   ]
  },
  {
   "cell_type": "code",
   "execution_count": null,
   "metadata": {},
   "outputs": [],
   "source": [
    "news_df = pd.read_csv(\"./test/news.csv\")"
   ]
  },
  {
   "cell_type": "code",
   "execution_count": null,
   "metadata": {},
   "outputs": [],
   "source": [
    "article = parse_news_url(news_df[\"url\"][0])"
   ]
  },
  {
   "cell_type": "code",
   "execution_count": null,
   "metadata": {},
   "outputs": [],
   "source": [
    "target = \"text\"\n",
    "\n",
    "news_df = news_df[(news_df[\"text\"].isna() == False)]\n",
    "news_df[\"country_code\"] = [country_code] * len(news_df)\n"
   ]
  },
  {
   "cell_type": "code",
   "execution_count": null,
   "metadata": {},
   "outputs": [],
   "source": [
    "def split_df(df:pd.DataFrame, target:str) -> tuple[list[str], list[dict]]:\n",
    "    texts = df[target].values\n",
    "\n",
    "    meta_columns = df.columns.to_list()\n",
    "    meta_columns.remove(target)\n",
    "\n",
    "    meta_df = df[meta_columns]\n",
    "\n",
    "    text_splitter = RecursiveCharacterTextSplitter(chunk_size=1000, chunk_overlap=0, separators=[\" \", \".\", \",\", \"\\n\"])\n",
    "\n",
    "    documents, metadata = [], []\n",
    "\n",
    "    for i, item in enumerate(texts):\n",
    "        splits = text_splitter.split_text(item)\n",
    "        documents.extend(splits)\n",
    "        metadata.extend([meta_df.iloc[i].to_dict()] * len(splits))\n",
    "\n",
    "    return documents, metadata\n"
   ]
  },
  {
   "cell_type": "code",
   "execution_count": null,
   "metadata": {},
   "outputs": [],
   "source": [
    "documents, metadata = split_df(news_df, target)"
   ]
  },
  {
   "cell_type": "code",
   "execution_count": null,
   "metadata": {},
   "outputs": [],
   "source": [
    "chroma_writer.update(collection_name, documents, metadata)"
   ]
  },
  {
   "cell_type": "code",
   "execution_count": null,
   "metadata": {},
   "outputs": [],
   "source": [
    "target = \"text\"\n",
    "df=news_df.copy()\n",
    "texts = df[target].values\n",
    "meta_columns = df.columns.to_list()\n",
    "meta_columns.remove(target)\n",
    "metadata = df[meta_columns]"
   ]
  },
  {
   "cell_type": "code",
   "execution_count": null,
   "metadata": {},
   "outputs": [],
   "source": [
    "chroma_reader.set_collection(collection_name)"
   ]
  },
  {
   "cell_type": "code",
   "execution_count": null,
   "metadata": {},
   "outputs": [],
   "source": [
    "current_events_moments = generate_current_events(chroma_reader, QUERY_TOPICS, country_code)"
   ]
  },
  {
   "cell_type": "code",
   "execution_count": null,
   "metadata": {},
   "outputs": [],
   "source": [
    "query = f\"List 10 important and interesting events related to any of these topics: {','.join(QUERY_TOPICS)}.\"\n",
    "\n",
    "relevant_docs = chroma_reader.search(query, 30, {\"country_code\": country_code})"
   ]
  },
  {
   "cell_type": "code",
   "execution_count": null,
   "metadata": {},
   "outputs": [],
   "source": [
    "metadata.iloc[0].to_dict()"
   ]
  },
  {
   "cell_type": "code",
   "execution_count": null,
   "metadata": {},
   "outputs": [],
   "source": [
    "news_df"
   ]
  },
  {
   "cell_type": "code",
   "execution_count": null,
   "metadata": {},
   "outputs": [],
   "source": [
    "documents, metadata = load_df(news_df, page_content_column=\"text\")\n"
   ]
  },
  {
   "cell_type": "code",
   "execution_count": null,
   "metadata": {},
   "outputs": [],
   "source": [
    "get_current_events()"
   ]
  },
  {
   "cell_type": "code",
   "execution_count": null,
   "metadata": {},
   "outputs": [],
   "source": [
    "collection_name = \"current_events\"\n",
    "\n",
    "chroma_reader.set_collection(collection_name)\n",
    "\n",
    "current_events_moments = generate_current_events(chroma_reader,QUERY_TOPICS)"
   ]
  },
  {
   "cell_type": "code",
   "execution_count": null,
   "metadata": {},
   "outputs": [],
   "source": [
    "current_events_moments"
   ]
  },
  {
   "cell_type": "code",
   "execution_count": null,
   "metadata": {},
   "outputs": [],
   "source": [
    "googleSearch(f\"upcoming or ongoing major events about sports tournaments\", num_results=20, country=country_code)"
   ]
  },
  {
   "cell_type": "code",
   "execution_count": null,
   "metadata": {},
   "outputs": [],
   "source": [
    "get_news_by_search(f\"upcoming or ongoing major events about sports tournaments\", country=country_code, limit=20)"
   ]
  },
  {
   "cell_type": "code",
   "execution_count": null,
   "metadata": {},
   "outputs": [],
   "source": [
    "chroma_reader.search(f\"List 10 important and interesting events related to any of these topics: {','.join(QUERY_TOPICS)}.\", n=30, filter={\"country_code\":\"IN\"})"
   ]
  },
  {
   "cell_type": "code",
   "execution_count": null,
   "metadata": {},
   "outputs": [],
   "source": [
    "relevant_docs"
   ]
  },
  {
   "cell_type": "code",
   "execution_count": null,
   "metadata": {},
   "outputs": [],
   "source": [
    "current_events_moments"
   ]
  },
  {
   "cell_type": "code",
   "execution_count": null,
   "metadata": {},
   "outputs": [],
   "source": [
    "get_metadata(article)"
   ]
  },
  {
   "cell_type": "code",
   "execution_count": null,
   "metadata": {},
   "outputs": [],
   "source": [
    "temp_links = [('https://www.visitphilly.com/articles/philadelphia/top-events-and-festivals-in-philadelphia/', 'IN'), ('https://en.wikipedia.org/wiki/News', 'IN'), ('https://www.nih.gov/about-nih/what-we-do/nih-almanac/national-institute-drug-abuse-nida', 'IN'), ('https://www.cnn.com/', 'IN'), ('https://blog.twitter.com/en_us/topics/insights/2022/how-many-people-come-twitter-for-news', 'IN')]\n",
    "articles_data = [parse_for_current_events(item) for item in temp_links]"
   ]
  },
  {
   "cell_type": "code",
   "execution_count": null,
   "metadata": {},
   "outputs": [],
   "source": [
    "target_key=\"source\""
   ]
  },
  {
   "cell_type": "code",
   "execution_count": null,
   "metadata": {},
   "outputs": [],
   "source": [
    "docs, metadata = build_splited_docs(articles_data, target_key=\"source\")"
   ]
  },
  {
   "cell_type": "code",
   "execution_count": null,
   "metadata": {},
   "outputs": [],
   "source": [
    "metadata"
   ]
  },
  {
   "cell_type": "code",
   "execution_count": null,
   "metadata": {},
   "outputs": [],
   "source": [
    "page = articles_data[0]"
   ]
  },
  {
   "cell_type": "code",
   "execution_count": null,
   "metadata": {},
   "outputs": [],
   "source": [
    "text_splitter = RecursiveCharacterTextSplitter(chunk_size=1000, chunk_overlap=0, separators=[\" \", \".\", \",\", \"\\n\"])\n"
   ]
  },
  {
   "cell_type": "code",
   "execution_count": null,
   "metadata": {},
   "outputs": [],
   "source": [
    "splits = text_splitter.split_text(page[target_key])\n"
   ]
  },
  {
   "cell_type": "code",
   "execution_count": null,
   "metadata": {},
   "outputs": [],
   "source": [
    "page.pop(target_key, None)"
   ]
  },
  {
   "cell_type": "code",
   "execution_count": null,
   "metadata": {},
   "outputs": [],
   "source": [
    "page"
   ]
  },
  {
   "cell_type": "code",
   "execution_count": null,
   "metadata": {},
   "outputs": [],
   "source": [
    "get_current_events()"
   ]
  },
  {
   "cell_type": "code",
   "execution_count": null,
   "metadata": {},
   "outputs": [],
   "source": [
    "create_new_collection(chroma_reader, chroma_writer, collection_name)"
   ]
  },
  {
   "cell_type": "code",
   "execution_count": null,
   "metadata": {},
   "outputs": [],
   "source": [
    "def build_splited_docs(sitetexts):\n",
    "    text_splitter = RecursiveCharacterTextSplitter(chunk_size=1000, chunk_overlap=0, separators=[\" \", \".\", \",\", \"\\n\"])\n",
    "\n",
    "    docs, metadatas = [], []\n",
    "    for page in sitetexts:\n",
    "        splits = text_splitter.split_text(page['text'])\n",
    "        docs.extend(splits)\n",
    "        metadatas.extend([{\"source\": page['source'], \"country_code\": page[\"country_code\"]}] * len(splits))\n",
    "\n",
    "    return docs, metadatas"
   ]
  },
  {
   "cell_type": "code",
   "execution_count": null,
   "metadata": {},
   "outputs": [],
   "source": [
    "import pickle as pkl"
   ]
  },
  {
   "cell_type": "code",
   "execution_count": null,
   "metadata": {},
   "outputs": [],
   "source": [
    "(docs, metadata) = pkl.load(open(\"test.pkl\", \"rb\"))"
   ]
  },
  {
   "cell_type": "code",
   "execution_count": null,
   "metadata": {},
   "outputs": [],
   "source": [
    "chunked_docs = divide_chunks(docs, 1000)\n",
    "chunked_metadata = divide_chunks(metadata, 1000)"
   ]
  },
  {
   "cell_type": "code",
   "execution_count": null,
   "metadata": {},
   "outputs": [],
   "source": [
    "for docs, metadata in zip(chunked_docs, chunked_metadata):\n",
    "    chroma_writer.update(\"test_industry\", docs, metadata)"
   ]
  },
  {
   "cell_type": "code",
   "execution_count": null,
   "metadata": {},
   "outputs": [],
   "source": [
    "chroma_writer.delete_collection(\"general_news\")"
   ]
  },
  {
   "cell_type": "code",
   "execution_count": null,
   "metadata": {},
   "outputs": [],
   "source": [
    "chroma_reader.list_collections()"
   ]
  },
  {
   "cell_type": "code",
   "execution_count": null,
   "metadata": {},
   "outputs": [],
   "source": [
    "chroma_reader.set_collection(\"test_industry\")"
   ]
  },
  {
   "cell_type": "code",
   "execution_count": null,
   "metadata": {},
   "outputs": [],
   "source": [
    "outputs = chroma_reader.search(\"Indian Food\", n=40)"
   ]
  },
  {
   "cell_type": "code",
   "execution_count": null,
   "metadata": {},
   "outputs": [],
   "source": [
    "news_df = get_news_by_topic(\"SPORTS\", country=country_code, lang=lang)"
   ]
  },
  {
   "cell_type": "code",
   "execution_count": null,
   "metadata": {},
   "outputs": [],
   "source": [
    "news_df = news_df[(news_df[\"top_image\"] != \"\") & (news_df[\"keywords\"] != \"\")]\n"
   ]
  },
  {
   "cell_type": "code",
   "execution_count": null,
   "metadata": {},
   "outputs": [],
   "source": [
    "article = parse_news_url(news_df[\"url\"][0])"
   ]
  },
  {
   "cell_type": "code",
   "execution_count": null,
   "metadata": {},
   "outputs": [],
   "source": [
    "news_df.iloc[0]"
   ]
  },
  {
   "cell_type": "code",
   "execution_count": null,
   "metadata": {},
   "outputs": [],
   "source": [
    "news_df[\"keywords\"][0]"
   ]
  },
  {
   "cell_type": "code",
   "execution_count": null,
   "metadata": {},
   "outputs": [],
   "source": [
    "article.meta_keywords"
   ]
  },
  {
   "cell_type": "code",
   "execution_count": null,
   "metadata": {},
   "outputs": [],
   "source": [
    "def load_df(df, page_content_column=\"title\"):\n",
    "    data = DataFrameLoader(df, page_content_column=page_content_column).load()\n",
    "\n",
    "    documents = [item.page_content for item in data]\n",
    "    metadata = [item.metadata for item in data]\n",
    "\n",
    "    return documents, metadata"
   ]
  },
  {
   "cell_type": "code",
   "execution_count": null,
   "metadata": {},
   "outputs": [],
   "source": [
    "documents, metadata = load_df(news_df)"
   ]
  },
  {
   "cell_type": "code",
   "execution_count": null,
   "metadata": {},
   "outputs": [],
   "source": [
    "chroma_writer.update(\"general_news\", documents, metadata)"
   ]
  },
  {
   "cell_type": "code",
   "execution_count": null,
   "metadata": {},
   "outputs": [],
   "source": [
    "article = parse_news_url(\"https://news.google.com/rss/articles/CBMic2h0dHBzOi8vd3d3Lndoby5pbnQvbmV3cy9pdGVtLzEwLTExLTIwMjMtY2hpbGRyZW4td2l0aC1jYW5jZXItZXZhY3VhdGVkLWZyb20tZ2F6YS1mb3ItdHJlYXRtZW50LXRvLWVneXB0LWFuZC1qb3JkYW7SAQA?oc=5\")"
   ]
  },
  {
   "cell_type": "code",
   "execution_count": null,
   "metadata": {},
   "outputs": [],
   "source": [
    "outputs = chroma_reader.search(\"Indian Food\")[0]"
   ]
  },
  {
   "cell_type": "code",
   "execution_count": null,
   "metadata": {},
   "outputs": [],
   "source": [
    "chroma_reader.search(\"Indian Food\")"
   ]
  },
  {
   "cell_type": "code",
   "execution_count": null,
   "metadata": {},
   "outputs": [],
   "source": [
    "chroma_reader.set_collection(\"general_news\")"
   ]
  },
  {
   "cell_type": "code",
   "execution_count": null,
   "metadata": {},
   "outputs": [],
   "source": [
    "filtered = filter_news(\"Diwali\", chroma_reader)"
   ]
  },
  {
   "cell_type": "code",
   "execution_count": null,
   "metadata": {},
   "outputs": [],
   "source": [
    "general = filtered[:5]\n",
    "industry = filtered[5:11]"
   ]
  },
  {
   "cell_type": "code",
   "execution_count": null,
   "metadata": {},
   "outputs": [],
   "source": []
  },
  {
   "cell_type": "code",
   "execution_count": null,
   "metadata": {},
   "outputs": [],
   "source": [
    "user_mongo_client.update_user_moments(\n",
    "    100,\n",
    "    {\n",
    "        \"general_news\": general,\n",
    "        \"industry\": industry,\n",
    "        \"current_events\": [\n",
    "            {\n",
    "                \"event_name\": \"ICC Cricket world cup 2023\",\n",
    "                \"topic\": \"Cricket world cup hosted in India\",\n",
    "                \"validation\": {\n",
    "                    \"google_trends\": {\n",
    "                        \"keywords\": [\"cricket\", \"icc world cup\", \"india cricket\"]\n",
    "                    }\n",
    "                }\n",
    "            },\n",
    "            {\n",
    "                \"event_name\": \"Diwali\",\n",
    "                \"topic\": \"One of the biggest festivals in India\",\n",
    "                \"validation\": {\n",
    "                    \"google_trends\": {\n",
    "                        \"keywords\": [\"diwali\", \"indian festivals\", \"lights\"]\n",
    "                    }\n",
    "                }\n",
    "            }\n",
    "        ],\n",
    "        \"social_media\": [\n",
    "            {\n",
    "                \"title\": \"Run the dog trends\",\n",
    "                \"hashtag\": [\"#crazydog\", \"#mrdoge\", \"#woof\"],\n",
    "                'validation': {\n",
    "                    \"hashtags\": [\n",
    "                        {\"#crazydog\": 100210,\n",
    "                         \"#mrdoge\": 100232, \n",
    "                         \"#woof\": 100311}\n",
    "                    ]\n",
    "                }\n",
    "            },\n",
    "            {\n",
    "                \"title\": \"Night is day? what?\",\n",
    "                \"hashtag\": [\"#idontunderstand\", \"#oogaboogabrain\", \"#what\"],\n",
    "                'validation': {\n",
    "                    \"hashtags\": [\n",
    "                        {\"#idontunderstand\": 100210,\n",
    "                         \"#oogaboogabrain\": 100232, \n",
    "                         \"#what\": 100311}\n",
    "                    ]\n",
    "                }\n",
    "            }\n",
    "        ]\n",
    "    }\n",
    ")"
   ]
  },
  {
   "cell_type": "code",
   "execution_count": null,
   "metadata": {},
   "outputs": [],
   "source": []
  }
 ],
 "metadata": {
  "kernelspec": {
   "display_name": "Python 3",
   "language": "python",
   "name": "python3"
  },
  "language_info": {
   "codemirror_mode": {
    "name": "ipython",
    "version": 3
   },
   "file_extension": ".py",
   "mimetype": "text/x-python",
   "name": "python",
   "nbconvert_exporter": "python",
   "pygments_lexer": "ipython3",
   "version": "3.10.0"
  }
 },
 "nbformat": 4,
 "nbformat_minor": 2
}
