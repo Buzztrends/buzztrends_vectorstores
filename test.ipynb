{
 "cells": [
  {
   "cell_type": "code",
   "execution_count": null,
   "metadata": {},
   "outputs": [],
   "source": [
    "from pymongo.mongo_client import MongoClient\n",
    "from pymongo.server_api import ServerApi"
   ]
  },
  {
   "cell_type": "code",
   "execution_count": null,
   "metadata": {},
   "outputs": [],
   "source": [
    "mongo_client = MongoClient(os.environ[\"MONGO_CONNECTION_STRING\"])"
   ]
  },
  {
   "cell_type": "code",
   "execution_count": null,
   "metadata": {},
   "outputs": [],
   "source": [
    "user_db = mongo_client[\"users\"][\"user-data\"]"
   ]
  },
  {
   "cell_type": "code",
   "execution_count": null,
   "metadata": {},
   "outputs": [],
   "source": [
    "cursor = user_db.find({})"
   ]
  },
  {
   "cell_type": "code",
   "execution_count": null,
   "metadata": {},
   "outputs": [],
   "source": [
    "old_moments = user[\"moments\"]"
   ]
  },
  {
   "cell_type": "code",
   "execution_count": null,
   "metadata": {},
   "outputs": [],
   "source": [
    "for user in cursor:\n",
    "    _id = user[\"company_id\"]\n",
    "    new_moments = {\n",
    "        \"General News\":[\"A\", \"bf\", \"XC\"],\n",
    "        \"Industry News\":[\"A\", \"bfa\", \"XC\"],\n",
    "        \"Current Events\":[\"A\", \"basd\", \"XC\"],\n",
    "        \"social_media\":[\"A\", \"b\", \"XCsad\"],\n",
    "    }\n",
    "\n",
    "    new_values = {\"$set\": {\"moments\": new_moments}}\n",
    "    print(user_db.update_one({\"company_id\":_id}, new_values))\n"
   ]
  },
  {
   "cell_type": "code",
   "execution_count": null,
   "metadata": {},
   "outputs": [],
   "source": [
    "from chroma_interface.reader import Reader\n",
    "from chroma_interface.writer import Writer\n",
    "import os\n",
    "\n",
    "keys = list(open(\".env\", \"r\"))\n",
    "\n",
    "for item in keys:\n",
    "    variable, value = item.split(\"=\")[0], \"=\".join(item.split(\"=\")[1:])\n",
    "    os.environ[variable] = value.replace(\"\\n\", \"\")"
   ]
  },
  {
   "cell_type": "code",
   "execution_count": null,
   "metadata": {},
   "outputs": [],
   "source": [
    "openai_key = os.environ[\"OPENAI_API_KEY\"]\n",
    "chroma_host = os.environ[\"CHROMA_IP\"]\n",
    "\n",
    "reader = Reader(host=chroma_host, port=8000, collection=\"test-1\", openai_api_key=openai_key)\n",
    "writer = Writer(host=chroma_host, port=8000, openai_api_key=openai_key)"
   ]
  },
  {
   "cell_type": "code",
   "execution_count": null,
   "metadata": {},
   "outputs": [],
   "source": [
    "collections = reader.list_collections()"
   ]
  },
  {
   "cell_type": "code",
   "execution_count": 1,
   "metadata": {},
   "outputs": [],
   "source": [
    "from utils.simple_utils import *\n",
    "from utils.google_utils import *\n",
    "from utils.langchain_utils import *\n",
    "from utils.best_hashtags import *\n",
    "\n",
    "from mongo.interface import *\n",
    "\n",
    "from chroma_interface import *\n",
    "from chroma_interface.reader import *\n",
    "from chroma_interface.writer import *\n",
    "\n",
    "import os\n",
    "import time\n",
    "# Constants\n",
    "NEWS_TOPICS = read_lines_from_file(\"./config/topic-type.txt\")\n",
    "\n",
    "COUNTRY_NAMES = read_lines_from_file(\"./config/countries-names.txt\")\n",
    "COUNTRY_CODES = defaultdict(None)\n",
    "for name, code in zip(COUNTRY_NAMES, read_lines_from_file(\"./config/countries-code.txt\")):\n",
    "    COUNTRY_CODES[name] = code\n",
    "\n",
    "COUNTRY_CODES_TO_NAMES = defaultdict(None)\n",
    "for name, code in zip(COUNTRY_NAMES, read_lines_from_file(\"./config/countries-code.txt\")):\n",
    "    COUNTRY_CODES_TO_NAMES[code] = name\n",
    "\n",
    "QUERY_KEYWORDS_DICT = json.load(open(\"./config/query-topics.json\", 'r'))\n",
    "QUERY_TOPICS = list(QUERY_KEYWORDS_DICT.keys())\n",
    "\n",
    "QUERY_KEYWORDS = []\n",
    "for item in QUERY_KEYWORDS_DICT.values():\n",
    "    QUERY_KEYWORDS.extend(item)\n",
    "\n",
    "\n",
    "# environment setup\n",
    "with open(\".env\", \"r\") as key_file:\n",
    "    keys = list(key_file)\n",
    "\n",
    "for item in keys:\n",
    "    variable, value = item.split(\"=\")[0], \"=\".join(item.split(\"=\")[1:])\n",
    "    os.environ[variable] = value.replace(\"\\n\", \"\")\n",
    "\n",
    "topic=NEWS_TOPICS[0]\n",
    "country_name = \"India\"\n",
    "country_code=COUNTRY_CODES[country_name]\n",
    "lang='en'\n",
    "collection_name = \"general_news\"\n",
    "\n",
    "chroma_reader, chroma_writer = get_reader_writer(\n",
    "    host=os.environ[\"CHROMA_IP\"],\n",
    "    port=int(os.environ[\"CHROMA_PORT\"]),\n",
    "    openai_api_key=os.environ[\"OPENAI_API_KEY\"],\n",
    "    reader_collection_name=collection_name\n",
    ")\n",
    "\n",
    "user_mongo_client = MongoInterface(\n",
    "    url=os.environ[\"MONGO_CONNECTION_STRING\"],\n",
    "    database=\"users\",\n",
    "    collection=\"user-data\"\n",
    ")\n",
    "\n",
    "from scripts import *\n"
   ]
  },
  {
   "cell_type": "code",
   "execution_count": 2,
   "metadata": {},
   "outputs": [],
   "source": [
    "_id = 3894336111\n",
    "user_data = user_mongo_client.get_user(_id)"
   ]
  },
  {
   "cell_type": "code",
   "execution_count": 3,
   "metadata": {},
   "outputs": [],
   "source": [
    "content_category = user_data['content_category']\n",
    "company_description = user_data['company_description']\n",
    "query = content_category + \"|\" + company_description"
   ]
  },
  {
   "cell_type": "code",
   "execution_count": 4,
   "metadata": {},
   "outputs": [
    {
     "data": {
      "text/plain": [
       "' Cosmetics, Skin Care, Make-up and Beauty.'"
      ]
     },
     "execution_count": 4,
     "metadata": {},
     "output_type": "execute_result"
    }
   ],
   "source": [
    "content_category"
   ]
  },
  {
   "cell_type": "code",
   "execution_count": 5,
   "metadata": {},
   "outputs": [
    {
     "data": {
      "text/plain": [
       "[{'title': 'Mini Vacuum Cleaners: To Clean Furniture and Car Interiors In a Simple Way - IndiaTimes',\n",
       "  'description': 'Most Searched Products News: Here is a compiled list of some of the best quality and affordable mini vacuum cleaners available online at a discount which you cannot afford to miss out on. (December, 2023)',\n",
       "  'url': 'https://news.google.com/rss/articles/CBMisQFodHRwczovL20udGltZXNvZmluZGlhLmNvbS9tb3N0LXNlYXJjaGVkLXByb2R1Y3RzL2VsZWN0cm9uaWNzL3ZhY3V1bS1jbGVhbmVycy9taW5pLXZhY3V1bS1jbGVhbmVycy10by1jbGVhbi1mdXJuaXR1cmUtYW5kLWNhci1pbnRlcmlvcnMtaW4tYS1zaW1wbGUtd2F5L2FydGljbGVzaG93LzEwNTczMzk3MC5jbXPSAbUBaHR0cHM6Ly9tLnRpbWVzb2ZpbmRpYS5jb20vbW9zdC1zZWFyY2hlZC1wcm9kdWN0cy9lbGVjdHJvbmljcy92YWN1dW0tY2xlYW5lcnMvbWluaS12YWN1dW0tY2xlYW5lcnMtdG8tY2xlYW4tZnVybml0dXJlLWFuZC1jYXItaW50ZXJpb3JzLWluLWEtc2ltcGxlLXdheS9hbXBfYXJ0aWNsZXNob3cvMTA1NzMzOTcwLmNtcw?oc=5',\n",
       "  'card_text': 'Listed below are some of the best mini vacuum cleaners available online: Ambrane Portable Cordless Vacuum Cleaner Getting started on...',\n",
       "  'source': 'IndiaTimes',\n",
       "  'top_image': 'https://static.toiimg.com/thumb/msid-105734076,width-1070,height-580,imgsize-1061762,resizemode-75,overlay-toi_sw,pt-32,y_pad-40/photo.jpg',\n",
       "  'validation': {'google_trends': ['small vacuum cleaners',\n",
       "    'mini vacuum cleaners',\n",
       "    'mini vacuum cleaner',\n",
       "    'cordless vacuum cleaner',\n",
       "    'best mini vacuum cleaners']}},\n",
       " {'title': 'Stocks to Watch: Hindustan Unilever, Cochin Shipyard, Hindustan Aeronautics, Alkem Laboratories, Siemens - The Financial Express',\n",
       "  'description': 'GIFT Nifty indicated that Indian equity indices BSE Sensex and NSE Nifty 50 may see a positive opening on Monday. Here’s a look at the key stocks to watch in trade.',\n",
       "  'url': 'https://news.google.com/rss/articles/CBMilAFodHRwczovL3d3dy5maW5hbmNpYWxleHByZXNzLmNvbS9tYXJrZXQvc3RvY2tzLXRvLXdhdGNoLWhpbmR1c3Rhbi11bmlsZXZlci1jb2NoaW4tc2hpcHlhcmQtaGluZHVzdGFuLWFlcm9uYXV0aWNzLWFsa2VtLWxhYm9yYXRvcmllcy1zaWVtZW5zLTMzMjY4MzYv0gEA?oc=5',\n",
       "  'card_text': 'Stocks in Focus: GIFT Nifty traded up 285 points or 1.40% at 20,638, indicating a positive opening for domestic indices...',\n",
       "  'source': 'The Financial Express',\n",
       "  'top_image': 'https://www.financialexpress.com/wp-content/uploads/2023/12/broker_reuters1-1.jpg',\n",
       "  'validation': {'google_trends': ['stocks to watch',\n",
       "    'stocks in foucs',\n",
       "    'buzzing stocks',\n",
       "    'top stocks',\n",
       "    'best stocks to buy',\n",
       "    'buy these stocks',\n",
       "    'stock market',\n",
       "    'top stocks',\n",
       "    'best stocks',\n",
       "    'gaining stocks',\n",
       "    'gainers',\n",
       "    'loser',\n",
       "    'trades',\n",
       "    'best shares',\n",
       "    'buy these shares']}},\n",
       " {'title': 'From Smart Ring to GoT special edition smartwatch: Top 5 Christmas gift ideas | Mint - Mint',\n",
       "  'description': 'Get ready for Christmas with these fantastic gift ideas available on Amazon, including the Fire TV Stick 4K, Pebble Game of Thrones Limited Edition Luxury Smartwatch, boAt Smartring Gen-1, OnePlus Buds Pro 2 Bluetooth TWS, and Lenovo Tab M10 FHD Plus.',\n",
       "  'url': 'https://news.google.com/rss/articles/CBMihAFodHRwczovL3d3dy5saXZlbWludC5jb20vdGVjaG5vbG9neS9mcm9tLXNtYXJ0LXJpbmctdG8tZ290LXNwZWNpYWwtZWRpdGlvbi1zbWFydHdhdGNoLXRvcC01LWNocmlzdG1hcy1naWZ0LWlkZWFzLTExNzAxNjkwMzQ4MjgxLmh0bWzSAYgBaHR0cHM6Ly93d3cubGl2ZW1pbnQuY29tL3RlY2hub2xvZ3kvZnJvbS1zbWFydC1yaW5nLXRvLWdvdC1zcGVjaWFsLWVkaXRpb24tc21hcnR3YXRjaC10b3AtNS1jaHJpc3RtYXMtZ2lmdC1pZGVhcy9hbXAtMTE3MDE2OTAzNDgyODEuaHRtbA?oc=5',\n",
       "  'card_text': 'As we welcome the final month of the year, the anticipation of Christmas fills the air with joy. If you...',\n",
       "  'source': 'Mint',\n",
       "  'top_image': 'https://www.livemint.com/lm-img/img/2023/12/04/1600x900/knnnnnnnnnnn_1701690428793_1701690438078.jpg',\n",
       "  'validation': {'google_trends': ['Amazon',\n",
       "    'amazon gift ideas',\n",
       "    'christmas 2023',\n",
       "    'christmas 2023 gift ideas',\n",
       "    'christmas gift ideas',\n",
       "    'unique gift ideas',\n",
       "    'unique gift ideas for christmas']}},\n",
       " {'title': 'Lunar Mysteries: From ancient calendars to 21st Century exploration - The Financial Express',\n",
       "  'description': 'The initial era of lunar exploration unfolded amid the geopolitical competition of the Cold War between the United States and the Soviet Union.',\n",
       "  'url': 'https://news.google.com/rss/articles/CBMieWh0dHBzOi8vd3d3LmZpbmFuY2lhbGV4cHJlc3MuY29tL2xpZmUvc2NpZW5jZS1sdW5hci1teXN0ZXJpZXMtZnJvbS1hbmNpZW50LWNhbGVuZGFycy10by0yMXN0LWNlbnR1cnktZXhwbG9yYXRpb24tMzMyNzA5OC_SAX5odHRwczovL3d3dy5maW5hbmNpYWxleHByZXNzLmNvbS9saWZlL3NjaWVuY2UtbHVuYXItbXlzdGVyaWVzLWZyb20tYW5jaWVudC1jYWxlbmRhcnMtdG8tMjFzdC1jZW50dXJ5LWV4cGxvcmF0aW9uLTMzMjcwOTgvbGl0ZS8?oc=5',\n",
       "  'card_text': 'Earth’s sole satellite, measuring just a quarter of its size, traverses the space around our home planet in a state...',\n",
       "  'source': 'The Financial Express',\n",
       "  'top_image': 'https://www.financialexpress.com/wp-content/uploads/2023/12/moon-12.jpg',\n",
       "  'validation': {'google_trends': ['Lunar Mysteries',\n",
       "    'Moon Exploration',\n",
       "    \"Earth's sole satellite\",\n",
       "    'Solar System']}},\n",
       " {'title': 'First Look: Samsung Galaxy A55 full design and impressive specs surface online - Editorji',\n",
       "  'description': 'Get ready for the Samsung Galaxy A55, Samsung‘s latest addition to the Galaxy A series. Featuring an Exynos chipset, a 6.5-inch Super AMOLED display with a 120Hz refresh rate, and versatile camera options including a 50MP prima...',\n",
       "  'url': 'https://news.google.com/rss/articles/CBMihgFodHRwczovL3d3dy5lZGl0b3JqaS5jb20vdGVjaC1uZXdzL21vYmlsZXMvZmlyc3QtbG9vay1zYW1zdW5nLWdhbGF4eS1hNTUtZnVsbC1kZXNpZ24tYW5kLWltcHJlc3NpdmUtc3BlY3Mtc3VyZmFjZS1vbmxpbmUtMTcwMTY4MDc5MTIyOdIBigFodHRwczovL3d3dy5lZGl0b3JqaS5jb20vYW1wL3RlY2gtbmV3cy9tb2JpbGVzL2ZpcnN0LWxvb2stc2Ftc3VuZy1nYWxheHktYTU1LWZ1bGwtZGVzaWduLWFuZC1pbXByZXNzaXZlLXNwZWNzLXN1cmZhY2Utb25saW5lLTE3MDE2ODA3OTEyMjk?oc=5',\n",
       "  'card_text': 'Samsung is gearing up to launch its new smartphone, the Samsung Galaxy A55, which has been recently spotted in the...',\n",
       "  'source': 'Editorji',\n",
       "  'top_image': 'https://cdn.editorji.com/Ldy1CMGZFX.jpg',\n",
       "  'validation': {'google_trends': ['Samsung Galaxy A55',\n",
       "    '5K renders',\n",
       "    'specifications',\n",
       "    'launch',\n",
       "    'Samsung Galaxy A55 display',\n",
       "    'Samsung Galaxy A55 processor',\n",
       "    'Samsung Galaxy A55 RAM and storage',\n",
       "    'Samsung Galaxy A55 cameras',\n",
       "    'Samsung Galaxy A55 battery',\n",
       "    'Samsung Galaxy A55 launch date',\n",
       "    'Samsung Galaxy A55 India launch']}},\n",
       " {'title': 'Telegram update lets users transcribe voice chat, repost stories and more: Full details - The Financial Express',\n",
       "  'description': 'Here’s what Telegram is bringing to the table with its latest update.',\n",
       "  'url': 'https://news.google.com/rss/articles/CBMijwFodHRwczovL3d3dy5maW5hbmNpYWxleHByZXNzLmNvbS9saWZlL3RlY2hub2xvZ3ktdGVsZWdyYW0tdXBkYXRlLWxldHMtdXNlcnMtdHJhbnNjcmliZS12b2ljZS1jaGF0LXJlcG9zdC1zdG9yaWVzLWFuZC1tb3JlLWZ1bGwtZGV0YWlscy0zMzI3MTMwL9IBlAFodHRwczovL3d3dy5maW5hbmNpYWxleHByZXNzLmNvbS9saWZlL3RlY2hub2xvZ3ktdGVsZWdyYW0tdXBkYXRlLWxldHMtdXNlcnMtdHJhbnNjcmliZS12b2ljZS1jaGF0LXJlcG9zdC1zdG9yaWVzLWFuZC1tb3JlLWZ1bGwtZGV0YWlscy0zMzI3MTMwL2xpdGUv?oc=5',\n",
       "  'card_text': 'The popular instant messaging application, Telegram, has introduced an array of 11 new features, designed to enhance the overall user...',\n",
       "  'source': 'The Financial Express',\n",
       "  'top_image': 'https://www.financialexpress.com/wp-content/uploads/2023/12/telegram-app-image-resized.jpg',\n",
       "  'validation': {'google_trends': ['Telegram update',\n",
       "    'voice transcription',\n",
       "    'Reposting Stories',\n",
       "    'video messages',\n",
       "    'profile colors',\n",
       "    'wallpaper customization',\n",
       "    'voice-to-text feature',\n",
       "    'Insights for Channel Stories',\n",
       "    'custom reactions',\n",
       "    'code highlighting',\n",
       "    'group improvements',\n",
       "    'iOS animation effects',\n",
       "    'messaging app',\n",
       "    'instant messaging',\n",
       "    'communication features',\n",
       "    'Telegram innovations',\n",
       "    'user experience enhancements',\n",
       "    'competitive landscape',\n",
       "    'messaging competition',\n",
       "    'WhatsApp',\n",
       "    'Signal',\n",
       "    'Facebook Messenger',\n",
       "    'new Telegram features',\n",
       "    'channel discovery',\n",
       "    'curated channels',\n",
       "    'Premium user features',\n",
       "    'democratized voice-to-text',\n",
       "    'statistics for channel stories',\n",
       "    'custom emoji reactions',\n",
       "    'code syntax highlighting',\n",
       "    'group view preferences',\n",
       "    'iOS Thanos Snap animation',\n",
       "    'disappearing messages']}},\n",
       " {'title': 'Get That Perfect Shot: Top Deals On Ring Lights with Tripod Stand At Up To 80% Off - NDTV',\n",
       "  'description': 'Elevate your photography and videography skills by choosing a ring light that matches your style and needs, now at 80% off from Amazon.',\n",
       "  'url': 'https://news.google.com/rss/articles/CBMidmh0dHBzOi8vd3d3Lm5kdHYuY29tL3Nob3BwaW5nL2dldC10aGF0LXBlcmZlY3Qtc2hvdC10b3AtZGVhbHMtb24tcmluZy1saWdodHMtd2l0aC10cmlwb2Qtc3RhbmQtYXQtdXAtdG8tODAtb2ZmLTQ2MzIwNTXSAQA?oc=5',\n",
       "  'card_text': 'Lights, camera, action! Come and explore the stunning world of content creation with equipment that can truly stand by you....',\n",
       "  'source': 'NDTV',\n",
       "  'top_image': 'https://c.ndtvimg.com/2023-12/9qt25bt_ring-lights_625x300_04_December_23.jpg?im=FeatureCrop,algorithm=dnn,width=1200,height=675?ver-20231203.06',\n",
       "  'validation': {'google_trends': ['Amazon',\n",
       "    'Deals And Discounts',\n",
       "    'Best Offers',\n",
       "    'Best Deals Ring Lights',\n",
       "    'Best Amazon Deals',\n",
       "    'Best Ring Lights With Tripod']}},\n",
       " {'title': 'Upcoming Samsung Galaxy S24 series colour options leaked: Check full details - Editorji',\n",
       "  'description': 'Discover the leaked colour options for Samsung Galaxy S24 series, with advanced AI features and impressive specs. The S24 Ultra stands out with a potential titanium build and a 200MP camera, while S24 and S24 Plus offer unique ...',\n",
       "  'url': 'https://news.google.com/rss/articles/CBMihAFodHRwczovL3d3dy5lZGl0b3JqaS5jb20vdGVjaC1uZXdzL21vYmlsZXMvdXBjb21pbmctc2Ftc3VuZy1nYWxheHktczI0LXNlcmllcy1jb2xvdXItb3B0aW9ucy1sZWFrZWQtY2hlY2stZnVsbC1kZXRhaWxzLTE3MDE2NzQwMzYwMzHSAYgBaHR0cHM6Ly93d3cuZWRpdG9yamkuY29tL2FtcC90ZWNoLW5ld3MvbW9iaWxlcy91cGNvbWluZy1zYW1zdW5nLWdhbGF4eS1zMjQtc2VyaWVzLWNvbG91ci1vcHRpb25zLWxlYWtlZC1jaGVjay1mdWxsLWRldGFpbHMtMTcwMTY3NDAzNjAzMQ?oc=5',\n",
       "  'card_text': 'The Samsung Galaxy S24 series is expected to launch in early 2024 following the successful Galaxy S23 series. This new...',\n",
       "  'source': 'Editorji',\n",
       "  'top_image': 'https://cdn.editorji.com/YI6i2ThSv0.jpg',\n",
       "  'validation': {'google_trends': ['Samsung Galaxy S24 launch date',\n",
       "    'Samsung Galaxy S24 camera',\n",
       "    'Samsung Galaxy S24 battery life',\n",
       "    'Samsung Galaxy S24 price',\n",
       "    'Samsung Galaxy S24 features',\n",
       "    'Samsung Galaxy S24 vs Samsung Galaxy S23']}},\n",
       " {'title': '3 tips to enhance your Samsung smartphone battery health - The Indian Express',\n",
       "  'description': 'Enable these settings to enjoy a longer lasting battery health on your Samsung Galaxy smartphones.',\n",
       "  'url': 'https://news.google.com/rss/articles/CBMibGh0dHBzOi8vaW5kaWFuZXhwcmVzcy5jb20vYXJ0aWNsZS90ZWNobm9sb2d5L3RlY2hvb2svZW5oYW5jZS1zYW1zdW5nLXNtYXJ0cGhvbmUtYmF0dGVyeS1saWZlLWhlYWx0aC05MDUyNTMzL9IBcWh0dHBzOi8vaW5kaWFuZXhwcmVzcy5jb20vYXJ0aWNsZS90ZWNobm9sb2d5L3RlY2hvb2svZW5oYW5jZS1zYW1zdW5nLXNtYXJ0cGhvbmUtYmF0dGVyeS1saWZlLWhlYWx0aC05MDUyNTMzL2xpdGUv?oc=5',\n",
       "  'card_text': 'As smartphones get older, the battery starts to degrade, resulting in lower backup, which is an inevitable process. While there...',\n",
       "  'source': 'The Indian Express',\n",
       "  'top_image': 'https://images.indianexpress.com/2023/12/samsung-galaxy-m34.jpg',\n",
       "  'validation': {'google_trends': ['How to improve Samsung phone battery life',\n",
       "    'Samsung phone battery health check',\n",
       "    'Samsung phone battery draining fast',\n",
       "    'Samsung phone battery life',\n",
       "    'Samsung phone battery price']}},\n",
       " {'title': 'Stocks To Watch: HCLTech, Bank Of India, DCB Bank, Honasa Consumer and more - CNBCTV18',\n",
       "  'description': 'From Bank of India, DCB Bank, Honasa Consumers to JSW Infrastructure, here are the top stocks to watch out for on December 5:',\n",
       "  'url': 'https://news.google.com/rss/articles/CBMidGh0dHBzOi8vd3d3LmNuYmN0djE4LmNvbS9tYXJrZXQvc3RvY2tzLXRvLXdhdGNoLWhjbHRlY2gtYmFuay1vZi1pbmRpYS1kY2ItYmFuay1ob25hc2EtY29uc3VtZXItYW5kLW1vcmUtMTg0ODk3OTEuaHRt0gF4aHR0cHM6Ly93d3cuY25iY3R2MTguY29tL21hcmtldC9zdG9ja3MtdG8td2F0Y2gtaGNsdGVjaC1iYW5rLW9mLWluZGlhLWRjYi1iYW5rLWhvbmFzYS1jb25zdW1lci1hbmQtbW9yZS0xODQ4OTc5MS5odG0vYW1w?oc=5',\n",
       "  'card_text': 'Bank Of India Share Market Live NSE | The state-owned lender is preparing to launch a qualified institutional placement (QIP)...',\n",
       "  'source': 'CNBCTV18',\n",
       "  'top_image': 'https://images.cnbctv18.com/wp-content/uploads/2023/01/UK-1019x573.jpg',\n",
       "  'validation': {'google_trends': ['Stocks to watch',\n",
       "    'top stocks',\n",
       "    'boi',\n",
       "    'mamaearth',\n",
       "    'hcltech',\n",
       "    'dcb bank',\n",
       "    'jsw infrastructure']}},\n",
       " {'title': 'WhatsApp Update to Bring Telegram-Style Search by Username Feature on Android: Report - Gadgets 360',\n",
       "  'description': 'WhatsApp was said to be working to bring usernames to the app earlier this year. Beta version of the popular messaging platform on Android was spotted with a feature that would allow users to set a username for their profile. The Meta-owned app is now working on a new feature that will allow searching for other users on the app by their username. The feature is reportedly under development for a future update of the app on Android devices.',\n",
       "  'url': 'https://news.google.com/rss/articles/CBMicWh0dHBzOi8vd3d3LmdhZGdldHMzNjAuY29tL2FwcHMvbmV3cy93aGF0c2FwcC1zZWFyY2gtYnktdXNlcm5hbWUtZmVhdHVyZS1waG9uZS1udW1iZXItYmV0YS1hbmRyb2lkLXVwZGF0ZS00NjMxODYx0gF1aHR0cHM6Ly93d3cuZ2FkZ2V0czM2MC5jb20vYXBwcy9uZXdzL3doYXRzYXBwLXNlYXJjaC1ieS11c2VybmFtZS1mZWF0dXJlLXBob25lLW51bWJlci1iZXRhLWFuZHJvaWQtdXBkYXRlLTQ2MzE4NjEvYW1w?oc=5',\n",
       "  'card_text': 'WhatsApp was said to be working to bring usernames to the app earlier this year. The beta version of the...',\n",
       "  'source': 'Gadgets 360',\n",
       "  'top_image': 'https://i.gadgets360cdn.com/large/whatsapp_reuters_1685623219110.jpg',\n",
       "  'validation': {'google_trends': ['whatsapp search by username feature phone number beta android update whatsapp',\n",
       "    'whatsapp username',\n",
       "    'android']}},\n",
       " {'title': 'Redmi Note 13 Pro, Redmi Note 13 Pro+ European Pricing Surfaces Online - Gadgets 360',\n",
       "  'description': 'Redmi Note 13 series was launched in China in September. The Chinese smartphone brand is expected to unveil the Redmi Note 13, Redmi Note 13 Pro, and Redmi Note 13 Pro+ in the global markets soon. Ahead of their official unveiling, the European pricing of the Pro models has leaked online.',\n",
       "  'url': 'https://news.google.com/rss/articles/CBMibWh0dHBzOi8vd3d3LmdhZGdldHMzNjAuY29tL21vYmlsZXMvbmV3cy9yZWRtaS1ub3RlLTEzLXByby1wbHVzLXByaWNlLWV1ci00NTAtNTAwLWxhdW5jaC1pbW1pbmVudC1sZWFrLTQ2MzE4NTjSAXFodHRwczovL3d3dy5nYWRnZXRzMzYwLmNvbS9tb2JpbGVzL25ld3MvcmVkbWktbm90ZS0xMy1wcm8tcGx1cy1wcmljZS1ldXItNDUwLTUwMC1sYXVuY2gtaW1taW5lbnQtbGVhay00NjMxODU4L2FtcA?oc=5',\n",
       "  'card_text': 'Redmi Note 13 series was launched in China in September. The Chinese smartphone brand is expected to unveil the Redmi...',\n",
       "  'source': 'Gadgets 360',\n",
       "  'top_image': 'https://i.gadgets360cdn.com/large/redmi_note_13_series_1695100764617.jpg',\n",
       "  'validation': {'google_trends': ['redmi note 13 pro plus price eur 450 500 launch imminent leak redmi note 13',\n",
       "    'redmi note 13 series',\n",
       "    'redmi note 13 pro',\n",
       "    'redmi note 13 pro plus',\n",
       "    'redmi note 13 pro price',\n",
       "    'redmi note 13 pro plus price']}},\n",
       " {'title': 'WhatsApp Users To Share Status Updates On Instagram Soon - Zee News',\n",
       "  'description': 'According to reports from WABetaInfo, users will soon have the option to choose whether they want to share their status updates to Instagram, providing a level of control over their shared content.',\n",
       "  'url': 'https://news.google.com/rss/articles/CBMiamh0dHBzOi8vemVlbmV3cy5pbmRpYS5jb20vdGVjaG5vbG9neS93aGF0c2FwcC11c2Vycy10by1zaGFyZS1zdGF0dXMtdXBkYXRlcy1vbi1pbnN0YWdyYW0tc29vbi0yNjk1Mzg5Lmh0bWzSAW5odHRwczovL3plZW5ld3MuaW5kaWEuY29tL3RlY2hub2xvZ3kvd2hhdHNhcHAtdXNlcnMtdG8tc2hhcmUtc3RhdHVzLXVwZGF0ZXMtb24taW5zdGFncmFtLXNvb24tMjY5NTM4OS5odG1sL2FtcA?oc=5',\n",
       "  'card_text': 'New Delhi: Meta, the parent company of popular social media platforms like WhatsApp and Instagram, is reportedly developing a feature...',\n",
       "  'source': 'Zee News',\n",
       "  'top_image': 'https://english.cdn.zeenews.com/sites/default/files/2023/12/04/1330710-file-photo-38.jpg',\n",
       "  'validation': {'google_trends': ['WhatsApp New Feature',\n",
       "    'WhatsApp Latest Feature',\n",
       "    'WhatsApp',\n",
       "    'Meta',\n",
       "    'whatsapp latest feature',\n",
       "    'whatsapp newest feature',\n",
       "    'WhatsApp new feature',\n",
       "    'WhatsApp Latest Feature',\n",
       "    'Whatsapp',\n",
       "    'META']}},\n",
       " {'title': 'Google Messages rolling out Photomoji feature for beta users: Here’s how to use it - The Indian Express',\n",
       "  'description': \"Similar to Apple and Samsung, Google Messages' Photomoji feature lets you transform any image into stickers and reaction emojis which you can share with friends and colleagues.\",\n",
       "  'url': 'https://news.google.com/rss/articles/CBMijgFodHRwczovL2luZGlhbmV4cHJlc3MuY29tL2FydGljbGUvdGVjaG5vbG9neS90ZWNob29rL2dvb2dsZS1tZXNzYWdlcy1yb2xsaW5nLW91dC1waG90b21vamktZmVhdHVyZS1mb3ItYmV0YS11c2Vycy1oZXJlcy1ob3ctdG8tdXNlLWl0LTkwNTQ5NDUv0gGTAWh0dHBzOi8vaW5kaWFuZXhwcmVzcy5jb20vYXJ0aWNsZS90ZWNobm9sb2d5L3RlY2hvb2svZ29vZ2xlLW1lc3NhZ2VzLXJvbGxpbmctb3V0LXBob3RvbW9qaS1mZWF0dXJlLWZvci1iZXRhLXVzZXJzLWhlcmVzLWhvdy10by11c2UtaXQtOTA1NDk0NS9saXRlLw?oc=5',\n",
       "  'card_text': 'Google recently announced that it will be adding several new features to celebrate Messages’ 1 billion RCS users. While the...',\n",
       "  'source': 'The Indian Express',\n",
       "  'top_image': 'https://images.indianexpress.com/2023/12/Google-Messages-Google.jpg',\n",
       "  'validation': {'google_trends': ['google messages',\n",
       "    'google messages photomoji',\n",
       "    'google messages make photomoji',\n",
       "    'google messages custom sticker',\n",
       "    'google messages custom reaction',\n",
       "    'what is photomoji',\n",
       "    'google messages new feature']}},\n",
       " {'title': 'Day trading guide for stock market today: Four stocks to buy or sell on Tuesday — 5th December | Mint - Mint',\n",
       "  'description': 'Day trading stocks: Market experts have recommended four stocks to buy today — ICICI Bank, Kotak Mahindra Bank, OIL, NAM-India',\n",
       "  'url': 'https://news.google.com/rss/articles/CBMioQFodHRwczovL3d3dy5saXZlbWludC5jb20vbWFya2V0L3N0b2NrLW1hcmtldC1uZXdzL2RheS10cmFkaW5nLWd1aWRlLWZvci1zdG9jay1tYXJrZXQtdG9kYXktZm91ci1zdG9ja3MtdG8tYnV5LW9yLXNlbGwtb24tdHVlc2RheS01dGgtZGVjZW1iZXItMTE3MDE3NDE0Mjk1NTguaHRtbNIBpQFodHRwczovL3d3dy5saXZlbWludC5jb20vbWFya2V0L3N0b2NrLW1hcmtldC1uZXdzL2RheS10cmFkaW5nLWd1aWRlLWZvci1zdG9jay1tYXJrZXQtdG9kYXktZm91ci1zdG9ja3MtdG8tYnV5LW9yLXNlbGwtb24tdHVlc2RheS01dGgtZGVjZW1iZXIvYW1wLTExNzAxNzQxNDI5NTU4Lmh0bWw?oc=5',\n",
       "  'card_text': \"Day trading guide for today: Celebrating BJP's victory in three states, Indian stock market extended the participatory rally for yet...\",\n",
       "  'source': 'Mint',\n",
       "  'top_image': 'https://www.livemint.com/lm-img/img/2023/12/05/1600x900/Stock_market_today_Nifty_50_stocks_to_buy_today_1701741678970_1701741679189.jpg',\n",
       "  'validation': {'google_trends': ['Stock market today',\n",
       "    'Day trading guide',\n",
       "    'Stocks to buy today',\n",
       "    'Buy or sell stock',\n",
       "    'Kotak Mahindra Bank share',\n",
       "    'ICICI Bank share price',\n",
       "    'Day trading stocks',\n",
       "    'Nifty 50',\n",
       "    'Stock market news']}},\n",
       " {'title': \"From flip phones to offline expansion: Motorola's 2023 story and outlook for 2024 - afaqs!\",\n",
       "  'description': \"Motorola's head of marketing shares insights on doubling market share, expanding offline reach, and focusing on premium and 5g portfolios.\",\n",
       "  'url': 'https://news.google.com/rss/articles/CBMicWh0dHBzOi8vd3d3LmFmYXFzLmNvbS9uZXdzL21rdGcvZnJvbS1mbGlwLXBob25lcy10by1vZmZsaW5lLWV4cGFuc2lvbi1tb3Rvcm9sYXMtMjAyMy1zdG9yeS1hbmQtb3V0bG9vay1mb3ItMjAyNC0y0gEA?oc=5',\n",
       "  'card_text': 'With flip phones coming back in India, there’s a common trend with the pricing of products that they all are...',\n",
       "  'source': 'afaqs!',\n",
       "  'top_image': 'https://gumlet.assettype.com/afaqs%2F2023-12%2F6f08c45c-37a9-4e7c-8d54-1a067f3354bb%2Finterview.png?w=1200&auto=format%2Ccompress&ogImage=true',\n",
       "  'validation': {'google_trends': ['Motorola', 'Shivam Ranjan']}},\n",
       " {'title': 'IPL Auction 2024: Check Date, Time, Venue, Total Purse Remaining, Slots-All You Need to Know - Zee Business',\n",
       "  'description': 'IPL Auction 2024: The auction is set to be held at the Coca-Cola Arena in Dubai on Tuesday, December 19, 2023. This is the very first time in the history of IPL that the auction is set to happen outside India. Get more Sports News and Business News on Zee Business.',\n",
       "  'url': 'https://news.google.com/rss/articles/CBMiigFodHRwczovL3d3dy56ZWViaXouY29tL3RyZW5kaW5nL3Nwb3J0cy9uZXdzLWlwbC1hdWN0aW9uLTIwMjQtY2hlY2stZGF0ZS10aW1lLXZlbnVlLXRvdGFsLXB1cnNlLXJlbWFpbmluZy1zbG90cy1hbGwteW91LW5lZWQtdG8ta25vdy0yNjc1MjPSAY4BaHR0cHM6Ly93d3cuemVlYml6LmNvbS90cmVuZGluZy9zcG9ydHMvbmV3cy1pcGwtYXVjdGlvbi0yMDI0LWNoZWNrLWRhdGUtdGltZS12ZW51ZS10b3RhbC1wdXJzZS1yZW1haW5pbmctc2xvdHMtYWxsLXlvdS1uZWVkLXRvLWtub3ctMjY3NTIzL2FtcA?oc=5',\n",
       "  'card_text': 'IPL Auction 2024: After the end of the deadline for player registration on Thursday, November 30, we are all set...',\n",
       "  'source': 'Zee Business',\n",
       "  'top_image': 'https://cdn.zeebiz.com/sites/default/files/2023/12/04/271395-your-paragraph-text-3.jpg',\n",
       "  'validation': {'google_trends': ['IPL 2024',\n",
       "    'IPL 2024 auction',\n",
       "    'IPL 2024 auction details',\n",
       "    'IPL 2024 auction date',\n",
       "    'IPL 2024 auction time',\n",
       "    'IPL 2024 auction budget',\n",
       "    'IPL 2024 auction slot',\n",
       "    'IPL 2024 auction details',\n",
       "    'IPL 2024 aution budget of all teams',\n",
       "    'Cricket News',\n",
       "    'News',\n",
       "    'Business News',\n",
       "    'Zee Business']}},\n",
       " {'title': 'Best CCTV Cameras in India (December 2023): Keep Your Home And Office Safe With These Affordable Options - Jagran English',\n",
       "  'description': 'If you are on the prowl for the best CCTV cameras in India that provide impeccable quality footage to safeguard your home while being strongly affordable, then you’ve come to the right place. We have made a list of the best security cameras detailing everything you need to know about them to make a purchase. Secure your loved ones with some of the best cameras out there.',\n",
       "  'url': 'https://news.google.com/rss/articles/CBMimAFodHRwczovL2VuZ2xpc2guamFncmFuLmNvbS90b3AtZGVhbHMvZWxlY3Ryb25pY3MvY2FtZXJhL2Jlc3QtY2N0di1jYW1lcmFzLWluLWluZGlhLWtlZXAteW91ci1ob21lLWFuZC1vZmZpY2Utc2FmZS13aXRoLXRoZXNlLWFmZm9yZGFibGUtb3B0aW9ucy0xMDExODA0OdIBAA?oc=5',\n",
       "  'card_text': 'Best CCTV Cameras in India: Security is the need of the hour for all of us. Crime statistics may be...',\n",
       "  'source': 'Jagran English',\n",
       "  'top_image': 'https://imgeng.jagran.com/images/2023/dec/best cctv cameras for home1701685686125.jpg',\n",
       "  'validation': {'google_trends': ['Best CCTV Cameras in India',\n",
       "    'CCTV camera price',\n",
       "    'CCTV',\n",
       "    'security camera',\n",
       "    'security cameras',\n",
       "    'wifi camera',\n",
       "    'wifi cameras',\n",
       "    'Security camera for home',\n",
       "    'Best Camera',\n",
       "    'Best CCTV Camera For Home With Mobile Connectivity',\n",
       "    'CCTV Camera For Home',\n",
       "    'CCTV cameras',\n",
       "    'CCTV camera for home with mobile connectivity',\n",
       "    'camera',\n",
       "    'cameras',\n",
       "    'wifi',\n",
       "    'Camera For Home',\n",
       "    'best CCTV camera',\n",
       "    'CCTV Camera',\n",
       "    'CP PLUS',\n",
       "    'CCTV Camera Price',\n",
       "    'CP PLUS CCTV Camera',\n",
       "    'best CCTV cameras',\n",
       "    'Camera Price',\n",
       "    'TP-Link CCTV Camera',\n",
       "    'Amazon',\n",
       "    'CP PLUS CCTV Camera Price',\n",
       "    'TP-Link CCTV Camera Price',\n",
       "    'TP-Link',\n",
       "    'Hevalls CCTV Camera Price',\n",
       "    'Hevalls CCTV Camera',\n",
       "    'HevallS',\n",
       "    'PHILIPS CCTV Camera Price',\n",
       "    'PHILIPS CCTV Camera',\n",
       "    'PHILIPS',\n",
       "    'surveillance camera',\n",
       "    'CCTV for home',\n",
       "    'best security camera']}},\n",
       " {'title': \"MediaTek's vision: AI-powered chips hinted with image manipulation and personalized suggestion | Mint - Mint\",\n",
       "  'description': \"MediaTek's AI chips, like the Dimensity 9300 and Dimensity 8300, have on-device generative AI capabilities. The Dimensity 9300 can handle Large Language Models (LLMs) with up to 33 billion parameters.\",\n",
       "  'url': 'https://news.google.com/rss/articles/CBMijAFodHRwczovL3d3dy5saXZlbWludC5jb20vYWkvbWVkaWF0ZWtzLXZpc2lvbi1haS1wb3dlcmVkLWNoaXBzLWhpbnRlZC13aXRoLWltYWdlLW1hbmlwdWxhdGlvbi1hbmQtcGVyc29uYWxpemVkLXN1Z2dlc3Rpb24tMTE3MDE2ODM1NTYyODEuaHRtbNIBkAFodHRwczovL3d3dy5saXZlbWludC5jb20vYWkvbWVkaWF0ZWtzLXZpc2lvbi1haS1wb3dlcmVkLWNoaXBzLWhpbnRlZC13aXRoLWltYWdlLW1hbmlwdWxhdGlvbi1hbmQtcGVyc29uYWxpemVkLXN1Z2dlc3Rpb24vYW1wLTExNzAxNjgzNTU2MjgxLmh0bWw?oc=5',\n",
       "  'card_text': 'MediaTek, at its Executive Summit 2023, unveiled plans to introduce AI-powered chips, a move aimed at integrating generative AI into...',\n",
       "  'source': 'Mint',\n",
       "  'top_image': 'https://www.livemint.com/lm-img/img/2023/12/04/1600x900/9000_1688568208337_1701684209533.jpg',\n",
       "  'validation': {'google_trends': ['MediaTek',\n",
       "    'Dimensity 9300',\n",
       "    'MediaTek chips',\n",
       "    'MediaTek chipsets',\n",
       "    'Google Chips',\n",
       "    'Google Processor']}},\n",
       " {'title': 'The story behind Giorgia Meloni’s ‘anti-anxiety’ phone case in selfie with PM Modi - India Today',\n",
       "  'description': \"The phrases written on Italian PM Giorgia Meloni's phone case include powerful affirmations such as 'I've got my back,' 'my anxiety doesn't define me.\",\n",
       "  'url': 'https://news.google.com/rss/articles/CBMiogFodHRwczovL3d3dy5pbmRpYXRvZGF5LmluL3RyZW5kaW5nLW5ld3Mvc3RvcnkvaXRhbGlhbi1wbS1naW9yZ2lhLW1lbG9uaXMtdmlyYWwtc2VsZmllLXdpdGgtcG0tbW9kaS1zcG90bGlnaHRzLWFudGktYW54aWV0eS1waG9uZS1jYXNlLWF0LWNvcC0yOC0yNDcyMDYwLTIwMjMtMTItMDXSAaYBaHR0cHM6Ly93d3cuaW5kaWF0b2RheS5pbi9hbXAvdHJlbmRpbmctbmV3cy9zdG9yeS9pdGFsaWFuLXBtLWdpb3JnaWEtbWVsb25pcy12aXJhbC1zZWxmaWUtd2l0aC1wbS1tb2RpLXNwb3RsaWdodHMtYW50aS1hbnhpZXR5LXBob25lLWNhc2UtYXQtY29wLTI4LTI0NzIwNjAtMjAyMy0xMi0wNQ?oc=5',\n",
       "  'card_text': 'Italian Prime Minister Giorgia Meloni made headlines earlier this week after her selfie with Prime Minister Narendra Modi at COP28...',\n",
       "  'source': 'India Today',\n",
       "  'top_image': 'https://akm-img-a-in.tosshub.com/indiatoday/images/story/202312/meloni-053051179-16x9_0.jpg?VersionId=5oh.yjqxhf535YR63w3bjGS2y14Ruxzq',\n",
       "  'validation': {'google_trends': ['PM Modi',\n",
       "    'Italian PM',\n",
       "    'Giorgia Meloni',\n",
       "    'anti anxiety',\n",
       "    'phone case',\n",
       "    'viral post',\n",
       "    '']}}]"
      ]
     },
     "execution_count": 5,
     "metadata": {},
     "output_type": "execute_result"
    }
   ],
   "source": [
    "filter_news(content_category, chroma_reader, country_code)"
   ]
  },
  {
   "cell_type": "code",
   "execution_count": 15,
   "metadata": {},
   "outputs": [],
   "source": [
    "client = HttpClient(\n",
    "    host=os.environ[\"CHROMA_IP\"],\n",
    "    port=int(os.environ[\"CHROMA_PORT\"])\n",
    ")\n",
    "collection = client.get_collection(collection_name, embedding_function=OpenAIEmbeddingFunction(api_key=os.environ[\"OPENAI_API_KEY\"]))"
   ]
  },
  {
   "cell_type": "code",
   "execution_count": 22,
   "metadata": {},
   "outputs": [],
   "source": [
    "outs = collection.query(query_texts=query, n_results=20, where={\"country_code\":country_code})"
   ]
  },
  {
   "cell_type": "code",
   "execution_count": 8,
   "metadata": {},
   "outputs": [
    {
     "data": {
      "text/plain": [
       "[Document(page_content='Lunar Mysteries: From ancient calendars to 21st Century exploration - The Financial Express', metadata={'card_text': 'Earth’s sole satellite, measuring just a quarter of its size, traverses the space around our home planet in a state...', 'country_code': 'IN', 'description': 'The initial era of lunar exploration unfolded amid the geopolitical competition of the Cold War between the United States and the Soviet Union.', 'keywords': \"Lunar Mysteries,Moon Exploration,Earth's sole satellite,Solar System\", 'source': 'The Financial Express', 'source_href': 'https://www.financialexpress.com', 'text': 'Earth’s sole satellite, measuring just a quarter of its size, traverses the space around our home planet in a state of cold and lifeless isolation. Its orbit expands by an inch and a half each year.\\n\\nThe Moon has been Earth’s companion for approximately 4.6 billion years, since the birth of the Solar System. In ancient times, humans were fascinated by the Moon’s ever-changing position, shape, and its periodic disappearance from the sky during its 29-day cycle. Early civilizations, particularly in the Stone Age, documented the various phases of the Moon, using its observations as a means to mark the passage of days and anticipate the changing seasons. The reliable tracking of time was crucial for essential activities like agriculture and hunting, laying the foundation for human civilization.\\n\\nNotably, ancient societies, including those responsible for structures like Stonehenge, incorporated lunar cycles into their calendar systems. The positioning of stones at sites like Stonehenge suggests a connection to lunar phenomena. These early calendars not only served as tools for tracking time but also influenced the determination of when the year should commence and how to subdivide it into smaller units. While the contemporary Gregorian calendar is based on the solar year, it’s essential to recognize that the earliest calendar systems were rooted in the lunar cycle.\\n\\nAlso Read Vijaybhoomi University signs MoU for research collaboration with the Indian Institute of Science\\n\\nHistory of Moon Exploration\\n\\nThe initial era of lunar exploration unfolded amid the geopolitical competition of the Cold War between the United States and the Soviet Union. In 1959, the Soviets achieved a notable milestone with Luna 1, marking the first spacecraft to break free from Earth’s gravity and approach the moon within approximately 4,000 miles. Subsequent Soviet missions, such as Luna 2, made strides by establishing contact with the moon’s surface, with Luna 2 crash-landing in the Mare Imbrium basin, yielding valuable insights. Concurrently, the United States entered the lunar exploration arena with NASA’s Ranger spacecraft, executing nine missions between 1961 and 1965. These missions provided close-up views and crucial data, aiding scientists in understanding the moon’s rough terrain and identifying potential landing sites for future human missions.\\n\\nHow is time calculated on the moon?\\n\\nOn the Moon, time is a bit different than what we experience on Earth. Unlike our 24-hour day, a day on the Moon, called a lunar day, lasts about 29.5 Earth days. This is because it takes the Moon about 29.5 days to complete one full rotation on its axis. So, if you were standing on the Moon, you would see the Sun rise and set over a period of nearly 30 Earth days.\\n\\nTo measure shorter intervals, like hours and minutes, scientists and astronauts use a system similar to ours. They’ve divided the lunar day into 24 “hours,” and each “hour” is further divided into 60 “minutes.” However, these lunar hours and minutes are much longer than our Earth hours and minutes.\\n\\nInterestingly, due to the lack of a significant atmosphere on the Moon, there’s no natural way to define days and nights based on sunlight. Instead, temperatures can vary wildly between the extremely hot lunar day and the bitterly cold lunar night. This unique way of experiencing time adds an extra layer of challenge and fascination to any lunar activities or missions.\\n\\nWhat time is it on the Moon and why should we care?\\n\\n“For the many nations, international alliances, and companies investing in future opportunities on and around the Moon, the answer (or lack thereof) may have serious implications,” US based Ben Ogden, Professor of Strategic Space Studies, says .\\n\\nAccording to Prof Ogden, “On Earth, aside from a few anomalies, the global community uses 24 geographical time zones aligned with Earth’s rotation as well as a Coordinated Universal Time (CUT) to synchronize timekeeping (most effectively by means of GPS satellite signals). This precise timing harmony enables our technologically modern world to function at its peak.”\\n\\n“Assured timing and tempo will mean everything to the long list of interested stakeholders looking to revolutionize human presence and activity on the lunar surface and its associated orbits. So, the spacefaring community needs a common timekeeping governance to avoid operational degradation, disruption, miscalculation, embarrassment, and even catastrophe before the next lunar footprints are set.\\n\\nOtherwise, travelers to the so-called “Eighth Continent” might experience something a little more serious than a bad case of jetlag,” he states.\\n\\nLunar Exploration\\n\\nHumans have been fascinated by the moon since ancient times, gazing up at its luminous presence in the night sky. The earliest recorded observations of the moon date back to ancient civilizations, where it often held cultural and religious significance. However, it wasn’t until the invention of the telescope in the 17th century that detailed lunar exploration began.\\n\\nIn 1609, Galileo Galilei turned his telescope to the moon, revealing its cratered surface and mountains. This marked a crucial milestone in our understanding of Earth’s celestial companion. Over the centuries, various lunar missions and scientific advancements further fueled our interest in lunar exploration.\\n\\nThe space race of the 20th century played a pivotal role in intensifying our lunar curiosity. The Apollo program by NASA, initiated in 1961, aimed to land humans on the moon. On July 20, 1969, the Apollo 11 mission achieved this historic feat, with astronauts Neil Armstrong and Buzz Aldrin becoming the first humans to set foot on the lunar surface.\\n\\nIn the 21st century, renewed interest in lunar exploration has emerged, driven by technological advancements, international collaborations, and the pursuit of scientific knowledge. The moon serves as a valuable platform for studying planetary processes, conducting space experiments, and potentially establishing a future human presence beyond Earth. This ongoing curiosity about the moon reflects humanity’s enduring quest for understanding and exploring the mysteries of the cosmos.', 'top_image': 'https://www.financialexpress.com/wp-content/uploads/2023/12/moon-12.jpg', 'topic': 'SCIENCE', 'url': 'https://news.google.com/rss/articles/CBMieWh0dHBzOi8vd3d3LmZpbmFuY2lhbGV4cHJlc3MuY29tL2xpZmUvc2NpZW5jZS1sdW5hci1teXN0ZXJpZXMtZnJvbS1hbmNpZW50LWNhbGVuZGFycy10by0yMXN0LWNlbnR1cnktZXhwbG9yYXRpb24tMzMyNzA5OC_SAX5odHRwczovL3d3dy5maW5hbmNpYWxleHByZXNzLmNvbS9saWZlL3NjaWVuY2UtbHVuYXItbXlzdGVyaWVzLWZyb20tYW5jaWVudC1jYWxlbmRhcnMtdG8tMjFzdC1jZW50dXJ5LWV4cGxvcmF0aW9uLTMzMjcwOTgvbGl0ZS8?oc=5'}),\n",
       " Document(page_content=\"Gen Z wants to prioritize staying healthy in 2024, new Instagram survey says—here's what else they care about - CNBC\", metadata={'card_text': 'The wellness industry will probably continue to soar in 2024, as it did in 2023, especially with the help of...', 'country_code': 'AE', 'description': 'The wellness industry will probably continue to soar in 2024, as it did in 2023, especially with the help of Gen Z.', 'keywords': 'Wellness,Lifestyle,Generation Z,Instagram', 'source': 'CNBC', 'source_href': 'https://www.cnbc.com', 'text': 'The wellness industry will probably continue to soar in 2024, as it did in 2023, especially with the help of Gen Z.\\n\\nTo get a peak into what 2024 holds for the younger population, from pre-teens to those in their mid-twenties, Instagram asked them directly about their interests, which may drive the trends we see next year.\\n\\nIn partnership with the Worth Global Style Network, a leading trend forecaster internationally, Instagram created a survey asking about the \"topics, issues, and trends that matter to Gen Z,\" according to the platform\\'s release for their 2024 Instagram Trend Talk. About 5,000 Gen Z participants responded to the survey across the U.S., U.K., India, South Korea and Brazil, according to Meta.\\n\\nDON\\'T MISS: The No. 1 industry Gen Z wants to work in, according to new research—it’s not tech\\n\\nWhen asked about what their top three priorities for lifestyle would be in 2024, here\\'s what Gen Z landed on:\\n\\nStaying healthy (including working out often and eating healthy meals)\\n\\nExploring a career path\\n\\nTraveling\\n\\nAnd if they could choose what era they want 2024 to be for them, the Zoomers gravitated towards these descriptors:\\n\\nSelf Improvement or Development Lucky Unapologetically Myself\\n\\nEntrepreneurship is also looking more attractive to Gen Z, with 1 in 3 noting self-employment as the best way to become wealthy.\\n\\nOverall, growth seems to be a huge focus for Gen Z as we near the new year, and the ways they plan to get to where they want to be mostly fall within some realm of personal development.\\n\\nWhether it\\'s improving their health, trying new things in work or simply manifesting more luck, Gen Z wants wellness to be at the center of their lives in 2024.\\n\\nDON\\'T MISS: Want to be smarter and more successful with your money, work & life? Sign up for our new newsletter!\\n\\nGet CNBC\\'s free Warren Buffett Guide to Investing, which distills the billionaire\\'s No. 1 best piece of advice for regular investors, do\\'s and don\\'ts, and three key investing principles into a clear and simple guidebook.', 'top_image': 'https://image.cnbcfm.com/api/v1/image/107342895-1701724929581-gettyimages-1280950564-threewomanjoggersonpath-.jpeg?v=1701724987&w=1920&h=1080', 'topic': 'BUSINESS', 'url': 'https://news.google.com/rss/articles/CBMiaWh0dHBzOi8vd3d3LmNuYmMuY29tLzIwMjMvMTIvMDQvZ2VuLXotd2lsbC1wcmlvcml0aXplLXN0YXlpbmctaGVhbHRoeS1pbi0yMDI0LWluc3RhZ3JhbS1zdXJ2ZXktc2hvd3MuaHRtbNIBbWh0dHBzOi8vd3d3LmNuYmMuY29tL2FtcC8yMDIzLzEyLzA0L2dlbi16LXdpbGwtcHJpb3JpdGl6ZS1zdGF5aW5nLWhlYWx0aHktaW4tMjAyNC1pbnN0YWdyYW0tc3VydmV5LXNob3dzLmh0bWw?oc=5'}),\n",
       " Document(page_content=\"Gen Z wants to prioritize staying healthy in 2024, new Instagram survey says—here's what else they care about - CNBC\", metadata={'card_text': 'The wellness industry will probably continue to soar in 2024, as it did in 2023, especially with the help of...', 'country_code': 'US', 'description': 'The wellness industry will probably continue to soar in 2024, as it did in 2023, especially with the help of Gen Z.', 'keywords': 'Wellness,Lifestyle,Generation Z,Instagram', 'source': 'CNBC', 'source_href': 'https://www.cnbc.com', 'text': 'The wellness industry will probably continue to soar in 2024, as it did in 2023, especially with the help of Gen Z.\\n\\nTo get a peak into what 2024 holds for the younger population, from pre-teens to those in their mid-twenties, Instagram asked them directly about their interests, which may drive the trends we see next year.\\n\\nIn partnership with the Worth Global Style Network, a leading trend forecaster internationally, Instagram created a survey asking about the \"topics, issues, and trends that matter to Gen Z,\" according to the platform\\'s release for their 2024 Instagram Trend Talk. About 5,000 Gen Z participants responded to the survey across the U.S., U.K., India, South Korea and Brazil, according to Meta.\\n\\nDON\\'T MISS: The No. 1 industry Gen Z wants to work in, according to new research—it’s not tech\\n\\nWhen asked about what their top three priorities for lifestyle would be in 2024, here\\'s what Gen Z landed on:\\n\\nStaying healthy (including working out often and eating healthy meals)\\n\\nExploring a career path\\n\\nTraveling\\n\\nAnd if they could choose what era they want 2024 to be for them, the Zoomers gravitated towards these descriptors:\\n\\nSelf Improvement or Development Lucky Unapologetically Myself\\n\\nEntrepreneurship is also looking more attractive to Gen Z, with 1 in 3 noting self-employment as the best way to become wealthy.\\n\\nOverall, growth seems to be a huge focus for Gen Z as we near the new year, and the ways they plan to get to where they want to be mostly fall within some realm of personal development.\\n\\nWhether it\\'s improving their health, trying new things in work or simply manifesting more luck, Gen Z wants wellness to be at the center of their lives in 2024.\\n\\nDON\\'T MISS: Want to be smarter and more successful with your money, work & life? Sign up for our new newsletter!\\n\\nGet CNBC\\'s free Warren Buffett Guide to Investing, which distills the billionaire\\'s No. 1 best piece of advice for regular investors, do\\'s and don\\'ts, and three key investing principles into a clear and simple guidebook.', 'top_image': 'https://image.cnbcfm.com/api/v1/image/107342895-1701724929581-gettyimages-1280950564-threewomanjoggersonpath-.jpeg?v=1701724987&w=1920&h=1080', 'topic': 'BUSINESS', 'url': 'https://news.google.com/rss/articles/CBMiaWh0dHBzOi8vd3d3LmNuYmMuY29tLzIwMjMvMTIvMDQvZ2VuLXotd2lsbC1wcmlvcml0aXplLXN0YXlpbmctaGVhbHRoeS1pbi0yMDI0LWluc3RhZ3JhbS1zdXJ2ZXktc2hvd3MuaHRtbNIBbWh0dHBzOi8vd3d3LmNuYmMuY29tL2FtcC8yMDIzLzEyLzA0L2dlbi16LXdpbGwtcHJpb3JpdGl6ZS1zdGF5aW5nLWhlYWx0aHktaW4tMjAyNC1pbnN0YWdyYW0tc3VydmV5LXNob3dzLmh0bWw?oc=5'}),\n",
       " Document(page_content='With Kakasana a.k.a Crow Pose, Alaya Furniturewala Kickstarts Her Week On A High Note - NDTV Swirlster', metadata={'card_text': 'Winter is here and if you have been feeling a little less motivated, all you have to do is to...', 'country_code': 'IN', 'description': 'Alaya Furniturewala, instead of performing the asana on the floor, can be seen doing it on two bricks.', 'keywords': 'Alaya Furniturewalla,Yoga,Fitness', 'source': 'NDTV Swirlster', 'source_href': 'https://swirlster.ndtv.com', 'text': \"Winter is here and if you have been feeling a little less motivated, all you have to do is to land on Alaya Furniturewalla's social media. Why? With her on-point fitness game, the actress never fails to serve you the right kind of goals. Be it yoga, boxing or cardio, Alaya unleashes the beast mode. The actress, who recently completed a 21-day workout goal challenge, is back at it again. Alaya dropped a video of herself on her stories that will force you to hit the gym now. In the clip, Alaya can be seen nailing <i>kakasana</i> a.k.a. crow pose. The video shows the actress balancing her body on her hands. Alaya, instead of performing the asana on the floor, can be seen doing it on two bricks. Yes, you read that right. For her workout session, the actress picked an all-black athleisure set, featuring a bralette and matching tights. Sharing the video, she wrote, “Back in action”\\n\\nAlaya Furtniturewalla loves to bring versatility to her fitness regime. Just a few days back, the actress was seen performing squats. Alaya made it a bit tricky with a 15 kg bag weight and additional weights tied to her ankles. In case you are wondering, this exercise aids in building body muscles. In addition, it also diverts the major focus on leg muscles and glutes.\\n\\nIn case you don't know, back in October this year, Alaya Furniturewalla kick-started her 21-day workout goal without a break. As a part of the challenge, the actress drops several claims of herself indulging in the same. On Day 1 of the challenge, the actress, dressed in a navy blue athleisure set, was seen performing the barbell squats. This exercise helps in improving the thigh muscles and glutes.\\n\\nADVERTISEMENT\\n\\nAlaya Furniturewalla also gave us major fitness goals by performing lateral squats with utmost perfection. For those who don't know, it is a great workout form to improve overall muscle strength, especially focusing on the glutes and legs.\\n\\nAlaya Furniturewalla's love for versatility in her fitness regime truly challenges her to the extreme.\", 'top_image': 'https://c.ndtvimg.com/2023-12/5426332_alaya_625x300_04_December_23.jpg', 'topic': 'ENTERTAINMENT', 'url': 'https://news.google.com/rss/articles/CBMigQFodHRwczovL3N3aXJsc3Rlci5uZHR2LmNvbS93ZWxsbmVzcy93aXRoLWtha2FzYW5hLWEtay1hLWNyb3ctcG9zZS1hbGF5YS1mdXJuaXR1cmV3YWxhLWtpY2stc3RhcnRzLWhlci13ZWVrLW9uLWEtaGlnaC1ub3RlLTQ2MzMwNTDSAQA?oc=5'}),\n",
       " Document(page_content='Solar system with 6 planets orbiting in-sync discovered in Milky Way - PBS NewsHour', metadata={'card_text': '...', 'country_code': 'AE', 'description': 'Astronomers have discovered a rare solar system with six planets moving in sync with one another. Estimated to be billions of years old, the formation 100 li...', 'keywords': 'video,sharing,camera phone,video phone,free,upload', 'source': 'PBS NewsHour', 'source_href': 'https://www.youtube.com', 'text': '', 'top_image': 'https://i.ytimg.com/vi/ZUTPoINTqYM/maxresdefault.jpg', 'topic': 'SCIENCE', 'url': 'https://news.google.com/rss/articles/CCAiC1pVVFBvSU5UcVlNmAEB?oc=5'}),\n",
       " Document(page_content='Solar system with 6 planets orbiting in-sync discovered in Milky Way - PBS NewsHour', metadata={'card_text': '...', 'country_code': 'IN', 'description': 'Astronomers have discovered a rare solar system with six planets moving in sync with one another. Estimated to be billions of years old, the formation 100 li...', 'keywords': 'video,sharing,camera phone,video phone,free,upload', 'source': 'PBS NewsHour', 'source_href': 'https://www.youtube.com', 'text': '', 'top_image': 'https://i.ytimg.com/vi/ZUTPoINTqYM/maxresdefault.jpg', 'topic': 'SCIENCE', 'url': 'https://news.google.com/rss/articles/CCAiC1pVVFBvSU5UcVlNmAEB?oc=5'}),\n",
       " Document(page_content='Solar system with 6 planets orbiting in-sync discovered in Milky Way - PBS NewsHour', metadata={'card_text': '...', 'country_code': 'US', 'description': 'Astronomers have discovered a rare solar system with six planets moving in sync with one another. Estimated to be billions of years old, the formation 100 li...', 'keywords': 'video,sharing,camera phone,video phone,free,upload', 'source': 'PBS NewsHour', 'source_href': 'https://www.youtube.com', 'text': '', 'top_image': 'https://i.ytimg.com/vi/ZUTPoINTqYM/maxresdefault.jpg', 'topic': 'SCIENCE', 'url': 'https://news.google.com/rss/articles/CCAiC1pVVFBvSU5UcVlNmAEB?oc=5'}),\n",
       " Document(page_content='Promoter Entity Warburg Pincus Exits CAMS With Four Times Returns - BQ Prime', metadata={'card_text': 'The promoter entity of Computer Age Management Services Ltd. has sold its 19.8% stake for Rs 2,700 crore via a...', 'country_code': 'IN', 'description': 'The promoter entity of Computer Age Management Services Ltd. has sold 19.8% stake for Rs 2,700 crore via a block trade.\\n\\nAmong the buyers of the stake, India Acorn Icav bought 11 lakh shares (2.24%), Morgan Stanley Asia Singapore Pte. bought 7.61 lakh shares (1.54%), Societe Generale bought 12.11 lakh shares (2.46%) at Rs 2,766 apiece.', 'keywords': 'Computer Age Management Services Ltd.,CAMS,19.8% stake sale,Rs 2,700 crore,Block Deal', 'source': 'BQ Prime', 'source_href': 'https://www.bqprime.com', 'text': 'The promoter entity of Computer Age Management Services Ltd. has sold its 19.8% stake for Rs 2,700 crore via a block trade.\\n\\nGreat Terrain Investment Ltd., an affiliate of Warburg Pincus LLC, had offloaded 97.5 lakh shares of the company at Rs 2,766.47 apiece, according to data from the Bombay Stock Exchange. After this trade, Great Terrain Investment sold its entire stake and exited the company. The promoter entity had acquired the stake in 2018 at an average weighted cost of Rs 717.80 per share, marking a four times payout at exit.\\n\\nAmong the buyers of the stake, India Acorn Icav bought 11 lakh shares (2.24%), while Morgan Stanley Asia Singapore Pte. bought 7.61 lakh shares (1.54%), and Societe Generale purchased 12.11 lakh shares (2.46%) at Rs 2,766 apiece.\\n\\nKotak Mahindra Mutual Fund, Abu Dhabi Investment Authority, and Goldman Sachs (Singapore) Pte. were also among the major buyers.\\n\\nShares of CAMS closed 3.21% higher at Rs 2,893.90 apiece, as compared with a 2.07% advance in the Nifty 50.', 'top_image': 'https://gumlet.assettype.com/bloombergquint%2F2023-12%2F4d739d4a-89f3-47db-8d3a-797a09542fef%2Fcytonn_photography_vWchRczcQwM_unsplash__1_.jpg?w=1200&auto=format%2Ccompress&ogImage=true', 'topic': 'BUSINESS', 'url': 'https://news.google.com/rss/articles/CBMiUmh0dHBzOi8vd3d3LmJxcHJpbWUuY29tL2J1c2luZXNzL2NhbXMtcHJvbW90ZXItZW50aXR5LWV4aXRzLWNvbXBhbnktdmlhLWJsb2NrLWRlYWzSAVZodHRwczovL3d3dy5icXByaW1lLmNvbS9hbXAvYnVzaW5lc3MvY2Ftcy1wcm9tb3Rlci1lbnRpdHktZXhpdHMtY29tcGFueS12aWEtYmxvY2stZGVhbA?oc=5'}),\n",
       " Document(page_content='Mini Vacuum Cleaners: To Clean Furniture and Car Interiors In a Simple Way - IndiaTimes', metadata={'card_text': 'Listed below are some of the best mini vacuum cleaners available online: Ambrane Portable Cordless Vacuum Cleaner Getting started on...', 'country_code': 'IN', 'description': 'Most Searched Products News: Here is a compiled list of some of the best quality and affordable mini vacuum cleaners available online at a discount which you cannot afford to miss out on. (December, 2023)', 'keywords': 'small vacuum cleaners,mini vacuum cleaners,mini vacuum cleaner,cordless vacuum cleaner,best mini vacuum cleaners', 'source': 'IndiaTimes', 'source_href': 'https://m.timesofindia.com', 'text': \"Listed below are some of the best mini vacuum cleaners available online:\\n\\nAmbrane Portable Cordless Vacuum Cleaner\\n\\nGetting started on this list of best mini vacuum cleaners in India we got our hands on some of the best of them all. One such product that came across was this Ambrane Portable Cordless Vacuum Cleaner. This vacuum cleaner from a reliable brand Ambrane offers powerful suction power that will surely make your cleaning and dusting work a lot easier and simpler. The HEPA filter embedded inside this Ambrane Portable Cordless Vacuum Cleaner assures that the dust and dirt do not go through it into the power section. Also, the thing we found great about this product is the handle which allows you to clean the corners in a much better and simpler way.\\n\\nExpert Opinion-\\n\\nEditor's Choice\\n\\nVeno Portable Electric Vacuum Cleaner\\n\\nThe next product that we came through was the Veno Portable Electric Vacuum Cleaner. Veno has surely surprised us with their vacuum cleaner making sure that everything around you remains nice and clean using this lightweight and compact machine. This portable electric vacuum cleaner is a rechargeable product that comes along with a good-quality USB cable that can be plugged into the adapter. After using it, we found out the best thing about this product which makes it ahead of the competition, is the battery life. The battery life of this product allows you to clean your surroundings without interruption.\\n\\nExpert Opinion-\\n\\nEasy to store\\n\\nLyrovo AC/DC Wireless Vacuum Cleaner\\n\\nLyrovo is another such brand that is known for high-quality and reliable products at affordable prices and one such product here is the Lyrovo AC/DC Wireless Vacuum Cleaner. After going through a handful of mini vacuum cleaners we found out that this Lyrovo AC/DC Wireless Vacuum Cleaner is quite a powerful machine considering the price at which it is available. The large-capacity battery pack, portable design and it’s sleek shape are some of the marquee features which make it a perfect choice for small home and car cleaning.\\n\\nExpert Opinion-\\n\\nMost handy\\n\\nBlack + Decker Cordless Pivot Handheld Vacuum Cleaner\\n\\nGone are the days when people used to clean their surroundings using heavy-weight wired machines. Handheld and portable vacuum cleaners are the machines that have been making their name in every household. There are plenty of options available online but after getting our hands on this Black+Decker Cordless Pivot Handheld Vacuum we can assure you that it is surely a product that will amaze you. Black + Decker Cordless Pivot Handheld Vacuum Cleaner is quite a different product as compared to any other handheld vacuum cleaner and that is because it comes with a much larger bowl capacity of 440ml and a rare but attractive white colour look.\\n\\nExpert Opinion-\\n\\nEasy to use\\n\\nMore Options on Vacuum Cleaners for Home and Cars\\n\\nOdistar Desktop Vacuum Cleaner\\n\\nExploring some of the easiest ways to clean and sweep we came across another device which is surely a game-changer. This Odistar Desktop Vacuum Cleaner is a product that has been recently launched. This Odistar Desktop Vacuum Cleaner has been specifically designed for the micro cleaning process and requires very minimum human effort to operate. All you have to do is switch on the device and place it where you need to clean it, and this Odistar Desktop Vacuum Cleaner will manoeuvre around the target to clean all the tiny dust and dirt particles. It has been designed and engineered in such a way that it rotates 360 degrees.\\n\\nExpert Opinion-\\n\\nBest technology\\n\\nTusa Wireless Handheld Vacuum Cleaner\\n\\nVacuum cleaners during the early days were only used to clean the surroundings of your house but as the technology advanced vacuum cleaners also became an integral part of car cleaning as well. One such product that we had the privilege to review is the Tusa Wireless Handheld Vacuum Cleaner. This handheld vacuum cleaner can be used to clean the interior of your car in the best way possible allowing you to save money from car wash. The compact design and lightweight of this Tusa Wireless Handheld Vacuum Cleaner make it a product worth buying, especially at this price range.\\n\\nExpert Opinion-\\n\\nBest Budget Pick\\n\\nInalsa Handheld Vacum Cleaner for Home & Car\\n\\nThe Inalsa Handheld Vacum Cleaner for Home and Car is another example of how you can buy smart instead of buying heavily. This Inalsa Handheld Vacum Cleaner for Home and Car is a perfect mix of suction power and design which can be a choice for all your car cleaning and domestic cleaning needs. Powered by a 700W motor it possesses higher suction power that helps in cleaning in a much better way. Along with a powerful 14Kpa suction power, the HEPA filter also makes it a much better and perfect Portable mini vacuum cleaner.\\n\\nExpert Opinion-\\n\\nValue For Money\\n\\nAgaro Car Vacuum Cleaner\\n\\nTaking into consideration that all the mini vacuum cleaners are quite effective it is important to consider whether the one you are buying ticks all the checkboxes or not. However, this Agaro Car Vacuum Cleaner can surely be one of them. Agaro, known for its high-end products at affordable prices brings you this handheld mini vacuum cleaner which you can use to clean your furniture. Another great thing about this vacuum cleaner is its portability and battery life. The 12V DC /110W motor ensures better suction power and performance making it a perfect product to buy online under Rs. 2,000.\\n\\nExpert Opinion-\\n\\nEditor's Pick\\n\\nMini Vacuum Cleaners: To Clean Furniture and Car Interiors In a Simple Way- FAQs\\n\\nWhat is the function of a small vacuum cleaner?\\n\\nThey are especially useful in tiny homes with limited appliance space. They can also successfully clean hard-to-reach spots, so they may come in handy if the nooks and crannies of your home become unclean or dusty. Are mini vacuum cleaners genuinely effective?\\n\\nWithout a doubt, the answer would be yes. Mini vacuum cleaners are useful household and car cleaning tools. Despite their small size and low weight, they deliver a powerful performance. Are portable vacuum cleaners effective?\\n\\nEven if you have a fantastic full-size vacuum, a portable and strong handheld vacuum is still required for swiftly eliminating minor messes and entering limited spots. Although they cannot match full-size vacuums' thorough cleaning capabilities, handheld vacuums are useful for removing dry spills, tracked-in trash, and pet hair.\\n\\nDisclaimer: The Times of India's journalists were not involved in the production of this article. The product prices mentioned in the article are subject to change with offers given by Amazon.\\n\\nMini vacuum cleaners are an ideal choice for clearing tiny spills from around the house. Because of their compact size and portability, they are ideal for navigating and cleaning tough or irregular surfaces, such as those found in cars or on stairwells. A mini vacuum cleaner for the home is a versatile, compact, and lightweight cleaning appliance that can make your life much easier. The best portable and small vacuum cleaners are especially used to clean confined spaces, domestic furniture, staircases, and upholstery, which larger vacuums fail to do. However, there are a plethora of options that are available online when it comes to handheld vacuum cleaners but these vacuum cleaners which have been mentioned in this article offer enough suction power to capture dirt, dust, and debris and come with a range of attachments to help you clean every crack and cranny of your home or car. Moreover, it is important to consider that a lower price does not always imply lower quality. Therefore, all the products that have been listed here are of great quality and you should not think twice before buying them.\", 'top_image': 'https://static.toiimg.com/thumb/msid-105734076,width-1070,height-580,imgsize-1061762,resizemode-75,overlay-toi_sw,pt-32,y_pad-40/photo.jpg', 'topic': 'TECHNOLOGY', 'url': 'https://news.google.com/rss/articles/CBMisQFodHRwczovL20udGltZXNvZmluZGlhLmNvbS9tb3N0LXNlYXJjaGVkLXByb2R1Y3RzL2VsZWN0cm9uaWNzL3ZhY3V1bS1jbGVhbmVycy9taW5pLXZhY3V1bS1jbGVhbmVycy10by1jbGVhbi1mdXJuaXR1cmUtYW5kLWNhci1pbnRlcmlvcnMtaW4tYS1zaW1wbGUtd2F5L2FydGljbGVzaG93LzEwNTczMzk3MC5jbXPSAbUBaHR0cHM6Ly9tLnRpbWVzb2ZpbmRpYS5jb20vbW9zdC1zZWFyY2hlZC1wcm9kdWN0cy9lbGVjdHJvbmljcy92YWN1dW0tY2xlYW5lcnMvbWluaS12YWN1dW0tY2xlYW5lcnMtdG8tY2xlYW4tZnVybml0dXJlLWFuZC1jYXItaW50ZXJpb3JzLWluLWEtc2ltcGxlLXdheS9hbXBfYXJ0aWNsZXNob3cvMTA1NzMzOTcwLmNtcw?oc=5'}),\n",
       " Document(page_content='Hubble views massive cluster of brightly glowing galaxies - Devdiscourse', metadata={'card_text': 'This breathtaking celestial landscape captured by the NASA/ESA Hubble Space Telescope features a massive cluster of brightly glowing galaxies, first...', 'country_code': 'IN', 'description': 'Read more about Hubble views massive cluster of brightly glowing galaxies on Devdiscourse', 'keywords': 'Abell 3192,Hubble Abell 3192,Hubble Space Telescope', 'source': 'Devdiscourse', 'source_href': 'https://www.devdiscourse.com', 'text': 'This breathtaking celestial landscape captured by the NASA/ESA Hubble Space Telescope features a massive cluster of brightly glowing galaxies, first identified as Abell 3192.\\n\\nLocated in the constellation Eridanus, Abell 3192 was originally documented in the 1989 update of the Abell catalog of galaxy clusters. Back then it was thought to comprise a single cluster of galaxies, concentrated at a single distance. However, further research revealed that the original Abell cluster is actually comprised of two independent galaxy clusters - a foreground group around 2.3 billion light-years from Earth, and another group at a greater distance of about 5.4 billion light-years away from us.\\n\\nThe more distant galaxy cluster, included in the Massive Cluster Survey as MCS J0358.8-2955, takes central stage in this Hubble image. The two galaxy groups are thought to have masses equivalent to around 30 trillion and 120 trillion times the mass of our Sun, respectively. Both of the two largest galaxies at the center of this image are part of MCS J0358.8-2955. The smaller galaxies, however, are a mixture of the two groups within Abell 3192.\\n\\n\"Like all galaxy clusters, Abell 3192 is suffused with hot gas that emits powerful X-rays, and it is enveloped in a halo of invisible dark matter. All this unseen material comprises such a huge amount of mass that the galaxy cluster noticeably curves spacetime around it, making it into a gravitational lens. Smaller galaxies behind the cluster appear distorted into long, warped arcs around the cluster’s edges,\" ESA wrote in a post.', 'top_image': 'https://www.devdiscourse.com/remote.axd?https://devdiscourse.blob.core.windows.net/devnews/02_12_2023_22_15_25_4292559.jpeg?width=920&format=jpeg', 'topic': 'SCIENCE', 'url': 'https://news.google.com/rss/articles/CBMiemh0dHBzOi8vd3d3LmRldmRpc2NvdXJzZS5jb20vYXJ0aWNsZS9zY2llbmNlLWVudmlyb25tZW50LzI3MzIyNTUtaHViYmxlLXZpZXdzLW1hc3NpdmUtY2x1c3Rlci1vZi1icmlnaHRseS1nbG93aW5nLWdhbGF4aWVz0gF-aHR0cHM6Ly93d3cuZGV2ZGlzY291cnNlLmNvbS9hcnRpY2xlL3NjaWVuY2UtZW52aXJvbm1lbnQvMjczMjI1NS1odWJibGUtdmlld3MtbWFzc2l2ZS1jbHVzdGVyLW9mLWJyaWdodGx5LWdsb3dpbmctZ2FsYXhpZXM_YW1w?oc=5'}),\n",
       " Document(page_content='Taragarh Fort ft. Hyundai Aura - Icons of India - India Today', metadata={'card_text': 'From modern-day engineering marvels to age-old crafts to picturesque locales, the Icons of India series has taken us far and...', 'country_code': 'IN', 'description': 'For the fourth part of the Icons of India series, we head to Bundi with the Hyundai Aura to an iconic fort located in the Hadoti region of Rajasthan.', 'keywords': 'Hyundai Aura,Icons of India,Taragarh Fort,Bundi,Rajasthan,Hyundai,Aura', 'source': 'India Today', 'source_href': 'https://www.indiatoday.in', 'text': \"From modern-day engineering marvels to age-old crafts to picturesque locales, the Icons of India series has taken us far and wide in our quest to explore the country’s culture, heritage and diversity. For part four, we made our way to the land of forts and palaces to immerse ourselves in the grandeur of what is perhaps one of Rajasthan’s lesser-known forts, but certainly one of the most iconic not just in the region, but in India as well. The Delhi-Vadodara-Mumbai Expressway has helped cut down travel time to Bundi by around 90 minutes.\\n\\nadvertisement\\n\\nOur companion for the roughly 450km journey to Bundi from our base in Noida was the new Hyundai Aura, one of India’s most popular compact sedans. Around 270km of that is along the brand new Delhi-Vadodara-Mumbai Expressway or NE4, which has helped reduce travel time by at least 90 minutes compared to the older route. The exit for Lalsot is where one needs to get off the expressway, mostly because the road ahead isn’t properly ready yet.\\n\\nBesides the convenience of driving along a world-class expressway, the feature-rich Hyundai Aura equipped with cruise control made life easier, munching miles effortlessly. While the roads after exiting the expressway are good too, if you’re driving through Rajasthan via State and National Highways, try avoiding doing so after sunset to minimize the risk posed by stubborn stray cows sitting in the middle of the roads here. This road leads to the entry point located next to the Bundi TV tower for the upper sections of the Taragarh Fort.\\n\\nBundi presents itself as a small town with the quintessential Rajasthani vibe, chief contributors to which are the remnants of its storied past scattered all over. Bundi’s crown jewel is the Taragarh Fort, pictured above. Spread across a hillside, the fort complex houses several places of interest, including the Garh Palace or Bundi Mahal and Chitrashala. The upper portion of the fort complex houses Rani Mahal and several stepwells, but is in dire need of some upkeep to make it more visitor-friendly.\\n\\nOur exploration of Bundi led us to the entry gate located towards the top of the fort complex which, based on the general lack of upkeep and overgrown foliage, suggests it isn’t the preferred port of entry for most visitors. Inside, there’s Rani Mahal, presumably where the queen would reside, but it too seemed in dire need of attention. Bundi town and portions of the Garh Palace as seen from the upper sections of Taragarh Fort.\\n\\nadvertisement\\n\\nThis portion of the fort did offer splendid views of Bundi and the surrounding area, though, and while one can walk down all the way to the more popular sections of the fort, Garh Palace and Chitrashala, the staff advised against doing so because it wouldn’t just have been extremely tiring climbing all the way back up to where the Aura was parked, but would also leave us susceptible to encounters with the monkeys that call the Taragarh Fort their home. While the journey up to Bundi was smooth sailing, the roads within the town put the Aura's ride quality to the test.\\n\\nTo get to the main entrance located in the city, we had to drive around the hill this fort is built on and that didn’t turn out to be as straightforward a task as it seems. Potholes the size of craters was challenge number one, followed by Bundi’s narrow streets which, at times, were barely wide enough for the Aura. While the journey up to Bundi had been smooth sailing in terms of road quality, this proved to be a real test of the Aura’s ride quality and the sedan left us properly impressed with how it dealt with these roads.\\n\\nadvertisement\\n\\nLegendary English novelist, Rudyard Kipling, who is said to have spent considerable time in Bundi, mentions Bundi Palace or Garh Palace in Letter of Marque - “Jaipur Palace may be called the Versailles of India.â\\x80æ.Jodhpur’s House of strife, grey towers on red rock, is the work of giants, but the Palace of Bundi, even in broad daylight, is such a palace as men build for themselves in uneasy dreams – the work of goblins rather than of men.” The main attractions housed within the Taragarh Fort complex are far more easily accessible, with their entrance located inside the town of Bundi. Hathi Pol, Garh Palace and Chitrashala showcase incredible craftsmanship with their sculptures and painted walls and ceilings, which one can easily spend hours admiring.\\n\\nadvertisement\\n\\nWelcoming visitors into Garh Palace is the magnificent Haathi Pol, passing through which reveals immaculately maintained gardens, a stark contrast to what we had encountered earlier towards the top of the fort complex. Within these walls are Chattar Mahal, Phool Mahal and Badal Mahal, each boasting a unique style of architecture, beautifully crafted structures and gorgeous hand-painted walls and ceiling. Chitrashala, declared as a protected monument by the Archaeological Survey of India (ASI), was the most mesmerizing portion of Taragarh Fort, at least for us. The painted walls and ceiling within this space showcase exemplary artwork that wouldn’t be out of place in any of the world’s finest art galleries.\\n\\nTaragarh Fort’s magnificence and the easy-going aura of Bundi certainly made the journey worth the 6-7 hour drive. It also helped highlight just how well-rounded the Hyundai Aura is as a product at this price point offering comfort, space and a host of convenience features along with the safety net of six airbags, ESC, hill start assist and three-point seat belts for all five occupants. More cars, more adventures and more iconic sites await us. So, stay tuned for the next part of the Icons of India series. The Hadoti region of Rajasthan, nestled amongst the Aravallis, serves up breathtaking views in spades.\\n\\nHyundai Aura owner's perspective\\n\\n“I am very happy with the car and every day spent with it reinforces the fact that I picked the right car”, says Purushottam Rathi, a proud owner of the Hyundai Aura. Comfort, space and efficiency were the top priorities for him while looking for a sedan, and he found the perfect match in the form of the CNG variant of the Hyundai Aura. Purushottam Rathi with his Hyundai Aura CNG\\n\\n“Low running cost was very important to me and this, I think, is the best CNG compact sedan currently available in the market”, he added. Playing a crucial role in Purushottam zeroing in on the Aura was the Hyundai badge that, according to him, brings with it a peace of mind with regard to quality, resale value and after-sales support that most brands just cannot match.\", 'top_image': 'https://akm-img-a-in.tosshub.com/indiatoday/images/story/202312/hyundai-aura-icons-of-india-taragarh-fort-055725705-16x9_0.png?VersionId=oVuBdDSPtmV_xfyctEa_2AZrN7LGW2tB', 'topic': 'TECHNOLOGY', 'url': 'https://news.google.com/rss/articles/CBMibGh0dHBzOi8vd3d3LmluZGlhdG9kYXkuaW4vYXV0by9jYXJzL3N0b3J5L2h5dW5kYWktYXVyYS1pY29ucy1vZi1pbmRpYS10YXJhZ2FyaC1mb3J0LWJ1bmRpLTI0NzIwMDgtMjAyMy0xMi0wNdIBcGh0dHBzOi8vd3d3LmluZGlhdG9kYXkuaW4vYW1wL2F1dG8vY2Fycy9zdG9yeS9oeXVuZGFpLWF1cmEtaWNvbnMtb2YtaW5kaWEtdGFyYWdhcmgtZm9ydC1idW5kaS0yNDcyMDA4LTIwMjMtMTItMDU?oc=5'}),\n",
       " Document(page_content='Stocks to Watch: Hindustan Unilever, Cochin Shipyard, Hindustan Aeronautics, Alkem Laboratories, Siemens - The Financial Express', metadata={'card_text': 'Stocks in Focus: GIFT Nifty traded up 285 points or 1.40% at 20,638, indicating a positive opening for domestic indices...', 'country_code': 'IN', 'description': 'GIFT Nifty indicated that Indian equity indices BSE Sensex and NSE Nifty 50 may see a positive opening on Monday. Here’s a look at the key stocks to watch in trade.', 'keywords': 'stocks to watch,stocks in foucs,buzzing stocks,top stocks,best stocks to buy,buy these stocks,stock market,top stocks,best stocks,gaining stocks,gainers,loser,trades,best shares,buy these shares', 'source': 'The Financial Express', 'source_href': 'https://www.financialexpress.com', 'text': 'Stocks in Focus: GIFT Nifty traded up 285 points or 1.40% at 20,638, indicating a positive opening for domestic indices NSE Nifty 50 and BSE Sensex on Monday. Previously, on Friday, the NSE Nifty 50 advanced 0.67% to settle at 20,267.90, while the BSE Sensex added as much as 492.75 points to 67,481.19.\\n\\n“A new Bull Phase with a clear support for growth awaits the market following a strong mandate for the ruling party at the Center in 3 out of 5 state poll results. A stable political environment could further boost investors’ confidence and drive the markets higher, with the possibility of benchmark Nifty attaining 20,500-20,800 levels going ahead appears bright. Optimistic global trends including signs of foreign investors making a comeback in domestic markets are major factors that will drive the upward movement going forward,” said Prashanth Tapse, Senior VP (Research), Mehta Equities.\\n\\nStocks to Watch on December 4, 2023\\n\\nHindustan Unilever\\n\\nThe company announced to set up a 45 MW solar energy park in Rajasthan in partnership with Brookfield, a leading global alternative asset manager. The project, which will help HUL move towards its net-zero target, will come up at the site of Brookfield’s solar park, the conglomerate said. HUL’s board of directors approved equity investment of up to 27.73 per cent (and up to 32.24 per cent including HUL’s wholly-owned subsidiaries) in Transition Sustainable Energy Services One Pvt. Ltd, a special purpose vehicle (SPV) incorporated by Brookfield, which has among the world’s largest renewable power platforms.\\n\\nCochin Shipyard\\n\\nState-run company has signed a memorandum of understanding with the Adani Group for the construction of green tugs following the Udupi-Cochin Shipyard (UCSL), the wholly owned subsidiary of Cochin Shipyard (CSL) delivered the first 62 T Bollard Pull Tug for Ocean Sparkle, an Adani Group company. Adani Harbour Services & Ocean Sparkle Limited owns around 100 Tugs and are the largest tug owner and operator in India, said the company.\\n\\nHindustan Aeronautics (HAL)\\n\\nThe Defence Acquisition Council (DAC), under the chairmanship of Raksha Mantri Shri Rajnath Singh on November 30, 2023, accorded approval in respect of Acceptance of Necessity (AoNs) for various Capital Acquisition Proposals amounting to Rs 2.23 lakh crore, of which, acquisition worth Rs 2.20 lakh crore (98% of total AoN amount) will be sourced from domestic industries, read the press release of the PIB.\\n\\nIn addition, the DAC accorded AoNs for procurement of Light Combat Helicopter (LCH) for Indian Air Force (IAF) & Indian Army and Light Combat Aircraft (LCA) Mk 1A for IAF from Hindustan Aeronautics Limited (HAL) under Buy (Indian-IDDM) category. The AoNs have also been accorded by the DAC for upgradation of Su-30 MKI Aircraft indigenously from HAL.\\n\\nAlkem Laboratories\\n\\nThe US FDA had conducted an inspection at the Company’s API manufacturing facility located at Mandva from 27th November, 2023 to 01st December, 2023. At the end of the inspection, the Company has received Form 483 with three (3) observations. There is no data integrity observation, the company said in a regulatory filing.\\n\\nBajaj Healthcare\\n\\nRupesh Nikam, Chief Financial Officer, Whole-time Director (WTD) and Key Managerial Personnel (KMP) of the Company has tendered his resignation on December 1, 2023, due to personal reasons and the last date of his relieving will be intimated to the exchange in due course of time, the company said in the regulatory filing.\\n\\nSiemens\\n\\nSiemens Aktiengesellschaft Germany proposed to acquire 64,101,646 equity shares of Siemens India, corresponding to 18% of the equity share capital from Siemens Energy Holding B.V, the company said in a regulatory filing.\\n\\n(With agency inputs.)', 'top_image': 'https://www.financialexpress.com/wp-content/uploads/2023/12/broker_reuters1-1.jpg', 'topic': 'BUSINESS', 'url': 'https://news.google.com/rss/articles/CBMilAFodHRwczovL3d3dy5maW5hbmNpYWxleHByZXNzLmNvbS9tYXJrZXQvc3RvY2tzLXRvLXdhdGNoLWhpbmR1c3Rhbi11bmlsZXZlci1jb2NoaW4tc2hpcHlhcmQtaGluZHVzdGFuLWFlcm9uYXV0aWNzLWFsa2VtLWxhYm9yYXRvcmllcy1zaWVtZW5zLTMzMjY4MzYv0gEA?oc=5'}),\n",
       " Document(page_content='Woman becomes first Indian citizen to operate a rover on Mars. Read her story - India Today', metadata={'card_text': 'Working for NASA is a dream for many but very few actually fulfill it and then tell the tale of...', 'country_code': 'AE', 'description': 'Dr. Akshata Krishnamurthy turned this childhood dream into reality, emerging as the first Indian citizen to operate a rover on Mars, marking a monumental achievement in her career.', 'keywords': 'Mars rover,NASA,indian,viral video,instagram,MIT,trending,', 'source': 'India Today', 'source_href': 'https://www.indiatoday.in', 'text': 'Working for NASA is a dream for many but very few actually fulfill it and then tell the tale of their success. In today’s episode of stories that are brimming with positivity, this aerospace engineer’s journey from MIT to NASA is indeed inspiring.\\n\\nDr. Akshata Krishnamurthy turned this childhood dream into reality, emerging as the first Indian citizen to operate a rover on Mars, marking a monumental achievement in her career.\\n\\nadvertisement\\n\\nTaking to Instagram, Krishnamurthy shared the inspiring narrative of her journey to NASA. Arriving in the United States 13 years ago with a fervent dream, she faced discouragement from many who deemed it impossible for a foreign national on a visa to work at NASA. Despite the skeptics, she remained resolute, pursuing her goal of leading breakthrough science and robotic operations on both Earth and Mars.\\n\\nKrishnamurthy earned her Ph.D. from the prestigious Massachusetts Institute of Technology (MIT) and eventually secured a full-time position at NASA. Her success did not come easily, as she candidly revealed the challenges of knocking on hundreds of doors to land a position at the esteemed space agency.\\n\\nCurrently, she actively contributes to multiple space missions, notably the Perseverance rover, involved in collecting samples from Mars for eventual return to Earth. In her Instagram post, Dr. Krishnamurthy delivers a powerful message: \"No dream is ever too big or crazy. Believe in yourself, keep those blinkers on, and keep working! I promise, you\\'ll get there if you work hard.\"\\n\\nTake a look:\\n\\nThe video has gone viral with over 394k views and tons of reactions. People congratulated her on her incredible success.\\n\\nA wonderful and inspiring story!\\n\\nPublished By: Srimoyee Chowdhury Published On: Dec 4, 2023', 'top_image': 'https://akm-img-a-in.tosshub.com/indiatoday/images/story/202312/mars-rover-042305652-16x9_0.jpg?VersionId=eYzCa6ssU.6kd3v5YdUIIqiN6IVW.Z5L', 'topic': 'SCIENCE', 'url': 'https://news.google.com/rss/articles/CBMijQFodHRwczovL3d3dy5pbmRpYXRvZGF5LmluL3RyZW5kaW5nLW5ld3Mvc3Rvcnkvd29tYW4tYmVjb21lcy1maXJzdC1pbmRpYW4tY2l0aXplbi10by1vcGVyYXRlLWEtcm92ZXItb24tbWFycy1yZWFkLWhlci1zdG9yeS0yNDcxODgzLTIwMjMtMTItMDTSAZEBaHR0cHM6Ly93d3cuaW5kaWF0b2RheS5pbi9hbXAvdHJlbmRpbmctbmV3cy9zdG9yeS93b21hbi1iZWNvbWVzLWZpcnN0LWluZGlhbi1jaXRpemVuLXRvLW9wZXJhdGUtYS1yb3Zlci1vbi1tYXJzLXJlYWQtaGVyLXN0b3J5LTI0NzE4ODMtMjAyMy0xMi0wNA?oc=5'}),\n",
       " Document(page_content='Woman becomes first Indian citizen to operate a rover on Mars. Read her story - India Today', metadata={'card_text': 'Working for NASA is a dream for many but very few actually fulfill it and then tell the tale of...', 'country_code': 'US', 'description': 'Dr. Akshata Krishnamurthy turned this childhood dream into reality, emerging as the first Indian citizen to operate a rover on Mars, marking a monumental achievement in her career.', 'keywords': 'Mars rover,NASA,indian,viral video,instagram,MIT,trending,', 'source': 'India Today', 'source_href': 'https://www.indiatoday.in', 'text': 'Working for NASA is a dream for many but very few actually fulfill it and then tell the tale of their success. In today’s episode of stories that are brimming with positivity, this aerospace engineer’s journey from MIT to NASA is indeed inspiring.\\n\\nDr. Akshata Krishnamurthy turned this childhood dream into reality, emerging as the first Indian citizen to operate a rover on Mars, marking a monumental achievement in her career.\\n\\nadvertisement\\n\\nTaking to Instagram, Krishnamurthy shared the inspiring narrative of her journey to NASA. Arriving in the United States 13 years ago with a fervent dream, she faced discouragement from many who deemed it impossible for a foreign national on a visa to work at NASA. Despite the skeptics, she remained resolute, pursuing her goal of leading breakthrough science and robotic operations on both Earth and Mars.\\n\\nKrishnamurthy earned her Ph.D. from the prestigious Massachusetts Institute of Technology (MIT) and eventually secured a full-time position at NASA. Her success did not come easily, as she candidly revealed the challenges of knocking on hundreds of doors to land a position at the esteemed space agency.\\n\\nCurrently, she actively contributes to multiple space missions, notably the Perseverance rover, involved in collecting samples from Mars for eventual return to Earth. In her Instagram post, Dr. Krishnamurthy delivers a powerful message: \"No dream is ever too big or crazy. Believe in yourself, keep those blinkers on, and keep working! I promise, you\\'ll get there if you work hard.\"\\n\\nTake a look:\\n\\nThe video has gone viral with over 394k views and tons of reactions. People congratulated her on her incredible success.\\n\\nA wonderful and inspiring story!\\n\\nPublished By: Srimoyee Chowdhury Published On: Dec 4, 2023', 'top_image': 'https://akm-img-a-in.tosshub.com/indiatoday/images/story/202312/mars-rover-042305652-16x9_0.jpg?VersionId=eYzCa6ssU.6kd3v5YdUIIqiN6IVW.Z5L', 'topic': 'SCIENCE', 'url': 'https://news.google.com/rss/articles/CBMijQFodHRwczovL3d3dy5pbmRpYXRvZGF5LmluL3RyZW5kaW5nLW5ld3Mvc3Rvcnkvd29tYW4tYmVjb21lcy1maXJzdC1pbmRpYW4tY2l0aXplbi10by1vcGVyYXRlLWEtcm92ZXItb24tbWFycy1yZWFkLWhlci1zdG9yeS0yNDcxODgzLTIwMjMtMTItMDTSAZEBaHR0cHM6Ly93d3cuaW5kaWF0b2RheS5pbi9hbXAvdHJlbmRpbmctbmV3cy9zdG9yeS93b21hbi1iZWNvbWVzLWZpcnN0LWluZGlhbi1jaXRpemVuLXRvLW9wZXJhdGUtYS1yb3Zlci1vbi1tYXJzLXJlYWQtaGVyLXN0b3J5LTI0NzE4ODMtMjAyMy0xMi0wNA?oc=5'}),\n",
       " Document(page_content='Tiny Asteroid Sample Unveils Cosmic Secrets - Interesting Engineering', metadata={'card_text': 'The recent arrival of a sample from asteroid \\u200b\\u200bBennu at the Natural History Museum in London marks a significant milestone...', 'country_code': 'IN', 'description': \"Explore a tiny asteroid sample's cosmic secrets and its potential impact on our understanding of the universe.\", 'keywords': 'nasa,osiris rex,asteroid bennu,space research,natural history museum,extraterrestrial sample,carbon asteroid,water on asteroid', 'source': 'Interesting Engineering', 'source_href': 'https://interestingengineering.com', 'text': \"The recent arrival of a sample from asteroid \\u200b\\u200bBennu at the Natural History Museum in London marks a significant milestone in space research. This sample, a small quantity of dark dust and granules, was collected by NASA's Osiris-Rex spacecraft, which visited Bennu, an over 4.5 billion-year-old asteroid located about 200 million miles from Earth. The mission retrieved over 60 grams of material, the most extraterrestrial matter brought back to Earth since the Apollo program.\\n\\nPreliminary analysis by NASA scientists indicates that the asteroid contains carbon and water, with some carbon in organic compounds. This finding supports theories suggesting that carbon-rich asteroids like Bennu might have played a crucial role in delivering key components to early Earth, possibly aiding in the formation of oceans and the initiation of life.\\n\\nOne focus of the upcoming research is to analyze hydrogen isotopes in the water from the sample to see if it matches Earth's oceans, offering clues about how Earth acquired its water. The sample's pristine condition provides a unique opportunity to study an unaltered piece of the early solar system.\\n\\nInitial studies will involve non-destructive methods like X-ray diffraction and electron microscopy to determine Bennu's mineral composition. Despite its small size, the sample is expected to yield significant insights into the solar system's formation, the origins of water on Earth, and potentially strategies for dealing with asteroids that threaten our planet. This research could lead to groundbreaking discoveries about the nature of life, Earth, and the universe.\", 'top_image': 'https://dnd2oi6izkvoi.cloudfront.net/2023/12/03/image/jpeg/ByTWiVQLB6popA3HmQmvQwQdiWeVuVG8MPkLuUtk.jpg', 'topic': 'SCIENCE', 'url': 'https://news.google.com/rss/articles/CBMijAFodHRwczovL2ludGVyZXN0aW5nZW5naW5lZXJpbmcuY29tL2llLW9yaWdpbmFscy9pZS1leHBsYWluZXIvc2Vhc29uLTYvZXAtNS10aGlzLXRpbnktYXN0ZXJvaWQtc2FtcGxlLWNhbi1yZXZlYWwtdGhlLXRydXRoLWFib3V0LW91ci11bml2ZXJzZdIBAA?oc=5'}),\n",
       " Document(page_content=\"Asia's most beautiful temples for a spiritual sojourn - Times of India\", metadata={'card_text': \"Asia is a continent steeped in history and diverse cultures, and is also home to some of the world's most...\", 'country_code': 'IN', 'description': \"Asia is a continent steeped in history and diverse cultures, and is also home to some of the world's most stunning temples. These sacred sites not only showcase architectural marvels, but also serve as spiritual sanctuaries. Whether you're a devout pilgrim or an avid traveler, exploring these temples offers a journey into the heart of Asia's rich heritage.So, here are some of the most beautiful temples to visit in Asia.\", 'keywords': 'things to do in asia', 'source': 'Times of India', 'source_href': 'https://timesofindia.indiatimes.com', 'text': \"Asia is a continent steeped in history and diverse cultures, and is also home to some of the world's most stunning temples. These sacred sites not only showcase architectural marvels, but also serve as spiritual sanctuaries. Whether you're a devout pilgrim or an avid traveler, exploring these temples offers a journey into the heart of Asia's rich heritage.\\n\\nSo, here are some of the most beautiful temples to visit in Asia.\\n\\n\", 'top_image': 'https://static.toiimg.com/thumb/msid-105728263,width-1070,height-580,resizemode-75/105728263,pt-32,y_pad-40/105728263.jpg', 'topic': 'WORLD', 'url': 'https://news.google.com/rss/articles/CBMihQFodHRwczovL3RpbWVzb2ZpbmRpYS5pbmRpYXRpbWVzLmNvbS90cmF2ZWwvZGVzdGluYXRpb25zL2FzaWFzLW1vc3QtYmVhdXRpZnVsLXRlbXBsZXMtZm9yLWEtc3Bpcml0dWFsLXNvam91cm4vcGhvdG9zdG9yeS8xMDU3Mjc5ODAuY21z0gEA?oc=5'}),\n",
       " Document(page_content='3 tips to enhance your Samsung smartphone battery health - The Indian Express', metadata={'card_text': 'As smartphones get older, the battery starts to degrade, resulting in lower backup, which is an inevitable process. While there...', 'country_code': 'IN', 'description': 'Enable these settings to enjoy a longer lasting battery health on your Samsung Galaxy smartphones.', 'keywords': 'How to improve Samsung phone battery life,Samsung phone battery health check,Samsung phone battery draining fast,Samsung phone battery life,Samsung phone battery price', 'source': 'The Indian Express', 'source_href': 'https://indianexpress.com', 'text': 'As smartphones get older, the battery starts to degrade, resulting in lower backup, which is an inevitable process. While there is no way to stop the battery from degrading, smartphone brands have implemented several features over the last few years to slow down the battery degradation.\\n\\nIf you are a Samsung Galaxy user, here are three settings that, when enabled will help slow down the battery degration process on your smartphones and tablets.\\n\\nEnable protect battery\\n\\nThis feature will limit the battery from charging over 85 per cent (Express Photo) This feature will limit the battery from charging over 85 per cent (Express Photo)\\n\\nNever fully charge or fully discharge your smartphone. According to Samsung, charging your Galaxy device to 85 per cent can extend the lifespan of the battery. While it is hard to manually monitor this, Samsung has baked in an option, which automatically stops charging when the battery charges to 85 per cent.\\n\\nAdvertisement\\n\\nGo to Settings > Battery > and enable Protect Battery to limit your smartphone from charging over 85 per cent.\\n\\nDisable fast charging\\n\\nDisabling fast charging will reduce heating issues while charging (Express Photo) Disabling fast charging will reduce heating issues while charging (Express Photo)\\n\\nFast charging leads to heating, which also affects the battery’s health in the long run. By disabling fast charging on a Samsung smartphone, one can prevent excess heating while charging, which will also result in extending the battery’s health. If your Samsung Galaxy supports wireless charging, you can also disable fast wireless charging, as charging a phone wirelessly will generate more heat than charging a phone using a wired charger.\\n\\nGo to Settings > Battery > Charging Settings and disable fast charging\\n\\nDo note that, if you disable fast charging, your phone will take more time to charge, despite using a fast wired or wireless charger.\\n\\nAdvertisement\\n\\nPut unused apps to sleep\\n\\nThis feature will help reduce battery consumption (Express Photo) This feature will help reduce battery consumption (Express Photo)\\n\\nMany apps run in the background, even if you are not using them, which will consume power. By enabling put unused apps to sleep, you can prevent this from happening, where, the smartphone analyses the apps that you haven’t opened in a while and automatically puts them to sleep.\\n\\nGo to Setting > Battery > Background usage limit > and enable put unused apps to sleep', 'top_image': 'https://images.indianexpress.com/2023/12/samsung-galaxy-m34.jpg', 'topic': 'TECHNOLOGY', 'url': 'https://news.google.com/rss/articles/CBMibGh0dHBzOi8vaW5kaWFuZXhwcmVzcy5jb20vYXJ0aWNsZS90ZWNobm9sb2d5L3RlY2hvb2svZW5oYW5jZS1zYW1zdW5nLXNtYXJ0cGhvbmUtYmF0dGVyeS1saWZlLWhlYWx0aC05MDUyNTMzL9IBcWh0dHBzOi8vaW5kaWFuZXhwcmVzcy5jb20vYXJ0aWNsZS90ZWNobm9sb2d5L3RlY2hvb2svZW5oYW5jZS1zYW1zdW5nLXNtYXJ0cGhvbmUtYmF0dGVyeS1saWZlLWhlYWx0aC05MDUyNTMzL2xpdGUv?oc=5'}),\n",
       " Document(page_content='Surprise companion to Lucy’s first asteroid target Dinkinesh now has a name: Selam - News9 LIVE', metadata={'card_text': 'Asteroid Dinky with its surprise companion, Selam. (Image Credit: NASA/Goddard/SwRI/Johns Hopkins APL/NOIRLab). The Lucy spacecraft discovered a surprise moonlet in...', 'country_code': 'IN', 'description': 'Selam is a moonlet that is actually a contact binary made up of two objects.', 'keywords': 'NASA,Dinkinesh,Asteroid,Lucy,Selam', 'source': 'News9 LIVE', 'source_href': 'https://www.news9live.com', 'text': 'Asteroid Dinky with its surprise companion, Selam. (Image Credit: NASA/Goddard/SwRI/Johns Hopkins APL/NOIRLab).\\n\\nThe Lucy spacecraft discovered a surprise moonlet in orbit around Dinkinesh (nicknamed Dinky) during a flyby on November 1. The International Astronomical Union has now approved of the name Selam for the moonlet, which means ‘peace’ in Amharic, a language from Ethiopia. Just as the Lucy spacecraft itself was named after a famous hominin fossil, Selam is the name of a fossil that is considered to be Lucy’s baby. Astronomer Raphael Marshall who originally identified Dinky as a target for the mission said, “Dinkinesh is the Ethiopian name for the fossil nicknamed ‘Lucy.’ It seemed appropriate to name its satellite in honor of another fossil that is sometimes called Lucy’s baby.”\\n\\nThe Selam fossil belongs to a three year old girl, who was the same species as Lucy, but actually lived about 100,000 years before Lucy. The surprising thing about Selam is that it is not just one moonlet, but actually a pair of moonlets of almost equal size, known as a contact binary. Astronomer Jessica Sunshine says, “We were extremely surprised to discover that Dinkinesh appears to have not just one but two moons in its orbit. In that way, this was bonus science since we were expecting only one asteroid but found three. Our flyby was a three-for-one deal.”\\n\\nAlso Read | NASA finds water, carbon in asteroid Bennu sample returned by Osiris spacecraft\\n\\nNASA’s Lucy spacecraft is on its way to study the Trojan moons of Jupiter, which are asteroids captured from the main belt between the Red Planet and the gas giant. There are two swarms of Trojan asteroids, one leading and one trailing the planet during its orbit around the Sun. Lucy will be visiting multiple targets in both the leading and the trailing swarm. The flyby of Dinky was an opportunistic addition to the mission, to use a suitably small asteroid to test the tracking systems on the spacecraft, to ensure that the scientific instruments on board are pointed in the right direction during the high velocity encounters. Lucy will next be encountering the main belt asteroid DonaldJohanson in 2025.\\n\\nAlso Read | Fragments of Moon can become asteroids that threaten Earth', 'top_image': 'https://images.news9live.com/wp-content/uploads/2023/12/image_2023-12-03_144906263-Cropped.png', 'topic': 'SCIENCE', 'url': 'https://news.google.com/rss/articles/CBMiemh0dHBzOi8vd3d3Lm5ld3M5bGl2ZS5jb20vc2NpZW5jZS9zdXJwcmlzZS1jb21wYW5pb24tdG8tbHVjeXMtZmlyc3QtYXN0ZXJvaWQtdGFyZ2V0LWRpbmtpbmVzaC1ub3ctaGFzLWEtbmFtZS1zZWxhbS0yMzY3MzA00gF-aHR0cHM6Ly93d3cubmV3czlsaXZlLmNvbS9zY2llbmNlL3N1cnByaXNlLWNvbXBhbmlvbi10by1sdWN5cy1maXJzdC1hc3Rlcm9pZC10YXJnZXQtZGlua2luZXNoLW5vdy1oYXMtYS1uYW1lLXNlbGFtLTIzNjczMDQvYW1w?oc=5'}),\n",
       " Document(page_content='\"Barbie\" filmmaker Greta Gerwig on pressure of making blockbuster | 60 Minutes - CBS News', metadata={'card_text': 'For years, Hollywood has relied on towering action heroes to get people to the movies. But this summer, it was...', 'country_code': 'US', 'description': 'Directing \"Barbie\" was a dream job for Greta Gerwig, the Oscar-nominated filmmaker behind \"Little Women\" and \"Lady Bird.\" Now she\\'s putting her own stamp on two \"Chronicles of Narnia\" movies.', 'keywords': 'Movies', 'source': 'CBS News', 'source_href': 'https://www.cbsnews.com', 'text': 'For years, Hollywood has relied on towering action heroes to get people to the movies. But this summer, it was an 11 and half inch doll…. complete with plastic accessories and a permanently-tanned sidekick that dominated the box office. \"Barbie\" brought in more than a billion dollars worldwide…the highest grossing movie of the year.\\n\\nThe brains behind the out of the box blockbuster is an equally unique filmmaker- Greta Gerwig. Gerwig, is best known for her work as an actor, director and screenwriter on smaller, independent films.\\n\\nBankrolled by Warner Brothers and blessed by toy-maker Mattel, Greta Gerwig told us \"Barbie\" was a dream job…and one she feared just might end her career.\\n\\nOn a pastel colored soundstage, just outside of London, no one seemed to be having more fun on the set of \"Barbie\"… than director Greta Gerwig.\\n\\nGerwig has a way of making things look like child\\'s play but making \"Barbie\" - was not.\\n\\nThe film\\'s $100 million production budget was dwarfed only by the size of its marketing budget….a reported $150 million.\\n\\nGreta Gerwig 60 Minutes\\n\\nGreta Gerwig: There is, like, a moment where you\\'re like, \"Wow. I\\'m way out there. Like, if this doesn\\'t work, it will be a pub-- (laugh) very public.\"\\n\\nSharyn Alfonsi: People are gonna notice.\\n\\nGreta Gerwig: \"It would be an extremely public one. You know, you might as well take those big swings.\" I mean, literally, the worst thing that can happen is it\\'s terrible, (laugh) nobody likes it and it bankrupts the studio –\\n\\nSharyn Alfonsi: That would be bad.\\n\\nGreta Gerwig: Oh, no. Of course. Of course. But, like, how bad, you know? As bad as not making it, you know? Maybe, not.\\n\\nDefinitely, not.\\n\\n\"Barbie\" smashed box office records to become Warner Brothers\\' highest grossing film of all time.\\n\\nIt wasn\\'t a sure bet. Greta Gerwig, like Barbie\\'s permanently-arched feet - pulled off an almost impossible balancing act: giving voice to the iconic doll… and her fiercest critics.\\n\\nSharyn Alfonsi: You\\'re writing a movie for people that love Barbie. You\\'re writing a movie for people who, maybe, don\\'t love Barbie. It feels like a hornet\\'s nest.\\n\\nGreta Gerwig: Yeah. There were lots of questions about, like, \"Should we be saying this or walking into this stuff,\" or-- but my feeling was people already know it\\'s a hornet\\'s nest. We cannot make something that pretends to be other than that.\\n\\nIt was Barbie herself, actress Margot Robbie, who brought Gerwig into the fold.\\n\\nRobbie bought the rights to make a Barbie movie and asked Gerwig to write it.\\n\\nShe agreed and signed up her partner in work and life, filmmaker Noah Baumbach but neglected to tell him. He learned about it from a headline.\\n\\nNoah Baumbach: I think I said, \"Apparently, (laugh) we\\'re writing a movie called Barbie.\"\\n\\nGreta Gerwig: Yeah. I said, \"Ooh. Whoops.\" (laugh)\\n\\nNoah Baumbach: I couldn\\'t even fathom it. (laugh)\\n\\nNoah Baumbach and Greta Gerwig 60 Minutes\\n\\nGreta Gerwig: Well, I mean, his issue with it was that there was no character and there was no story.\\n\\nNoah Baumbach: Well, I don\\'t-- I didn\\'t mind that so much as that--\\n\\nGreta Gerwig: You did.\\n\\nNoah Baumbach: --you know, that it was Barbie.\\n\\nGreta Gerwig: You told me, \"There\\'s no character and there\\'s no story.\" (laugh)\\n\\nSharyn Alfonsi: Wait. Isn\\'t Barbie a character?\\n\\nGreta Gerwig: No.\\n\\nNoah Baumbach: No. She--\\n\\nGreta Gerwig: She doesn\\'t have, like, a personality-- (laugh)\\n\\nNoah Baumbach: It\\'s a doll. (laugh) And then when I found out we were doing it, sort of actively (laugh) tried to get us out of it. And then -\\n\\nSharyn Alfonsi: Did you actually try to get out of it?\\n\\nGreta Gerwig: Yeah.\\n\\nNoah Baumbach: I made -I made some calls. (laugh) And then -\\n\\nSharyn Alfonsi: It didn\\'t work? (laugh)\\n\\nNoah Baumbach: No-- because Greta was persistent and Greta saw something.\\n\\nGreta Gerwig: I did.\\n\\nSharyn Alfonsi: Greta, what was it you saw?\\n\\nGreta Gerwig: You know, Barbie\\'s been around since 1959, and everyone knows who she is, and everyone has an opinion, and she\\'s run the gamut of being ahead of time, behind time. She\\'s a hero, she\\'s a villain.\\n\\nGreta Gerwig 60 Minutes\\n\\nTogether they created their version of Barbie Land…a feminist utopia. Where every woman is Barbie…and every Ken- is just an accessory.\\n\\nBut an existential crisis in Barbie Land, sends Barbie and Ken into the real world.\\n\\nKen wanders off… discovers patriarchy– and likes it.\\n\\nSharyn Alfonsi: There were people that came out after the movie and said, \"Oh. This movie is anti-man.\"\\n\\nGreta Gerwig: The movie is meant to be a big-hearted thing, even though it\\'s poking fun at everyone. But I had this-- but this is-- but I planned this in my head. I\\'ll just say it.\\n\\nNoah Baumbach: OK.\\n\\nGreta Gerwig: But I thought, \"Well, this is not man-hating anymore than Aristophanes\\'s Lysistrata (laugh) was man-hating,\" which is-- does not sound like a sick burn when you say it out loud like that.\\n\\nSharyn Alfonsi: That\\'ll teach \\'em.\\n\\nGerwig invoked a Greek playwright to defend barbie. We noticed her mind seems to percolate with literary references. Baumbach\\'s take on the \"Barbie\" backlash was simpler.\\n\\nNoah Baumbach: I felt men could take it. I mean, t-- come on. (laugh)\\n\\nGreta Gerwig: I mean this sounds so silly to say out loud but I love ken. We love Ken. We also take Ken\\'s position quite seriously.\\n\\nNoah Baumbach: Absolutely.\\n\\nGreta Gerwig: I think, like, he has no identity outside of her.\\n\\nGerwig and Baumbach live in New York and wrote the screenplay at home during the pandemic.\\n\\nSharyn Alfonsi: Were you entertaining each other?\\n\\nGreta Gerwig: Yes.\\n\\nNoah Baumbach: Yeah. I mean, it kind of kept us sane.\\n\\nOr the insanity went into the movie. They told us the final cut -which at times looks like a COVID fever dream- is very close to the script they submitted to Mattel. The toy maker- they say- was surprisingly hands off– but had notes.\\n\\nNoah Baumbach: One of the notes was, \"On page 112, does a Mattel executive have to be shot?\"\\n\\nNoah Baumbach: And I felt like that was exciting. We knew we were onto something.\\n\\nGreta Gerwig: We felt like we might as well go for broke. They\\'re already not making movies.\\n\\nSharyn Alfonsi: You thought it might not ever get made? Yeah.\\n\\nGreta Gerwig: Yeah. Oh, no. We thought it might never get made.\\n\\nSharyn Alfosni and Greta Gerwig 60 Minutes\\n\\nAnd she says she never dreamed - she\\'d be the one who ended up directing it. Greta Gerwig grew up in Sacramento and fell in love with community theater in grade school. She took up dancing, then acting.\\n\\nSharyn Alfonsi: Did you know you would end up in New York?\\n\\nGreta Gerwig: I–I wanted to be in New York but I just didn\\'t know that I-- it was possible. I mean, it felt (noise) extremely far away and expensive.\\n\\nShe attended Barnard College, performed in school productions. then, fell in with a group of low-budget filmmakers - before setting her sights on a wider audience.\\n\\nGreta Gerwig: I remember I walked into a casting director\\'s office. It was, sort of, the heyday of, like-- just a certain look on network television, which I was never very good at doing. I don\\'t know why. But I was wearing overalls. And I remember they-\\n\\nSharyn Alfonsi: A bold choice. (laugh)\\n\\nGreta Gerwig: She looked up and she goes, \"You must be very talented.\" (laughter)\\n\\nShe landed roles in more than a dozen movies. Some she helped write. Then, Greta Gerwig made the biggest leap of her career from indie darling…to breakout director with \"Lady Bird.\"\\n\\nGerwig wrote the coming-of-age story about the complicated relationship between a mother and daughter.\\n\\nSharyn Alfonsi: The scene where she jumps out of the car, (chuckle) what was your direction?\\n\\nGreta Gerwig: I want you to, without even think about it, just-- just hurl yourself out of this ca-- like, I want it to be almost like you\\'ve acted before you\\'ve thought through completely what the result (chuckle) of this is gonna be.\\n\\nGerwig\\'s fearless approach…earned the then 34-year-old two Oscar nominations.\\n\\nTwo years later, she got a third nomination…for her 2019 adaptation of \"Little Women.\"\\n\\nThen, came \"Barbie\"…with a budget more than ten times that of \"Lady Bird.\"\\n\\nLast month, at a theater in New York, Gerwig showed us some of the old musicals that inspired her…including 1957\\'s \"Funny Face.\"\\n\\nGreta Gerwig: Look at the way they\\'re standing. That\\'s not humans Like, those are dancers. That\\'s what I wanted all the Barbies and Kens to look like.\\n\\n\"Barbie\" has that technicolor soundstage look because Gerwig convinced the studio to build one, complete with a painted sky and backdrop to give the movie a 2D effect.\\n\\nGreta Gerwig: Basically-- the foreground is-- that\\'s on a treadmill. So that\\'s going like this to create movement. And then the lines on the road are being pulled by a person behind it. And it\\'s about showing the work. I wanted to see that it was authentically artificial. Really fake. It\\'s about kids. It\\'s about playing with toys. The language of play has to be part of it.\\n\\nGreta Gerwig: We shot this whole thing in one day.\\n\\nSharyn Alfonsi: No.\\n\\nGreta Gerwig: Yeah. We shot it in one day. We had one day to get it. They were like, if you really want this dream ballet, you\\'re gonna get one day.\\n\\nSharyn Alfonsi: As you sit here in the theater today, it\\'s still amazing to you?\\n\\nGreta Gerwig: Yeah. I mean, honestly, the whole movie, when I watch it, I-- I still can\\'t believe anybody let me do this. (laugh)\\n\\nGerwig says they wrote the role of Ken specifically for Ryan Gosling.\\n\\nSharyn Alfonsi: Did you know him?\\n\\nBoth: No.\\n\\nGreta Gerwig: I\\'d never met him.\\n\\nSharyn Alfonsi: I mean, you wrote his name, Ryan, in the script?\\n\\nGreta Gerwig: Yes. It said, \"Ken: Ryan Gosling.\"\\n\\nNoah Baumbach: It was his full name.\\n\\nGreta Gerwig: Every other (overtalk) Yeah. We just put his whole name in the whole time.\\n\\nNoah Baumbach: It was a lot to type all the time. (laugh)\\n\\nSharyn Alfonsi: Did he instantly say, like, \"Yes. I\\'m Ken\"?\\n\\nGreta Gerwig: I basically was like, \"Listen. We\\'ve seen the future. You\\'re in it. And you\\'re Ken.\" (laugh)\\n\\nHang around with Greta Gerwig long enough and a pattern emerges.\\n\\nGreta Gerwig: Now you\\'re going to see how I get people to do things.\\n\\nShe has a way of coaxing people out of their comfort zones. At a dance studio in Midtown Manhattan…\\n\\nGreta Gerwig: Why don\\'t you just come try it though. Just come try it.\\n\\nSharyn Alfosni and Greta Gerwig at a Manhattan dance studio 60 Minutes\\n\\nGerwig directed me to join her as she got back into the swing of one of her first loves…tap dancing.\\n\\nGreta Gerwig: This is actually a Proustian moment (laugh)\\n\\nA Proustian moment…during something called a paradiddle. The only thing to do was step aside.\\n\\nSharyn Alfonsi: You\\'re a bit of a perfectionist?\\n\\nGreta Gerwig: I guess so, yes.\\n\\nSharyn Alfonsi: But you\\'re, like, another take, another take, another take.\\n\\nGreta Gerwig: Yeah. Yeah. Of course, yeah.\\n\\nOn the set of \"Barbie,\" Gerwig directed nearly 50 takes of this scene with America Ferrera…who plays a Mattel assistant and mother.\\n\\nSoul-baring monologues, penned by Gerwig, are a staple of her films. The writer\\'s version of a guitar solo.\\n\\nNoah Baumbach: Greta will go into some monologue mode, it\\'s kind of almost physical. Like, she goes in and she just like-- and kind of like, (laugh) doing a thing and, like, you know, it\\'s like Joe Cocker or something. (laugh) it\\'s like -and then, she hands it over. And-- and it\\'s great.\\n\\nNext, Gerwig is taking on a big franchise. She\\'s directing and writing two \"Chronicles of Narnia\" movies. She confessed putting her stamp on the beloved C.S. Lewis classics is giving her nightmares.\\n\\nGreta Gerwig: Yeah, whenever I\\'m stuck, I go for walks--\\n\\nSharyn Alfonsi: Do you get--\\n\\nGreta Gerwig: --which is most of the time?\\n\\nSharyn Alfonsi: Do you get stuck?\\n\\nGreta Gerwig: That\\'s all I\\'ve been--\\n\\nSharyn Alfonsi: I feel like its flowing out of you–\\n\\nGreta Gerwig: That\\'s all I do. I only get stuck. That\\'s all I re-- that\\'s why I\\'m always going on walks. (laugh)\\n\\nWhatever she\\'s doing, it\\'s paying off. Greta Gerwig is the first woman to solo-direct a billion dollar movie…an idea that once seemed as far-fetched as Barbie in Birkenstocks.\\n\\nProduced by Nathalie Sommer. Associate producer, Kaylee Tully. Broadcast associate, Erin DuCharme. Edited by Peter M. Berman.', 'top_image': 'https://assets3.cbsnewsstatic.com/hub/i/r/2023/12/01/e9b1dec1-bb19-46be-b840-957c64037067/thumbnail/1200x630/a5f9af4aeb34b354f6110cc4e7357d13/gerwig-12.jpg?v=2a3c5d91939c9bf28fa0bc6fdfacfdd4', 'topic': 'ENTERTAINMENT', 'url': 'https://news.google.com/rss/articles/CBMiUWh0dHBzOi8vd3d3LmNic25ld3MuY29tL25ld3MvYmFyYmllLWZpbG1tYWtlci1ncmV0YS1nZXJ3aWctNjAtbWludXRlcy10cmFuc2NyaXB0L9IBVWh0dHBzOi8vd3d3LmNic25ld3MuY29tL2FtcC9uZXdzL2JhcmJpZS1maWxtbWFrZXItZ3JldGEtZ2Vyd2lnLTYwLW1pbnV0ZXMtdHJhbnNjcmlwdC8?oc=5'}),\n",
       " Document(page_content='\"Barbie\" filmmaker Greta Gerwig on pressure of making blockbuster | 60 Minutes - CBS News', metadata={'card_text': 'For years, Hollywood has relied on towering action heroes to get people to the movies. But this summer, it was...', 'country_code': 'AE', 'description': 'Directing \"Barbie\" was a dream job for Greta Gerwig, the Oscar-nominated filmmaker behind \"Little Women\" and \"Lady Bird.\" Now she\\'s putting her own stamp on two \"Chronicles of Narnia\" movies.', 'keywords': 'Movies', 'source': 'CBS News', 'source_href': 'https://www.cbsnews.com', 'text': 'For years, Hollywood has relied on towering action heroes to get people to the movies. But this summer, it was an 11 and half inch doll…. complete with plastic accessories and a permanently-tanned sidekick that dominated the box office. \"Barbie\" brought in more than a billion dollars worldwide…the highest grossing movie of the year.\\n\\nThe brains behind the out of the box blockbuster is an equally unique filmmaker- Greta Gerwig. Gerwig, is best known for her work as an actor, director and screenwriter on smaller, independent films.\\n\\nBankrolled by Warner Brothers and blessed by toy-maker Mattel, Greta Gerwig told us \"Barbie\" was a dream job…and one she feared just might end her career.\\n\\nOn a pastel colored soundstage, just outside of London, no one seemed to be having more fun on the set of \"Barbie\"… than director Greta Gerwig.\\n\\nGerwig has a way of making things look like child\\'s play but making \"Barbie\" - was not.\\n\\nThe film\\'s $100 million production budget was dwarfed only by the size of its marketing budget….a reported $150 million.\\n\\nGreta Gerwig 60 Minutes\\n\\nGreta Gerwig: There is, like, a moment where you\\'re like, \"Wow. I\\'m way out there. Like, if this doesn\\'t work, it will be a pub-- (laugh) very public.\"\\n\\nSharyn Alfonsi: People are gonna notice.\\n\\nGreta Gerwig: \"It would be an extremely public one. You know, you might as well take those big swings.\" I mean, literally, the worst thing that can happen is it\\'s terrible, (laugh) nobody likes it and it bankrupts the studio –\\n\\nSharyn Alfonsi: That would be bad.\\n\\nGreta Gerwig: Oh, no. Of course. Of course. But, like, how bad, you know? As bad as not making it, you know? Maybe, not.\\n\\nDefinitely, not.\\n\\n\"Barbie\" smashed box office records to become Warner Brothers\\' highest grossing film of all time.\\n\\nIt wasn\\'t a sure bet. Greta Gerwig, like Barbie\\'s permanently-arched feet - pulled off an almost impossible balancing act: giving voice to the iconic doll… and her fiercest critics.\\n\\nSharyn Alfonsi: You\\'re writing a movie for people that love Barbie. You\\'re writing a movie for people who, maybe, don\\'t love Barbie. It feels like a hornet\\'s nest.\\n\\nGreta Gerwig: Yeah. There were lots of questions about, like, \"Should we be saying this or walking into this stuff,\" or-- but my feeling was people already know it\\'s a hornet\\'s nest. We cannot make something that pretends to be other than that.\\n\\nIt was Barbie herself, actress Margot Robbie, who brought Gerwig into the fold.\\n\\nRobbie bought the rights to make a Barbie movie and asked Gerwig to write it.\\n\\nShe agreed and signed up her partner in work and life, filmmaker Noah Baumbach but neglected to tell him. He learned about it from a headline.\\n\\nNoah Baumbach: I think I said, \"Apparently, (laugh) we\\'re writing a movie called Barbie.\"\\n\\nGreta Gerwig: Yeah. I said, \"Ooh. Whoops.\" (laugh)\\n\\nNoah Baumbach: I couldn\\'t even fathom it. (laugh)\\n\\nNoah Baumbach and Greta Gerwig 60 Minutes\\n\\nGreta Gerwig: Well, I mean, his issue with it was that there was no character and there was no story.\\n\\nNoah Baumbach: Well, I don\\'t-- I didn\\'t mind that so much as that--\\n\\nGreta Gerwig: You did.\\n\\nNoah Baumbach: --you know, that it was Barbie.\\n\\nGreta Gerwig: You told me, \"There\\'s no character and there\\'s no story.\" (laugh)\\n\\nSharyn Alfonsi: Wait. Isn\\'t Barbie a character?\\n\\nGreta Gerwig: No.\\n\\nNoah Baumbach: No. She--\\n\\nGreta Gerwig: She doesn\\'t have, like, a personality-- (laugh)\\n\\nNoah Baumbach: It\\'s a doll. (laugh) And then when I found out we were doing it, sort of actively (laugh) tried to get us out of it. And then -\\n\\nSharyn Alfonsi: Did you actually try to get out of it?\\n\\nGreta Gerwig: Yeah.\\n\\nNoah Baumbach: I made -I made some calls. (laugh) And then -\\n\\nSharyn Alfonsi: It didn\\'t work? (laugh)\\n\\nNoah Baumbach: No-- because Greta was persistent and Greta saw something.\\n\\nGreta Gerwig: I did.\\n\\nSharyn Alfonsi: Greta, what was it you saw?\\n\\nGreta Gerwig: You know, Barbie\\'s been around since 1959, and everyone knows who she is, and everyone has an opinion, and she\\'s run the gamut of being ahead of time, behind time. She\\'s a hero, she\\'s a villain.\\n\\nGreta Gerwig 60 Minutes\\n\\nTogether they created their version of Barbie Land…a feminist utopia. Where every woman is Barbie…and every Ken- is just an accessory.\\n\\nBut an existential crisis in Barbie Land, sends Barbie and Ken into the real world.\\n\\nKen wanders off… discovers patriarchy– and likes it.\\n\\nSharyn Alfonsi: There were people that came out after the movie and said, \"Oh. This movie is anti-man.\"\\n\\nGreta Gerwig: The movie is meant to be a big-hearted thing, even though it\\'s poking fun at everyone. But I had this-- but this is-- but I planned this in my head. I\\'ll just say it.\\n\\nNoah Baumbach: OK.\\n\\nGreta Gerwig: But I thought, \"Well, this is not man-hating anymore than Aristophanes\\'s Lysistrata (laugh) was man-hating,\" which is-- does not sound like a sick burn when you say it out loud like that.\\n\\nSharyn Alfonsi: That\\'ll teach \\'em.\\n\\nGerwig invoked a Greek playwright to defend barbie. We noticed her mind seems to percolate with literary references. Baumbach\\'s take on the \"Barbie\" backlash was simpler.\\n\\nNoah Baumbach: I felt men could take it. I mean, t-- come on. (laugh)\\n\\nGreta Gerwig: I mean this sounds so silly to say out loud but I love ken. We love Ken. We also take Ken\\'s position quite seriously.\\n\\nNoah Baumbach: Absolutely.\\n\\nGreta Gerwig: I think, like, he has no identity outside of her.\\n\\nGerwig and Baumbach live in New York and wrote the screenplay at home during the pandemic.\\n\\nSharyn Alfonsi: Were you entertaining each other?\\n\\nGreta Gerwig: Yes.\\n\\nNoah Baumbach: Yeah. I mean, it kind of kept us sane.\\n\\nOr the insanity went into the movie. They told us the final cut -which at times looks like a COVID fever dream- is very close to the script they submitted to Mattel. The toy maker- they say- was surprisingly hands off– but had notes.\\n\\nNoah Baumbach: One of the notes was, \"On page 112, does a Mattel executive have to be shot?\"\\n\\nNoah Baumbach: And I felt like that was exciting. We knew we were onto something.\\n\\nGreta Gerwig: We felt like we might as well go for broke. They\\'re already not making movies.\\n\\nSharyn Alfonsi: You thought it might not ever get made? Yeah.\\n\\nGreta Gerwig: Yeah. Oh, no. We thought it might never get made.\\n\\nSharyn Alfosni and Greta Gerwig 60 Minutes\\n\\nAnd she says she never dreamed - she\\'d be the one who ended up directing it. Greta Gerwig grew up in Sacramento and fell in love with community theater in grade school. She took up dancing, then acting.\\n\\nSharyn Alfonsi: Did you know you would end up in New York?\\n\\nGreta Gerwig: I–I wanted to be in New York but I just didn\\'t know that I-- it was possible. I mean, it felt (noise) extremely far away and expensive.\\n\\nShe attended Barnard College, performed in school productions. then, fell in with a group of low-budget filmmakers - before setting her sights on a wider audience.\\n\\nGreta Gerwig: I remember I walked into a casting director\\'s office. It was, sort of, the heyday of, like-- just a certain look on network television, which I was never very good at doing. I don\\'t know why. But I was wearing overalls. And I remember they-\\n\\nSharyn Alfonsi: A bold choice. (laugh)\\n\\nGreta Gerwig: She looked up and she goes, \"You must be very talented.\" (laughter)\\n\\nShe landed roles in more than a dozen movies. Some she helped write. Then, Greta Gerwig made the biggest leap of her career from indie darling…to breakout director with \"Lady Bird.\"\\n\\nGerwig wrote the coming-of-age story about the complicated relationship between a mother and daughter.\\n\\nSharyn Alfonsi: The scene where she jumps out of the car, (chuckle) what was your direction?\\n\\nGreta Gerwig: I want you to, without even think about it, just-- just hurl yourself out of this ca-- like, I want it to be almost like you\\'ve acted before you\\'ve thought through completely what the result (chuckle) of this is gonna be.\\n\\nGerwig\\'s fearless approach…earned the then 34-year-old two Oscar nominations.\\n\\nTwo years later, she got a third nomination…for her 2019 adaptation of \"Little Women.\"\\n\\nThen, came \"Barbie\"…with a budget more than ten times that of \"Lady Bird.\"\\n\\nLast month, at a theater in New York, Gerwig showed us some of the old musicals that inspired her…including 1957\\'s \"Funny Face.\"\\n\\nGreta Gerwig: Look at the way they\\'re standing. That\\'s not humans Like, those are dancers. That\\'s what I wanted all the Barbies and Kens to look like.\\n\\n\"Barbie\" has that technicolor soundstage look because Gerwig convinced the studio to build one, complete with a painted sky and backdrop to give the movie a 2D effect.\\n\\nGreta Gerwig: Basically-- the foreground is-- that\\'s on a treadmill. So that\\'s going like this to create movement. And then the lines on the road are being pulled by a person behind it. And it\\'s about showing the work. I wanted to see that it was authentically artificial. Really fake. It\\'s about kids. It\\'s about playing with toys. The language of play has to be part of it.\\n\\nGreta Gerwig: We shot this whole thing in one day.\\n\\nSharyn Alfonsi: No.\\n\\nGreta Gerwig: Yeah. We shot it in one day. We had one day to get it. They were like, if you really want this dream ballet, you\\'re gonna get one day.\\n\\nSharyn Alfonsi: As you sit here in the theater today, it\\'s still amazing to you?\\n\\nGreta Gerwig: Yeah. I mean, honestly, the whole movie, when I watch it, I-- I still can\\'t believe anybody let me do this. (laugh)\\n\\nGerwig says they wrote the role of Ken specifically for Ryan Gosling.\\n\\nSharyn Alfonsi: Did you know him?\\n\\nBoth: No.\\n\\nGreta Gerwig: I\\'d never met him.\\n\\nSharyn Alfonsi: I mean, you wrote his name, Ryan, in the script?\\n\\nGreta Gerwig: Yes. It said, \"Ken: Ryan Gosling.\"\\n\\nNoah Baumbach: It was his full name.\\n\\nGreta Gerwig: Every other (overtalk) Yeah. We just put his whole name in the whole time.\\n\\nNoah Baumbach: It was a lot to type all the time. (laugh)\\n\\nSharyn Alfonsi: Did he instantly say, like, \"Yes. I\\'m Ken\"?\\n\\nGreta Gerwig: I basically was like, \"Listen. We\\'ve seen the future. You\\'re in it. And you\\'re Ken.\" (laugh)\\n\\nHang around with Greta Gerwig long enough and a pattern emerges.\\n\\nGreta Gerwig: Now you\\'re going to see how I get people to do things.\\n\\nShe has a way of coaxing people out of their comfort zones. At a dance studio in Midtown Manhattan…\\n\\nGreta Gerwig: Why don\\'t you just come try it though. Just come try it.\\n\\nSharyn Alfosni and Greta Gerwig at a Manhattan dance studio 60 Minutes\\n\\nGerwig directed me to join her as she got back into the swing of one of her first loves…tap dancing.\\n\\nGreta Gerwig: This is actually a Proustian moment (laugh)\\n\\nA Proustian moment…during something called a paradiddle. The only thing to do was step aside.\\n\\nSharyn Alfonsi: You\\'re a bit of a perfectionist?\\n\\nGreta Gerwig: I guess so, yes.\\n\\nSharyn Alfonsi: But you\\'re, like, another take, another take, another take.\\n\\nGreta Gerwig: Yeah. Yeah. Of course, yeah.\\n\\nOn the set of \"Barbie,\" Gerwig directed nearly 50 takes of this scene with America Ferrera…who plays a Mattel assistant and mother.\\n\\nSoul-baring monologues, penned by Gerwig, are a staple of her films. The writer\\'s version of a guitar solo.\\n\\nNoah Baumbach: Greta will go into some monologue mode, it\\'s kind of almost physical. Like, she goes in and she just like-- and kind of like, (laugh) doing a thing and, like, you know, it\\'s like Joe Cocker or something. (laugh) it\\'s like -and then, she hands it over. And-- and it\\'s great.\\n\\nNext, Gerwig is taking on a big franchise. She\\'s directing and writing two \"Chronicles of Narnia\" movies. She confessed putting her stamp on the beloved C.S. Lewis classics is giving her nightmares.\\n\\nGreta Gerwig: Yeah, whenever I\\'m stuck, I go for walks--\\n\\nSharyn Alfonsi: Do you get--\\n\\nGreta Gerwig: --which is most of the time?\\n\\nSharyn Alfonsi: Do you get stuck?\\n\\nGreta Gerwig: That\\'s all I\\'ve been--\\n\\nSharyn Alfonsi: I feel like its flowing out of you–\\n\\nGreta Gerwig: That\\'s all I do. I only get stuck. That\\'s all I re-- that\\'s why I\\'m always going on walks. (laugh)\\n\\nWhatever she\\'s doing, it\\'s paying off. Greta Gerwig is the first woman to solo-direct a billion dollar movie…an idea that once seemed as far-fetched as Barbie in Birkenstocks.\\n\\nProduced by Nathalie Sommer. Associate producer, Kaylee Tully. Broadcast associate, Erin DuCharme. Edited by Peter M. Berman.', 'top_image': 'https://assets3.cbsnewsstatic.com/hub/i/r/2023/12/01/e9b1dec1-bb19-46be-b840-957c64037067/thumbnail/1200x630/a5f9af4aeb34b354f6110cc4e7357d13/gerwig-12.jpg?v=2a3c5d91939c9bf28fa0bc6fdfacfdd4', 'topic': 'ENTERTAINMENT', 'url': 'https://news.google.com/rss/articles/CBMiUWh0dHBzOi8vd3d3LmNic25ld3MuY29tL25ld3MvYmFyYmllLWZpbG1tYWtlci1ncmV0YS1nZXJ3aWctNjAtbWludXRlcy10cmFuc2NyaXB0L9IBVWh0dHBzOi8vd3d3LmNic25ld3MuY29tL2FtcC9uZXdzL2JhcmJpZS1maWxtbWFrZXItZ3JldGEtZ2Vyd2lnLTYwLW1pbnV0ZXMtdHJhbnNjcmlwdC8?oc=5'})]"
      ]
     },
     "execution_count": 8,
     "metadata": {},
     "output_type": "execute_result"
    }
   ],
   "source": [
    "chroma_reader.search(query, )"
   ]
  },
  {
   "cell_type": "code",
   "execution_count": 2,
   "metadata": {},
   "outputs": [],
   "source": [
    "chroma_reader.set_collection(\"current_events\")"
   ]
  },
  {
   "cell_type": "code",
   "execution_count": 3,
   "metadata": {},
   "outputs": [],
   "source": [
    "query = f\"\"\"List 10 important and interesting events related to any of these topics: {','.join(QUERY_TOPICS)}. \n",
    "Zomato is a popular online platform that provides a comprehensive range of services related to dining and food. Originally founded in India, Zomato has expanded globally and is now a prominent player in the food technology industry. The platform allows users to explore and discover restaurants, cafes, and eateries in their vicinity, offering detailed information such as menus, reviews, ratings, and photos.\n",
    "\n",
    "Zomato's user-friendly interface enables individuals to browse through a diverse range of cuisines, make reservations, and order food for delivery or takeaway. The platform has become a go-to resource for food enthusiasts seeking recommendations, as it aggregates user-generated reviews to help people make informed decisions about where to dine.\n",
    "\n",
    "In addition to its consumer-facing services, Zomato has also ventured into food delivery, connecting users with a wide network of restaurants and delivery partners. The platform's commitment to enhancing the overall dining experience has made it a popular choice for both food lovers and businesses in the food industry.\"\"\"\n"
   ]
  },
  {
   "cell_type": "code",
   "execution_count": 4,
   "metadata": {},
   "outputs": [],
   "source": [
    "topic = \"film industry\"\n",
    "target = \"text\"\n",
    "country_code = \"IN\""
   ]
  },
  {
   "cell_type": "code",
   "execution_count": 5,
   "metadata": {},
   "outputs": [
    {
     "data": {
      "text/plain": [
       "[Document(page_content=\"capitalizing on the online gaming realm for product launches, events, and innovative monetization avenues. Notable entries include United Colors of Benetton's virtual collection in Animal Crossing and Toyota's engagement with its Asian audience through the e-Motorsport event TOYOTA GAZOO Racing GT Cup on Gran Turismo, live-streamed on Twitch, Facebook, YouTube, and Twitter, allowing gamers to race using Toyota sports cars. Prominent startups in the gaming sector, including MPL, Dream Sports, and Games 24 Seven, have achieved unicorn status. Nazara stands out as the first listed gaming company. Noteworthy international gaming firms like Electronic Arts (FIFA), Rockstar Games (Call of Duty), Ubisoft, and Zynga also have a significant presence in India. The rise of gaming culture is undeniably shaping a new era of entertainment and the government's role in fostering innovation plays a pivotal part in this transformative journey. If stakeholders and the government collaborate effectively\", metadata={'card_text': 'There is a game for everyone and the choices for players are virtually unlimited! The gaming landscape in India has...', 'country_code': 'IN', 'description': \"Dive into the dynamic Gaming Sector in India. Discover the esports milestones, technological leaps, and the government's crucial role in the industry.\", 'keywords': '', 'source': 'Invest India', 'source_href': 'https://www.investindia.gov.in', 'title': \"Rise of Gaming Culture and the Government's Role in Fostering ... - Invest India\", 'top_image': 'https://static.investindia.gov.in/s3fs-public/2023-11/Gamming-Banner.png', 'url': 'https://news.google.com/rss/articles/CBMibWh0dHBzOi8vd3d3LmludmVzdGluZGlhLmdvdi5pbi90ZWFtLWluZGlhLWJsb2dzL3Jpc2UtZ2FtaW5nLWN1bHR1cmUtYW5kLWdvdmVybm1lbnRzLXJvbGUtZm9zdGVyaW5nLWlubm92YXRpb27SAQA?oc=5'}),\n",
       " Document(page_content='to OTT consumption and social media. The gaming sector is experiencing changes across all its verticals, including fantasy sports, casual gaming, and esports, particularly in mobile-based real-money gaming.\\n\\nAccording to the FICCI-EY report of 2023 transaction-based game revenues saw a 39% increase in 2022 from 2021, surpassing INR 100 Bn. More and more Indian players are paying for online games with India’s percentage of first-time paying users increasing to 67% in 2022. In India, every second internet user is a gamer, and every third user conducting transactions online is a paying gamer. This growth can be attributed to factors such as:\\n\\nHeightened awareness and a more favourable perception of online gaming\\n\\nSubstantial marketing investments with the use of brand ambassadors and gaming influencers like MS Dhoni for WinZO, Shah Rukh Khan for Ace23, Hrithik Roshan for Games 24x7, and Virat Kohli for MPL\\n\\nThe revival of sporting events, including major tournaments like FIFA, Asia Cup,', metadata={'card_text': 'There is a game for everyone and the choices for players are virtually unlimited! The gaming landscape in India has...', 'country_code': 'IN', 'description': \"Dive into the dynamic Gaming Sector in India. Discover the esports milestones, technological leaps, and the government's crucial role in the industry.\", 'keywords': '', 'source': 'Invest India', 'source_href': 'https://www.investindia.gov.in', 'title': \"Rise of Gaming Culture and the Government's Role in Fostering ... - Invest India\", 'top_image': 'https://static.investindia.gov.in/s3fs-public/2023-11/Gamming-Banner.png', 'url': 'https://news.google.com/rss/articles/CBMibWh0dHBzOi8vd3d3LmludmVzdGluZGlhLmdvdi5pbi90ZWFtLWluZGlhLWJsb2dzL3Jpc2UtZ2FtaW5nLWN1bHR1cmUtYW5kLWdvdmVybm1lbnRzLXJvbGUtZm9zdGVyaW5nLWlubm92YXRpb27SAQA?oc=5'}),\n",
       " Document(page_content='There is a game for everyone and the choices for players are virtually unlimited! The gaming landscape in India has undergone a significant transformation in recent years, witnessing a growing participation in online gaming throughout the nation. Whether it is casual gaming on mobile phones or PCs or participating in organized tournaments and leagues within the realm of esports, India is witnessing a rise of gaming culture like never before. In 2022, gaming and esports enthusiasts experienced an exceptionally thrilling year, marked by the unprecedented Commonwealth Esports Championship. The global recognition of esports reached new heights, exemplified by Indian DOTA 2 squad’s impressive achievement of a bronze medal. Building on this success, the Asian Games 2023 also hosted an esports category as an officially recognized medal event. The inclusion of online gaming as a competitive sport highlights the increasing significance of gaming and esports on the global platform.\\n\\nIn India,', metadata={'card_text': 'There is a game for everyone and the choices for players are virtually unlimited! The gaming landscape in India has...', 'country_code': 'IN', 'description': \"Dive into the dynamic Gaming Sector in India. Discover the esports milestones, technological leaps, and the government's crucial role in the industry.\", 'keywords': '', 'source': 'Invest India', 'source_href': 'https://www.investindia.gov.in', 'title': \"Rise of Gaming Culture and the Government's Role in Fostering ... - Invest India\", 'top_image': 'https://static.investindia.gov.in/s3fs-public/2023-11/Gamming-Banner.png', 'url': 'https://news.google.com/rss/articles/CBMibWh0dHBzOi8vd3d3LmludmVzdGluZGlhLmdvdi5pbi90ZWFtLWluZGlhLWJsb2dzL3Jpc2UtZ2FtaW5nLWN1bHR1cmUtYW5kLWdvdmVybm1lbnRzLXJvbGUtZm9zdGVyaW5nLWlubm92YXRpb27SAQA?oc=5'}),\n",
       " Document(page_content='Second: Showcasing the sounds, culture, and influence of music and musicians, with an emphasis on documentary.\\n\\nGlobal: A diverse selection of International filmmaking talent, featuring innovative narratives, artful documentaries, premieres, festival favorites, and more.\\n\\nFestival Favorite: Acclaimed standouts and selected previous premieres from festivals around the world.\\n\\nSpecial Event: Live soundtracks, cult re-issues, and much more. Our Special Events section offers unusual, unexpected, and unique one-off film events.\\n\\nTV Screening Sections\\n\\nTV Premiere: Presenting world premieres of prestige serials slated for release and accompanied by show-runners, directors, and cast members.\\n\\nIndependent TV Pilot Competition: A pilot showcase introducing fresh work from bright new talent, many with an eye towards finding production, completion funds, or a release platform.\\n\\nTV Spotlight: Presenting world premieres of new seasons of prestige series or studio backed projects seeking', metadata={'card_text': 'Feature Film Screening Sections Narrative Feature Competition: World premieres with unique ways to celebrate the art of storytelling. Documentary Feature...', 'country_code': 'IN', 'description': 'Submit your film to the SXSW Film & TV Festival. Premiere your film in front of press, film industry, and film lovers. Explore more details and deadlines.', 'keywords': '', 'source': 'sxsw.com', 'source_href': 'https://www.sxsw.com', 'title': 'SXSW Film Festival Submissions - sxsw.com', 'top_image': 'https://www.sxsw.com/wp-content/uploads/2023/03/Varsity-In-Mariachi_03.12.23_AdamKissick_46.png', 'url': 'https://news.google.com/rss/articles/CBMiLGh0dHBzOi8vd3d3LnN4c3cuY29tL2FwcGx5L2ZpbG0tc3VibWlzc2lvbnMv0gEA?oc=5'}),\n",
       " Document(page_content='the online gaming segment is the fourth largest segment of the Indian Media & Entertainment sector. It is expected to reach INR 231 Bn by 2025, growing at a CAGR of 20%. In 2023, the number of online gamers in India expected to reach soared to an impressive 442 Mn, establishing it as the second-largest gaming user base globally, surpassed only by China. Among these, approximately 90 to 100 Mn are avid and regular players. Within the esports category, the number of players touched 1 Mn across all competitive level games, where 1 of 5 players were women.\\n\\nStatus of the Gaming Industry in India\\n\\nThe rise in gaming culture in India can be credited to various factors, particularly the development of broadband connectivity in Tier-II and Tier-III cities, along with cheaper data costs and affordable smartphones, broadening gaming accessibility to a diverse audience.\\n\\nDuring lockdown, as more people turned to virtual entertainment, online game viewing and streaming emerged as an alternative', metadata={'card_text': 'There is a game for everyone and the choices for players are virtually unlimited! The gaming landscape in India has...', 'country_code': 'IN', 'description': \"Dive into the dynamic Gaming Sector in India. Discover the esports milestones, technological leaps, and the government's crucial role in the industry.\", 'keywords': '', 'source': 'Invest India', 'source_href': 'https://www.investindia.gov.in', 'title': \"Rise of Gaming Culture and the Government's Role in Fostering ... - Invest India\", 'top_image': 'https://static.investindia.gov.in/s3fs-public/2023-11/Gamming-Banner.png', 'url': 'https://news.google.com/rss/articles/CBMibWh0dHBzOi8vd3d3LmludmVzdGluZGlhLmdvdi5pbi90ZWFtLWluZGlhLWJsb2dzL3Jpc2UtZ2FtaW5nLWN1bHR1cmUtYW5kLWdvdmVybm1lbnRzLXJvbGUtZm9zdGVyaW5nLWlubm92YXRpb27SAQA?oc=5'}),\n",
       " Document(page_content='JOIN THE LARGEST EVENTS TICKETING & MARKETING NETWORk\\n\\nMedia Company? Blog? Event listing site? Event calendar? Venue?\\n\\nBy joining our network and helping our event creators sell more tickets, you can diversify and grow your revenue, your brand, and audience while creating exciting new partnerships that will take your business to new heights.', metadata={'card_text': 'JOIN THE LARGEST EVENTS TICKETING & MARKETING NETWORk Media Company? Blog? Event listing site? Event calendar? Venue? By joining our...', 'country_code': 'IN', 'description': 'Looking for something to do? Find a full list of upcoming events, concerts, festivals, sports, family events & more. Both in-person & virtual events available.', 'keywords': '', 'source': 'Evvnt', 'source_href': 'https://evvnt.com', 'title': 'Evvnt Events - Black Panther 2 (2022) Film Online On 123movies - Evvnt', 'top_image': 'https://evvnt.com/wp-content/uploads/2023/10/ESC.png', 'url': 'https://news.google.com/rss/articles/CBMiaWh0dHBzOi8vZXZ2bnQuY29tL2V2ZW50cy8_X2V2RGlzY292ZXJ5UGF0aD0vZXZlbnQlMkYxMzkyMjlyLWJsYWNrLXBhbnRoZXItMi0yMDIyLWZpbG0tb25saW5lLW9uLTEyM21vdmllc9IBAA?oc=5'}),\n",
       " Document(page_content='have featured a shopping festival of some kind. In addition to major events like Double Eleven and “618,” which falls annually on June 18 and was first launched by e-commerce giant JD.com, discounts are also offered during seasonal campaigns and traditional holiday sales.\\n\\nOn top of that, platforms routinely organize commercial activities to coincide with national and global events. For example, to mark International Women’s Day on March 8 this year, Tmall offered various promotions nearly every day that month on food, digital and household appliances, cosmetics, clothing, and other products.\\n\\nThe rise of livestream shopping through platforms such as Douyin, the domestic version of TikTok, also appears to have reduced the appeal of Double Eleven. “I buy what I need for my daily life on livestreaming platforms, as the discounts are not much different from Double Eleven,” wrote one Weibo user.\\n\\nThe livestreaming market has expanded quickly in China, according to e-commerce database', metadata={'card_text': 'The annual “Double Eleven” shopping festival — so called because it falls on Nov. 11, or China’s Singles’ Day —...', 'country_code': 'IN', 'description': 'The annual online shopping festival has continued to falter as an overabundance of sales seasons and opaque pricing strategies cause fatigue among consumers.', 'keywords': '', 'source': 'Sixth Tone', 'source_href': 'https://www.sixthtone.com', 'title': \"Has the 'Double Eleven' Shopping Festival Lost its Luster? - Sixth Tone\", 'top_image': 'https://image5.sixthtone.com/image/5/73/345.jpg', 'url': 'https://news.google.com/rss/articles/CBMihwFodHRwczovL3d3dy5zaXh0aHRvbmUuY29tL25ld3MvMTAxNDEyMC9oYXMtdGhlLSVFMiU4MCU5OGRvdWJsZS1lbGV2ZW4lRTIlODAlOTktc2hvcHBpbmctZmVzdGl2YWwtbG9zdC1pdHMtbHVzdGVyJTNGP3NvdXJjZT1jaGFubmVsX2hvbWXSAQA?oc=5'}),\n",
       " Document(page_content=\"meet-and-greets, and other activities. The lineup for the event has been announced, and it is expected to feature some of India's most popular YouTubers.\\n\\nTickets for YouTube Fanfest 2023 are on sale. Fans can sign up for the waitlist on the YouTube Fanfest website. The details of the event are as follows:\\n\\nActivity Time Box Office Opening 12:00 P.M to 7:30 P.M Experiential Zone 4:00 P.M to 10:00 P.M In-Person Meet and Greet 5:30 P.M to 7:00 P.M Live Show 7:30 P.M to 10:00 P.M YouTube Fanfest 2023: Lineup The lineup for YouTube Fanfest India 2023 is nothing short of spectacular. It features some of the brightest stars across a wide array of genres, all of whom have earned their crowns as the talk of the digital town. Some of the dancers who will be performing include Awez Darbar, who is known for his awe-inspiring dance moves, and Team Naach, who are known for their groovy moves.\", metadata={'card_text': 'YouTube Fanfest is an annual event that brings together YouTube creators and their fans for a day of fun, music,...', 'country_code': 'IN', 'description': \"YouTube Fanfest India 2023 is happening on September 27, 2023 at Nesco Goregaon, Mumbai! The event will feature performances by some of India's most popular YouTubers. Here are all the details.\", 'keywords': 'youtube fanfest,youtube fan fest,n youtube fanfest 2023,when is youtube fanfest in 2023,youtube fanfest date,youtube fanfest lineup,youtube fanfest venue,youtube fanfest 2023 lineup,mostlysane,harrdy sandhu,', 'source': 'Jagran Josh', 'source_href': 'https://www.jagranjosh.com', 'title': 'YouTube Fanfest 2023: Date, Venue, Lineup, How to Buy Ticket and Event Details - Jagran Josh', 'top_image': 'https://img.jagranjosh.com/images/2023/September/892023/youtube-fanfest.jpg', 'url': 'https://news.google.com/rss/articles/CBMiZmh0dHBzOi8vd3d3LmphZ3Jhbmpvc2guY29tL2dlbmVyYWwta25vd2xlZGdlL3lvdXR1YmUtZmFuZmVzdC1kYXRlLXZlbnVlLWFuZC1ldmVudC1kZXRhaWxzLTE2OTQxNzc4MDUtMdIBamh0dHBzOi8vd3d3LmphZ3Jhbmpvc2guY29tL2dlbmVyYWwta25vd2xlZGdlL2FtcC95b3V0dWJlLWZhbmZlc3QtZGF0ZS12ZW51ZS1hbmQtZXZlbnQtZGV0YWlscy0xNjk0MTc3ODA1LTE?oc=5'}),\n",
       " Document(page_content=\"After the recently-concluded beauty and lifestyle festival Nykaaland that witnessed a footfall of 15,000 across two days, live entertainment producer and ticketing company BookMyShow is moving on to the next big thing. The company is bullish on the live entertainment space and unique experiences like Nykaaland is a great opportunity of moving forward from the music space into newer segments like beauty, says Owen Roncon, BookMyShow’s chief of business-live entertainment, who’s had stints with Izumi, Fountainhead MKTG and Oranjuice Entertainment before joining the company last year.\\n\\n“Over the last six years BookMyShow has been doing a lot of music. We've migrated from being just a ticketing company to producing and now designing and conceptualizing events as well. Nykaaland is one such concept event; the only one of its kind that has been conceptualized in India,” says Roncon.\\n\\nHe says that with the upcoming Ed Sheeran concert on March 16 in Mumbai things are only going to get bigger\", metadata={'card_text': 'After the recently-concluded beauty and lifestyle festival Nykaaland that witnessed a footfall of 15,000 across two days, live entertainment producer...', 'country_code': 'IN', 'description': 'He says that with the upcoming Ed Sheeran concert on March 16 in Mumbai things are only going to get bigger and better', 'keywords': 'BookMyShow,Owen Roncon', 'source': 'Business Today', 'source_href': 'https://www.businesstoday.in', 'title': 'We want to establish India as a global live entertainment hub: BookMyShow’s Owen Roncon - Business Today', 'top_image': 'https://akm-img-a-in.tosshub.com/businesstoday/images/story/202311/ezgif-sixteen_nine_129.jpg', 'url': 'https://news.google.com/rss/articles/CBMipAFodHRwczovL3d3dy5idXNpbmVzc3RvZGF5LmluL2VudHJlcHJlbmV1cnNoaXAvc3RhcnQtdXAvc3Rvcnkvd2Utd2FudC10by1lc3RhYmxpc2gtaW5kaWEtYXMtYS1nbG9iYWwtbGl2ZS1lbnRlcnRhaW5tZW50LWh1Yi1ib29rbXlzaG93cy1vd2VuLXJvbmNvbi00MDUxMTYtMjAyMy0xMS0wONIBqAFodHRwczovL3d3dy5idXNpbmVzc3RvZGF5LmluL2FtcC9lbnRyZXByZW5ldXJzaGlwL3N0YXJ0LXVwL3N0b3J5L3dlLXdhbnQtdG8tZXN0YWJsaXNoLWluZGlhLWFzLWEtZ2xvYmFsLWxpdmUtZW50ZXJ0YWlubWVudC1odWItYm9va215c2hvd3Mtb3dlbi1yb25jb24tNDA1MTE2LTIwMjMtMTEtMDg?oc=5'}),\n",
       " Document(page_content=\"regulatory fragmentation at the state level. Yet, the recent imposition of a 28% tax on online games has faced backlash from startups and gaming enterprises. Critics argue that this move could potentially force smaller startups out of business. The government's justification for this decision is based on the moral standpoint that online games cannot be taxed on par with essential commodities. The impact of this decision on stakeholders remains uncertain and will be noticed in coming times,\\n\\nConclusion\\n\\nThe online gaming sector is projected to reach INR 231 Bn by 2025, with transaction-based gaming expected to grow at a CAGR of 21%, contributing 79% of total segment revenues at INR 183 Bn. Key growth drivers include the clarity provided by new IT rules, simplification of legislation, and regulations, fostering trust among gamers. The sector is further propelled by the ongoing growth of digital payments and emerging monetisation models like in-app branded monetisation. Brands are\", metadata={'card_text': 'There is a game for everyone and the choices for players are virtually unlimited! The gaming landscape in India has...', 'country_code': 'IN', 'description': \"Dive into the dynamic Gaming Sector in India. Discover the esports milestones, technological leaps, and the government's crucial role in the industry.\", 'keywords': '', 'source': 'Invest India', 'source_href': 'https://www.investindia.gov.in', 'title': \"Rise of Gaming Culture and the Government's Role in Fostering ... - Invest India\", 'top_image': 'https://static.investindia.gov.in/s3fs-public/2023-11/Gamming-Banner.png', 'url': 'https://news.google.com/rss/articles/CBMibWh0dHBzOi8vd3d3LmludmVzdGluZGlhLmdvdi5pbi90ZWFtLWluZGlhLWJsb2dzL3Jpc2UtZ2FtaW5nLWN1bHR1cmUtYW5kLWdvdmVybm1lbnRzLXJvbGUtZm9zdGVyaW5nLWlubm92YXRpb27SAQA?oc=5'}),\n",
       " Document(page_content='free access to these major sport events will be closed, after Ministers updated the Bill.\\n\\nThe new definition of “relevant services” ensures that TV-like services not currently captured by the listed events regime but providing live content to UK audiences via the internet, will now be captured. This will ensure the rights for listed events continue to be offered on fair and reasonable terms to PSBs as sport audience viewing habits evolve.\\n\\nOpening the debate, Culture Secretary Lucy Frazer is expected to say:\\n\\nWe are in a golden age for the silver screen and our public service broadcasters are a major reason why. Whether it’s reality shows like the Great British Bake Off and I’m A Celebrity, or dramas like Time, Happy Valley or Broadchurch - our public service broadcasters have proven they can go toe-to-toe with the streaming giants. But success today is never a guarantee of success tomorrow. The rise of streaming giants and on-demand content, YouTube and smartphones, tablets and Tik', metadata={'card_text': 'New measures added to ensure a wide range of TV genres continue to be shown by the UK’s main broadcasters,...', 'country_code': 'IN', 'description': 'Culture Secretary promises to remove “Sword of Damocles” anti-free press laws as she opens Second Reading of the Media Bill', 'keywords': '', 'source': 'GOV.UK', 'source_href': 'https://www.gov.uk', 'title': 'Media Bill to maximise potential of British TV and radio - GOV.UK', 'top_image': 'https://assets.publishing.service.gov.uk/media/655b485e544aea000dfb303b/s960_govuk_ch4.jpg', 'url': 'https://news.google.com/rss/articles/CBMiW2h0dHBzOi8vd3d3Lmdvdi51ay9nb3Zlcm5tZW50L25ld3MvbWVkaWEtYmlsbC10by1tYXhpbWlzZS1wb3RlbnRpYWwtb2YtYnJpdGlzaC10di1hbmQtcmFkaW_SAQA?oc=5'}),\n",
       " Document(page_content='With the new year just three months away, the annual conference and convention season is largely over in the food and beverage space — with the exception of a few events, including SupplySide West later this month.\\n\\nBut the new year will quickly bring with it a barrage of gatherings scattered across the U.S. where thousands of people will assemble to discuss new products, technologies and other changes impacting their industries.\\n\\nFood Dive is highlighting 11 of the top events to start planning for in 2024.\\n\\nOct. 23-27, 2023\\n\\nLas Vegas, NV\\n\\nAttended by executives in R&D, supply chain management, food and beverage ingredient suppliers and packaging and label suppliers, SupplySide West touts itself as a “premier gathering” of health & nutrition professionals that connects both buyers and suppliers in the space.\\n\\nEvents will revolve around the science and strategy of product development.\\n\\nWinter Fancy Food Show\\n\\nJan. 21-23, 2024\\n\\nLas Vegas, NV\\n\\nThough Las Vegas may be known for its rich', metadata={'card_text': 'With the new year just three months away, the annual conference and convention season is largely over in the food...', 'country_code': 'IN', 'description': 'Food industry news, voices and jobs.  Optimized for your mobile phone.', 'keywords': '', 'source': 'Food Dive', 'source_href': 'https://www.fooddive.com', 'title': 'Top food and beverage industry events in 2024 - Food Dive', 'top_image': 'https://www.fooddive.com/imgproxy/RUVs3Xgn3gBVIIbGa9aD4eADIHSF6cNEBbTSpxg4Ijk/crop:1516:856/g:nowe:0:180/rs:fill:770:435:0/bG9jYWw6Ly8vZGl2ZWltYWdlL0lNR18wMTYzLmpwZw.jpg', 'url': 'https://news.google.com/rss/articles/CBMiNmh0dHBzOi8vd3d3LmZvb2RkaXZlLmNvbS9uZXdzL2Zvb2QtZXZlbnRzLTIwMjQvNjk1ODAwL9IBAA?oc=5'}),\n",
       " Document(page_content='year-on-year.\\n\\nThe fact that express delivery volume and online retail sales increased amid a frosty Double Eleven suggests that consumers are possibly not unwilling to buy, they are simply being more cautious about the products they “add to cart.” In the food and beverage sector, new categories emerged while others enjoyed significant gains, such as ready meals and healthy options like low-alcohol wine and high-fiber snacks.\\n\\nThis year’s Double Eleven also demonstrated an appetite among middle- and upper-class consumers for experiences or products that enhance their health, lifestyle, and self-expression. For example, vitamins, pet care, athletic apparel, and even luxury goods proved extremely popular, suggesting that buyers are looking to upgrade their consumption in these sectors.\\n\\nReported by Lian Junxiang, He Shuyao, Jin Tianyi, and Lei Guanghan.\\n\\nA version of this article originally appeared in Shanghai Data, a platform operated by the Shanghai Observer. It has been translated', metadata={'card_text': 'The annual “Double Eleven” shopping festival — so called because it falls on Nov. 11, or China’s Singles’ Day —...', 'country_code': 'IN', 'description': 'The annual online shopping festival has continued to falter as an overabundance of sales seasons and opaque pricing strategies cause fatigue among consumers.', 'keywords': '', 'source': 'Sixth Tone', 'source_href': 'https://www.sixthtone.com', 'title': \"Has the 'Double Eleven' Shopping Festival Lost its Luster? - Sixth Tone\", 'top_image': 'https://image5.sixthtone.com/image/5/73/345.jpg', 'url': 'https://news.google.com/rss/articles/CBMihwFodHRwczovL3d3dy5zaXh0aHRvbmUuY29tL25ld3MvMTAxNDEyMC9oYXMtdGhlLSVFMiU4MCU5OGRvdWJsZS1lbGV2ZW4lRTIlODAlOTktc2hvcHBpbmctZmVzdGl2YWwtbG9zdC1pdHMtbHVzdGVyJTNGP3NvdXJjZT1jaGFubmVsX2hvbWXSAQA?oc=5'}),\n",
       " Document(page_content='financial and box-office numbers to reveal the trends to note across rising ticket prices, shrinking theatrical footprints and demographic behaviors.\\n\\nYou’ll also get a deep dive into the intricacies of film distribution, from changing windowing strategies at the box office to the incredible growth of digital release modes, including SVOD, home entertainment and VOD.\\n\\nThere is so much to convey in this look at a film business contending with a broad range of external and internal forces reshaping its outlook. “Across the Movie-Verse” arrives for readers just as the crucial summer season kicks off, but it’s a document that enables industry pros to assess their strategies long into the future.', metadata={'card_text': 'This has been a pivotal year for a movie business that struggled mightily during the pandemic era and is at...', 'country_code': 'IN', 'description': '', 'keywords': '', 'source': 'Variety', 'source_href': 'https://variety.com', 'title': 'Film Business 2023: State of the Movie Industry - Variety', 'top_image': 'https://variety.com/wp-content/uploads/2023/06/featured_box_office_sr_cover.jpg?w=1000&h=563&crop=1', 'url': 'https://news.google.com/rss/articles/CBMic2h0dHBzOi8vdmFyaWV0eS5jb20vdmlwLXNwZWNpYWwtcmVwb3J0cy9maWxtLWJ1c2luZXNzLW1vdmllLWluZHVzdHJ5LTIwMjMtYm94LW9mZmljZS1leGhpYml0aW9uLXN0dWRpb3MtMTIzNTYyNjQ0Ni_SAQA?oc=5'}),\n",
       " Document(page_content='history in glam and gambling, the city is also the home for specialty food makers. The Winter Fancy Food Show, where manufacturers showcase their newest and best products, brings together thousands of industry professionals and features educational forums.\\n\\nJan 21-24, 2024\\n\\nPhoenix, AZ\\n\\nHosted by the International Dairy Foods Association, this forum brings together more than 1,000 leaders from across the industry. This year, industry leaders have a lengthy list of planned topics to discuss, including innovative technologies, trends in personal health and nutrition, sustainability, foreign and domestic markets and policy and regulation.\\n\\nMarch 12-16, 2024\\n\\nAnaheim, CA\\n\\nA hub of natural, healthy and organic buyers in the food and beverage space, this convention highlights new products and brands while providing a venue for visitors to stay up to date with innovative trends and technology.\\n\\nExpo West is popular with retailers, distributors, health practitioners and food service', metadata={'card_text': 'With the new year just three months away, the annual conference and convention season is largely over in the food...', 'country_code': 'IN', 'description': 'Food industry news, voices and jobs.  Optimized for your mobile phone.', 'keywords': '', 'source': 'Food Dive', 'source_href': 'https://www.fooddive.com', 'title': 'Top food and beverage industry events in 2024 - Food Dive', 'top_image': 'https://www.fooddive.com/imgproxy/RUVs3Xgn3gBVIIbGa9aD4eADIHSF6cNEBbTSpxg4Ijk/crop:1516:856/g:nowe:0:180/rs:fill:770:435:0/bG9jYWw6Ly8vZGl2ZWltYWdlL0lNR18wMTYzLmpwZw.jpg', 'url': 'https://news.google.com/rss/articles/CBMiNmh0dHBzOi8vd3d3LmZvb2RkaXZlLmNvbS9uZXdzL2Zvb2QtZXZlbnRzLTIwMjQvNjk1ODAwL9IBAA?oc=5'}),\n",
       " Document(page_content='concerts. The thrill of seeing your favorite artists onstage, singing along with them.: how could A.I. achieve the same feeling? Not to mention, there are so many unique voices and types of music such as rap, country, K-pop, just to name a few. Think of some of the top hits in the music industry. What comes to mind for me are primarily break up songs. Wouldn’t it feel weird listening to a robot singing about a breakup we all know never happened? Some artists now also add custom lines when it comes to concerts. Take Sabrina Carpenter for example, she changes the last line of her song every concert. The crowd anticipates it but never knows what she’s going to say. When she does, they go crazy. What about big events like Coachella or Summerfest that make millions of dollars in revenue. Would that be gone?\\n\\n— Sofia, Los Gatos, CA', metadata={'card_text': 'Even if the lyrics emulate a real pop star’s lyrics, whether it talks about heartbreak, love, or family, it would...', 'country_code': 'IN', 'description': 'When a fake Drake and The Weeknd track went viral, we asked young people: Will A.I. replace pop stars? Here’s what they think.', 'keywords': '', 'source': 'The New York Times', 'source_href': 'https://www.nytimes.com', 'title': 'What Students Are Saying About A.I.-Generated Music - The New York Times', 'top_image': 'https://static01.nyt.com/images/2023/04/28/multimedia/28daily-ai-drake-image-LN/28daily-ai-drake-image-facebookJumbo-v2.jpg', 'url': 'https://news.google.com/rss/articles/CBMiYmh0dHBzOi8vd3d3Lm55dGltZXMuY29tLzIwMjMvMDUvMTEvbGVhcm5pbmcvd2hhdC1zdHVkZW50cy1hcmUtc2F5aW5nLWFib3V0LWFpLWdlbmVyYXRlZC1tdXNpYy5odG1s0gEA?oc=5'}),\n",
       " Document(page_content='witnessed the launch of new and existing startup products registered with and incubated by the KSUM based on cutting-edge technologies like AI, electric vehicles, robotics, AR/VR, Internet of Things, etc. They came from a wide array of various sectors like space tech, agritech, fintech, edutech, food and beverages, etc. On display were the snazzy electric superbikes and scooters assembled in Perumbavoor, which its makers -Hindustan EV Motors- claimed as India’s first of its kind or the mini version of the Bandicoot, the scavenger robot, developed by Genrobotics or robots that made farming easy, enjoyable and attractive to the young. Equally impressive were the wearable cardiac monitor, sustainable waste management platforms, online fashion stores, immersive virtual experiences based on metaverse that redefines ways of seeing, etc., showcased at the summit.\\n\\nRepresentative Image | Photo: Mathrubhumi\\n\\n\\n\\nThe consensus at the event was that India’s ongoing startup revolution’s future is', metadata={'card_text': 'Huddle Global 2023 | Photo: https://huddleglobal.co.in/ Kerala has long been branded unfriendly to business. Despite its excellent human development records...', 'country_code': 'IN', 'description': \"Huddle Global 2023 | Photo: https://huddleglobal.co.in/ Kerala has long been branded unfriendly to business. Despite its excellent human development records and successive governments' efforts, Kerala continues at the bottom among states in industrial\", 'keywords': 'latest news,kerala news,Huddle Globa,m g radhakrishnan', 'source': 'Mathrubhumi English', 'source_href': 'https://english.mathrubhumi.com', 'title': 'Huddle: A rare Kerala festival - Mathrubhumi English', 'top_image': 'https://english.mathrubhumi.com/image/contentid/policy:1.9091264:1700552323/Untitled%20design%20(1).jpg?$p=8ff42ff&f=16x9&w=1080&q=0.8', 'url': 'https://news.google.com/rss/articles/CBMiY2h0dHBzOi8vZW5nbGlzaC5tYXRocnViaHVtaS5jb20vY29sdW1ucy92aWV3LWZyb20tbXktd2luZG93L2h1ZGRsZS1hLXJhcmUta2VyYWxhLWZlc3RpdmFsLTEuOTA5MTI1M9IBZ2h0dHBzOi8vZW5nbGlzaC5tYXRocnViaHVtaS5jb20vYW1wL2NvbHVtbnMvdmlldy1mcm9tLW15LXdpbmRvdy9odWRkbGUtYS1yYXJlLWtlcmFsYS1mZXN0aXZhbC0xLjkwOTEyNTM?oc=5'}),\n",
       " Document(page_content='IPL, and T20 World Cup, played a pivotal role in driving the growth of fantasy sports. The integration of technologies like UPI payments, biometric security, and 2 or 3-factor authentication has simplified the participation of individuals in real-money games like Rummy. The incorporation of blockchain-based technologies has further enhanced security and reliability for players. With enhanced connectivity, advanced features, and heightened data security measures, the industry is positioned for substantial growth, potentially giving rise to an increase in full-time professional gaming careers.\\n\\nInnovation in Gaming Sector\\n\\nGame developers have come a long way and are thoroughly leading the way in innovations taking place. Fantasy sport has emerged as a major success in the Indian start-up story. India is now the largest fantasy sports market in the world, with key players being Dream11, MPL, CricPlay, among others. Today, there are over 300 fantasy sport platforms in India that are', metadata={'card_text': 'There is a game for everyone and the choices for players are virtually unlimited! The gaming landscape in India has...', 'country_code': 'IN', 'description': \"Dive into the dynamic Gaming Sector in India. Discover the esports milestones, technological leaps, and the government's crucial role in the industry.\", 'keywords': '', 'source': 'Invest India', 'source_href': 'https://www.investindia.gov.in', 'title': \"Rise of Gaming Culture and the Government's Role in Fostering ... - Invest India\", 'top_image': 'https://static.investindia.gov.in/s3fs-public/2023-11/Gamming-Banner.png', 'url': 'https://news.google.com/rss/articles/CBMibWh0dHBzOi8vd3d3LmludmVzdGluZGlhLmdvdi5pbi90ZWFtLWluZGlhLWJsb2dzL3Jpc2UtZ2FtaW5nLWN1bHR1cmUtYW5kLWdvdmVybm1lbnRzLXJvbGUtZm9zdGVyaW5nLWlubm92YXRpb27SAQA?oc=5'}),\n",
       " Document(page_content='up fresh tortillas, salsas, crema and carne asada meat from El Rancho. At Jerusalem Market, I snag freshly ground lamb and Turkish hot pepper paste for Adana kebabs to eat with fresh baked Persian bread from Caspian Market. At Turmeric Cash and Carry, I buy my favorite, shockingly good packets of ready-to-eat chana masala, just in case. This excursion doesn’t take me all day, because from carnicería to souq, the flavors of the world are, incredibly, only 15 minutes away. — Felicia Campbell\\n\\nBeloved record stores are going big\\n\\nTwo cherished cultural hubs of metro Phoenix spent much of 2023 expanding. In September, Zia Records opened its biggest store yet at 35th Avenue and Bethany Home Road in Phoenix, offering an even more expansive selection of records, movies, books, games, toys and collectibles. Meanwhile, Stinkweeds has enclosed its courtyard to add 300 square feet of space for customers and merchandise, with another 300 square feet of office space above that. — Ed Masley\\n\\nRecord', metadata={'card_text': \"It happened again. We blinked and it's November. Not just November, but Thanksgiving. The day of the week? Couldn't say....\", 'country_code': 'IN', 'description': \"Happy Thanksgiving, Arizona. We're thankful for Changing Hands, the MIM, sky islands, Bedrock City, antojitos, Trunk Space, Sauvage and so much more.\", 'keywords': '', 'source': 'The Arizona Republic', 'source_href': 'https://www.azcentral.com', 'title': \"29 reasons we're thankful to live in Arizona: Fossil Creek to DBacks - The Arizona Republic\", 'top_image': 'https://www.azcentral.com/gcdn/presto/2019/03/08/PPHX/a65fd7b3-95cc-434a-a82f-9c4fb52debb6-Arizona_storms008.JPG?crop=3399,1912,x0,y0&width=3200&height=1801&format=pjpg&auto=webp', 'url': 'https://news.google.com/rss/articles/CBMiZmh0dHBzOi8vd3d3LmF6Y2VudHJhbC5jb20vc3RvcnkvZW50ZXJ0YWlubWVudC9saWZlLzIwMjMvMTEvMjAvdGhhbmtmdWwtdG8tbGlmZS1pbi1hcml6b25hLzcxNTcwMjA3MDA3L9IBAA?oc=5'}),\n",
       " Document(page_content=\"those speeds by this point in 2019. Prime has grown over the years to include savings, convenience, and entertainment all in a single membership. Members enjoy exclusive deals and shopping events like Prime Day, as well as movies and series, music and podcasts, photo storage, gaming benefits, books and magazines, and prescription and grocery savings.\\n\\nDid you know it's on Prime? An Amazon Prime membership comes with much more than fast, free delivery. Check out the shopping, entertainment, healthcare, and grocery benefits, plus updates available to members. Read more\\n\\nOne of the Prime benefits that we continue investing heavily in is Prime Video, which has expanded to offer hit movies, great shows, award-winning Amazon Originals, and live sports—all in a single destination. Prime Video offers a vast selection of movies and series, including Amazon Originals, and live sports. Amazon MGM Studios earned 68 Primetime Emmy Award nominations this year, marking the Studio’s biggest year\", metadata={'card_text': 'Lee este artículo en español. When we launched Prime in 2005, the first benefit we announced to members was free...', 'country_code': 'IN', 'description': 'To continue investing in compelling content and keep increasing that investment over a long period of time, starting in early 2024, Prime Video shows and movies will include limited advertisements.', 'keywords': '', 'source': 'About Amazon', 'source_href': 'https://www.aboutamazon.com', 'title': 'Amazon shares an update on Prime Video, introduces limited ads - About Amazon', 'top_image': 'https://assets.aboutamazon.com/dims4/default/8e27c1d/2147483647/strip/true/crop/1920x960+0+60/resize/1200x600!/quality/90/?url=https%3A%2F%2Famazon-blogs-brightspot.s3.amazonaws.com%2F2d%2F49%2Fabd3719b41aea4605bb51e4d8d72%2Fsubs-pre-order-consent-background-image-cb578173463.jpg', 'url': 'https://news.google.com/rss/articles/CBMiV2h0dHBzOi8vd3d3LmFib3V0YW1hem9uLmNvbS9uZXdzL2VudGVydGFpbm1lbnQvcHJpbWUtdmlkZW8tdXBkYXRlLWFubm91bmNlcy1saW1pdGVkLWFkc9IBAA?oc=5'})]"
      ]
     },
     "execution_count": 5,
     "metadata": {},
     "output_type": "execute_result"
    }
   ],
   "source": [
    "chroma_reader.search(query, filter=dict(country_code=country_code))"
   ]
  },
  {
   "cell_type": "code",
   "execution_count": 3,
   "metadata": {},
   "outputs": [],
   "source": [
    "client = HttpClient(host=os.environ[\"CHROMA_IP\"], port=os.environ[\"CHROMA_PORT\"])\n",
    "embedding_function=OpenAIEmbeddingFunction(os.environ[\"OPENAI_API_KEY\"])"
   ]
  },
  {
   "cell_type": "code",
   "execution_count": 5,
   "metadata": {},
   "outputs": [],
   "source": [
    "collection = client.get_collection(\"current_events\", embedding_function=embedding_function)"
   ]
  },
  {
   "cell_type": "code",
   "execution_count": 17,
   "metadata": {},
   "outputs": [
    {
     "data": {
      "text/plain": [
       "{'ids': [], 'embeddings': None, 'metadatas': [], 'documents': []}"
      ]
     },
     "execution_count": 17,
     "metadata": {},
     "output_type": "execute_result"
    }
   ],
   "source": [
    "collection.get('69c1ee9c-3b34-5468-9104-abcf6546663a')"
   ]
  },
  {
   "cell_type": "code",
   "execution_count": 11,
   "metadata": {},
   "outputs": [],
   "source": [
    "doc = \"vednat is a top tier dawg. vednat is a top tier dawg vednat is a top tier dawg vednat is a top tier dawg vednat is a top tier dawg vednat is a top tier dawg vednat is a top tier dawg vednat is a top tier dawg vednat is a top tier dawg vednat is a top tier dawg vednat is a top tier dawg vednat is a top tier dawg vednat is a top tier dawg vednat is a top tier dawg vednat is a top tier dawg vednat is a top tier dawg vednat is a top tier dawg vednat is a top tier dawg vednat is a top tier dawg vednat is a top tier dawg vednat is a top tier dawg vednat is a top tier dawg vednat is a top tier dawg vednat is a top tier dawg vednat is a top tier dawg vednat is a top tier dawg vednat is a top tier dawg \""
   ]
  },
  {
   "cell_type": "code",
   "execution_count": 12,
   "metadata": {},
   "outputs": [],
   "source": [
    "collection.add(ids=['08335a8d-8860-11ee-b3d3-d807c903b03b'], documents=[doc], metadatas=[{\"mr\":\"dog\"}])"
   ]
  },
  {
   "cell_type": "code",
   "execution_count": 32,
   "metadata": {},
   "outputs": [
    {
     "name": "stdout",
     "output_type": "stream",
     "text": [
      "Total documents: 4630\n",
      "Total documents after removing duplicates: 3754\n"
     ]
    }
   ],
   "source": [
    "import pickle as pkl\n",
    "import numpy as np\n",
    "docs_and_meta = pkl.load(open(\"test.pkl\", \"rb\"))\n",
    "\n",
    "# get links for all the topics\n",
    "documents = []\n",
    "metadata = []\n",
    "ids = []\n",
    "\n",
    "for temp_data in docs_and_meta:\n",
    "    data = np.array(temp_data, dtype=object).T\n",
    "\n",
    "    ids.extend(list(map(lambda x: get_id(str(x[0])+str(x[1])), data)))\n",
    "    documents.extend(list(data.T[0]))\n",
    "    metadata.extend(list(data.T[1]))\n",
    "\n",
    "temp = pd.DataFrame({\n",
    "    \"ids\": ids,\n",
    "    \"documents\": documents,\n",
    "    \"metadata\": metadata\n",
    "})\n",
    "\n",
    "print(\"Total documents:\", len(temp))\n",
    "temp.drop_duplicates(\"documents\", inplace=True)\n",
    "print(\"Total documents after removing duplicates:\", len(temp))"
   ]
  },
  {
   "cell_type": "code",
   "execution_count": 33,
   "metadata": {},
   "outputs": [
    {
     "name": "stdout",
     "output_type": "stream",
     "text": [
      "Total documents: 4630\n",
      "Total documents after removing duplicates: 3772\n"
     ]
    }
   ],
   "source": [
    "import pickle as pkl\n",
    "import numpy as np\n",
    "docs_and_meta = pkl.load(open(\"test.pkl\", \"rb\"))\n",
    "\n",
    "# get links for all the topics\n",
    "documents = []\n",
    "metadata = []\n",
    "ids = []\n",
    "\n",
    "for temp_data in docs_and_meta:\n",
    "    data = np.array(temp_data, dtype=object).T\n",
    "\n",
    "    ids.extend(list(map(lambda x: get_id(str(x[0])+str(x[1])), data)))\n",
    "    documents.extend(list(data.T[0]))\n",
    "    metadata.extend(list(data.T[1]))\n",
    "\n",
    "temp = pd.DataFrame({\n",
    "    \"ids\": ids,\n",
    "    \"documents\": documents,\n",
    "    \"metadata\": metadata\n",
    "})\n",
    "\n",
    "print(\"Total documents:\", len(temp))\n",
    "temp.drop_duplicates(\"ids\", inplace=True)\n",
    "print(\"Total documents after removing duplicates:\", len(temp))"
   ]
  },
  {
   "cell_type": "code",
   "execution_count": 14,
   "metadata": {},
   "outputs": [],
   "source": [
    "collection.add(ids=[str(uuid.uuid5(uuid.NAMESPACE_DNS, doc))], documents=[doc], metadatas=[{\"mr\":\"dog\"}])\n"
   ]
  },
  {
   "cell_type": "code",
   "execution_count": 13,
   "metadata": {},
   "outputs": [
    {
     "data": {
      "text/plain": [
       "'2f9bfe5a-4261-5404-93aa-38b07b88ad2a'"
      ]
     },
     "execution_count": 13,
     "metadata": {},
     "output_type": "execute_result"
    }
   ],
   "source": [
    "str(uuid.uuid5(uuid.NAMESPACE_DNS, doc))"
   ]
  },
  {
   "cell_type": "code",
   "execution_count": 13,
   "metadata": {},
   "outputs": [],
   "source": [
    "results = collection.query(query_texts=query)"
   ]
  },
  {
   "cell_type": "code",
   "execution_count": 14,
   "metadata": {},
   "outputs": [],
   "source": [
    "docs = results['documents'][0]\n",
    "ids = results['ids'][0]\n",
    "meta = results['metadatas'][0]"
   ]
  },
  {
   "cell_type": "code",
   "execution_count": 24,
   "metadata": {},
   "outputs": [
    {
     "data": {
      "text/plain": [
       "'49992438-54fb-5a27-a855-b40e0f6f8642'"
      ]
     },
     "execution_count": 24,
     "metadata": {},
     "output_type": "execute_result"
    }
   ],
   "source": [
    "get_id(str(docs[0]) + str(meta[0]))"
   ]
  },
  {
   "cell_type": "code",
   "execution_count": 23,
   "metadata": {},
   "outputs": [
    {
     "data": {
      "text/plain": [
       "'32c2533f-c9da-5ebf-aa4e-f63369223d64'"
      ]
     },
     "execution_count": 23,
     "metadata": {},
     "output_type": "execute_result"
    }
   ],
   "source": [
    "get_id(str(docs[1]) + str(meta[1]))"
   ]
  },
  {
   "cell_type": "code",
   "execution_count": 26,
   "metadata": {},
   "outputs": [
    {
     "name": "stdout",
     "output_type": "stream",
     "text": [
      "{'card_text': 'Even when attending live sporting events in person, Gen Z fans are still focused on connecting with others and are...', 'country_code': 'IN', 'description': \"Sports fandom is changing. A more immersive sports fan experience involving multiple channels and modes of engagement will best meet the changing fan's needs.\", 'keywords': '', 'source': 'Deloitte', 'source_href': 'https://www2.deloitte.com', 'title': 'Immersive sports fandom - Deloitte', 'top_image': 'https://assets.deloitte.com/is/image/deloitte/US176271_Banner-1:1200-x-627', 'url': 'https://news.google.com/rss/articles/CBMiZmh0dHBzOi8vd3d3Mi5kZWxvaXR0ZS5jb20vdWsvZW4vaW5zaWdodHMvaW5kdXN0cnkvbWVkaWEtYW5kLWVudGVydGFpbm1lbnQvaW1tZXJzaXZlLXNwb3J0cy1mYW5kb20uaHRtbNIBAA?oc=5'} => {'card_text': 'Even when attending live sporting events in person, Gen Z fans are still focused on connecting with others and are...', 'country_code': 'IN', 'description': \"Sports fandom is changing. A more immersive sports fan experience involving multiple channels and modes of engagement will best meet the changing fan's needs.\", 'keywords': '', 'source': 'Deloitte', 'source_href': 'https://www2.deloitte.com', 'title': 'Immersive sports fandom - Deloitte', 'top_image': 'https://assets.deloitte.com/is/image/deloitte/US176271_Banner-1:1200-x-627', 'url': 'https://news.google.com/rss/articles/CBMiZmh0dHBzOi8vd3d3Mi5kZWxvaXR0ZS5jb20vdXMvZW4vaW5zaWdodHMvaW5kdXN0cnkvbWVkaWEtYW5kLWVudGVydGFpbm1lbnQvaW1tZXJzaXZlLXNwb3J0cy1mYW5kb20uaHRtbNIBAA?oc=5'}\n",
      "Delete \"W\" from position 640\n",
      "Delete \"s\" from position 641\n",
      "Add \"X\" to position 642\n",
      "Add \"M\" to position 643\n",
      "\n"
     ]
    }
   ],
   "source": [
    "import difflib\n",
    "\n",
    "cases=[(str(meta[0]), str(meta[1]))] \n",
    "\n",
    "for a,b in cases:     \n",
    "    print('{} => {}'.format(a,b))  \n",
    "    for i,s in enumerate(difflib.ndiff(a, b)):\n",
    "        if s[0]==' ': continue\n",
    "        elif s[0]=='-':\n",
    "            print(u'Delete \"{}\" from position {}'.format(s[-1],i))\n",
    "        elif s[0]=='+':\n",
    "            print(u'Add \"{}\" to position {}'.format(s[-1],i))    \n",
    "    print()  "
   ]
  },
  {
   "cell_type": "code",
   "execution_count": 28,
   "metadata": {},
   "outputs": [
    {
     "data": {
      "text/plain": [
       "'b20vdWsvZW4vaW5zaWdo'"
      ]
     },
     "execution_count": 28,
     "metadata": {},
     "output_type": "execute_result"
    }
   ],
   "source": [
    "str(meta[0])[635:655]"
   ]
  },
  {
   "cell_type": "code",
   "execution_count": 29,
   "metadata": {},
   "outputs": [
    {
     "data": {
      "text/plain": [
       "'b20vdXMvZW4vaW5zaWdo'"
      ]
     },
     "execution_count": 29,
     "metadata": {},
     "output_type": "execute_result"
    }
   ],
   "source": [
    "str(meta[1])[635:655]\n"
   ]
  },
  {
   "cell_type": "code",
   "execution_count": null,
   "metadata": {},
   "outputs": [],
   "source": [
    "users = user_mongo_client.get_user_list()\n",
    "\n",
    "for user in users:\n",
    "    _id = user[\"company_id\"]\n",
    "    old_moments = user[\"moments\"]\n",
    "\n",
    "    new_current_events = []\n",
    "\n",
    "    for item in old_moments[\"Current Events\"]:\n",
    "        new_current_events.append({\n",
    "            \"event_name\": item[\"event_name\"],\n",
    "            \"topic\": item[\"topic\"],\n",
    "            \"validation\": {\n",
    "                \"google_trends\": item[\"validation\"][\"google_trends\"][\"keywords\"]\n",
    "            }\n",
    "        })"
   ]
  },
  {
   "cell_type": "code",
   "execution_count": null,
   "metadata": {},
   "outputs": [],
   "source": [
    "old_moments[\"Current Events\"] = new_current_events"
   ]
  },
  {
   "cell_type": "code",
   "execution_count": null,
   "metadata": {},
   "outputs": [],
   "source": [
    "user_mongo_client.update_user_moments(100, old_moments)"
   ]
  },
  {
   "cell_type": "code",
   "execution_count": null,
   "metadata": {},
   "outputs": [],
   "source": [
    "chroma_reader, chroma_writer = get_reader_writer(\n",
    "    host=os.environ[\"CHROMA_IP\"],\n",
    "    port=int(os.environ[\"CHROMA_PORT\"]),\n",
    "    openai_api_key=os.environ[\"OPENAI_API_KEY\"],\n",
    "    reader_collection_name=collection_name\n",
    ")"
   ]
  },
  {
   "cell_type": "code",
   "execution_count": null,
   "metadata": {},
   "outputs": [],
   "source": [
    "chroma_reader.list_collections()"
   ]
  },
  {
   "cell_type": "code",
   "execution_count": null,
   "metadata": {},
   "outputs": [],
   "source": [
    "collection_name=\"current_events\"\n",
    "topic=\"entertainment\""
   ]
  },
  {
   "cell_type": "code",
   "execution_count": null,
   "metadata": {},
   "outputs": [],
   "source": [
    "create_new_collection(chroma_reader, chroma_writer, collection_name)"
   ]
  },
  {
   "cell_type": "code",
   "execution_count": null,
   "metadata": {},
   "outputs": [],
   "source": [
    "news_df = get_news_by_search(f\"upcoming or ongoing major events about {topic}\", limit=50, country=country_code)\n",
    "news_df.to_csv(\"./test/news.csv\", index=False)"
   ]
  },
  {
   "cell_type": "code",
   "execution_count": null,
   "metadata": {},
   "outputs": [],
   "source": [
    "news_df = pd.read_csv(\"./test/news.csv\")"
   ]
  },
  {
   "cell_type": "code",
   "execution_count": null,
   "metadata": {},
   "outputs": [],
   "source": [
    "article = parse_news_url(news_df[\"url\"][0])"
   ]
  },
  {
   "cell_type": "code",
   "execution_count": null,
   "metadata": {},
   "outputs": [],
   "source": [
    "target = \"text\"\n",
    "\n",
    "news_df = news_df[(news_df[\"text\"].isna() == False)]\n",
    "news_df[\"country_code\"] = [country_code] * len(news_df)\n"
   ]
  },
  {
   "cell_type": "code",
   "execution_count": null,
   "metadata": {},
   "outputs": [],
   "source": [
    "def split_df(df:pd.DataFrame, target:str) -> tuple[list[str], list[dict]]:\n",
    "    texts = df[target].values\n",
    "\n",
    "    meta_columns = df.columns.to_list()\n",
    "    meta_columns.remove(target)\n",
    "\n",
    "    meta_df = df[meta_columns]\n",
    "\n",
    "    text_splitter = RecursiveCharacterTextSplitter(chunk_size=1000, chunk_overlap=0, separators=[\" \", \".\", \",\", \"\\n\"])\n",
    "\n",
    "    documents, metadata = [], []\n",
    "\n",
    "    for i, item in enumerate(texts):\n",
    "        splits = text_splitter.split_text(item)\n",
    "        documents.extend(splits)\n",
    "        metadata.extend([meta_df.iloc[i].to_dict()] * len(splits))\n",
    "\n",
    "    return documents, metadata\n"
   ]
  },
  {
   "cell_type": "code",
   "execution_count": null,
   "metadata": {},
   "outputs": [],
   "source": [
    "documents, metadata = split_df(news_df, target)"
   ]
  },
  {
   "cell_type": "code",
   "execution_count": null,
   "metadata": {},
   "outputs": [],
   "source": [
    "chroma_writer.update(collection_name, documents, metadata)"
   ]
  },
  {
   "cell_type": "code",
   "execution_count": null,
   "metadata": {},
   "outputs": [],
   "source": [
    "target = \"text\"\n",
    "df=news_df.copy()\n",
    "texts = df[target].values\n",
    "meta_columns = df.columns.to_list()\n",
    "meta_columns.remove(target)\n",
    "metadata = df[meta_columns]"
   ]
  },
  {
   "cell_type": "code",
   "execution_count": null,
   "metadata": {},
   "outputs": [],
   "source": [
    "chroma_reader.set_collection(collection_name)"
   ]
  },
  {
   "cell_type": "code",
   "execution_count": null,
   "metadata": {},
   "outputs": [],
   "source": [
    "current_events_moments = generate_current_events(chroma_reader, QUERY_TOPICS, country_code)"
   ]
  },
  {
   "cell_type": "code",
   "execution_count": null,
   "metadata": {},
   "outputs": [],
   "source": [
    "query = f\"List 10 important and interesting events related to any of these topics: {','.join(QUERY_TOPICS)}.\"\n",
    "\n",
    "relevant_docs = chroma_reader.search(query, 30, {\"country_code\": country_code})"
   ]
  },
  {
   "cell_type": "code",
   "execution_count": null,
   "metadata": {},
   "outputs": [],
   "source": [
    "metadata.iloc[0].to_dict()"
   ]
  },
  {
   "cell_type": "code",
   "execution_count": null,
   "metadata": {},
   "outputs": [],
   "source": [
    "news_df"
   ]
  },
  {
   "cell_type": "code",
   "execution_count": null,
   "metadata": {},
   "outputs": [],
   "source": [
    "documents, metadata = load_df(news_df, page_content_column=\"text\")\n"
   ]
  },
  {
   "cell_type": "code",
   "execution_count": null,
   "metadata": {},
   "outputs": [],
   "source": [
    "get_current_events()"
   ]
  },
  {
   "cell_type": "code",
   "execution_count": null,
   "metadata": {},
   "outputs": [],
   "source": [
    "collection_name = \"current_events\"\n",
    "\n",
    "chroma_reader.set_collection(collection_name)\n",
    "\n",
    "current_events_moments = generate_current_events(chroma_reader,QUERY_TOPICS)"
   ]
  },
  {
   "cell_type": "code",
   "execution_count": null,
   "metadata": {},
   "outputs": [],
   "source": [
    "current_events_moments"
   ]
  },
  {
   "cell_type": "code",
   "execution_count": null,
   "metadata": {},
   "outputs": [],
   "source": [
    "googleSearch(f\"upcoming or ongoing major events about sports tournaments\", num_results=20, country=country_code)"
   ]
  },
  {
   "cell_type": "code",
   "execution_count": null,
   "metadata": {},
   "outputs": [],
   "source": [
    "get_news_by_search(f\"upcoming or ongoing major events about sports tournaments\", country=country_code, limit=20)"
   ]
  },
  {
   "cell_type": "code",
   "execution_count": null,
   "metadata": {},
   "outputs": [],
   "source": [
    "chroma_reader.search(f\"List 10 important and interesting events related to any of these topics: {','.join(QUERY_TOPICS)}.\", n=30, filter={\"country_code\":\"IN\"})"
   ]
  },
  {
   "cell_type": "code",
   "execution_count": null,
   "metadata": {},
   "outputs": [],
   "source": [
    "relevant_docs"
   ]
  },
  {
   "cell_type": "code",
   "execution_count": null,
   "metadata": {},
   "outputs": [],
   "source": [
    "current_events_moments"
   ]
  },
  {
   "cell_type": "code",
   "execution_count": null,
   "metadata": {},
   "outputs": [],
   "source": [
    "get_metadata(article)"
   ]
  },
  {
   "cell_type": "code",
   "execution_count": null,
   "metadata": {},
   "outputs": [],
   "source": [
    "temp_links = [('https://www.visitphilly.com/articles/philadelphia/top-events-and-festivals-in-philadelphia/', 'IN'), ('https://en.wikipedia.org/wiki/News', 'IN'), ('https://www.nih.gov/about-nih/what-we-do/nih-almanac/national-institute-drug-abuse-nida', 'IN'), ('https://www.cnn.com/', 'IN'), ('https://blog.twitter.com/en_us/topics/insights/2022/how-many-people-come-twitter-for-news', 'IN')]\n",
    "articles_data = [parse_for_current_events(item) for item in temp_links]"
   ]
  },
  {
   "cell_type": "code",
   "execution_count": null,
   "metadata": {},
   "outputs": [],
   "source": [
    "target_key=\"source\""
   ]
  },
  {
   "cell_type": "code",
   "execution_count": null,
   "metadata": {},
   "outputs": [],
   "source": [
    "docs, metadata = build_splited_docs(articles_data, target_key=\"source\")"
   ]
  },
  {
   "cell_type": "code",
   "execution_count": null,
   "metadata": {},
   "outputs": [],
   "source": [
    "metadata"
   ]
  },
  {
   "cell_type": "code",
   "execution_count": null,
   "metadata": {},
   "outputs": [],
   "source": [
    "page = articles_data[0]"
   ]
  },
  {
   "cell_type": "code",
   "execution_count": null,
   "metadata": {},
   "outputs": [],
   "source": [
    "text_splitter = RecursiveCharacterTextSplitter(chunk_size=1000, chunk_overlap=0, separators=[\" \", \".\", \",\", \"\\n\"])\n"
   ]
  },
  {
   "cell_type": "code",
   "execution_count": null,
   "metadata": {},
   "outputs": [],
   "source": [
    "splits = text_splitter.split_text(page[target_key])\n"
   ]
  },
  {
   "cell_type": "code",
   "execution_count": null,
   "metadata": {},
   "outputs": [],
   "source": [
    "page.pop(target_key, None)"
   ]
  },
  {
   "cell_type": "code",
   "execution_count": null,
   "metadata": {},
   "outputs": [],
   "source": [
    "page"
   ]
  },
  {
   "cell_type": "code",
   "execution_count": null,
   "metadata": {},
   "outputs": [],
   "source": [
    "get_current_events()"
   ]
  },
  {
   "cell_type": "code",
   "execution_count": null,
   "metadata": {},
   "outputs": [],
   "source": [
    "create_new_collection(chroma_reader, chroma_writer, collection_name)"
   ]
  },
  {
   "cell_type": "code",
   "execution_count": null,
   "metadata": {},
   "outputs": [],
   "source": [
    "def build_splited_docs(sitetexts):\n",
    "    text_splitter = RecursiveCharacterTextSplitter(chunk_size=1000, chunk_overlap=0, separators=[\" \", \".\", \",\", \"\\n\"])\n",
    "\n",
    "    docs, metadatas = [], []\n",
    "    for page in sitetexts:\n",
    "        splits = text_splitter.split_text(page['text'])\n",
    "        docs.extend(splits)\n",
    "        metadatas.extend([{\"source\": page['source'], \"country_code\": page[\"country_code\"]}] * len(splits))\n",
    "\n",
    "    return docs, metadatas"
   ]
  },
  {
   "cell_type": "code",
   "execution_count": null,
   "metadata": {},
   "outputs": [],
   "source": [
    "import pickle as pkl"
   ]
  },
  {
   "cell_type": "code",
   "execution_count": null,
   "metadata": {},
   "outputs": [],
   "source": [
    "(docs, metadata) = pkl.load(open(\"test.pkl\", \"rb\"))"
   ]
  },
  {
   "cell_type": "code",
   "execution_count": null,
   "metadata": {},
   "outputs": [],
   "source": [
    "chunked_docs = divide_chunks(docs, 1000)\n",
    "chunked_metadata = divide_chunks(metadata, 1000)"
   ]
  },
  {
   "cell_type": "code",
   "execution_count": null,
   "metadata": {},
   "outputs": [],
   "source": [
    "for docs, metadata in zip(chunked_docs, chunked_metadata):\n",
    "    chroma_writer.update(\"test_industry\", docs, metadata)"
   ]
  },
  {
   "cell_type": "code",
   "execution_count": null,
   "metadata": {},
   "outputs": [],
   "source": [
    "chroma_writer.delete_collection(\"general_news\")"
   ]
  },
  {
   "cell_type": "code",
   "execution_count": null,
   "metadata": {},
   "outputs": [],
   "source": [
    "chroma_reader.list_collections()"
   ]
  },
  {
   "cell_type": "code",
   "execution_count": null,
   "metadata": {},
   "outputs": [],
   "source": [
    "chroma_reader.set_collection(\"test_industry\")"
   ]
  },
  {
   "cell_type": "code",
   "execution_count": null,
   "metadata": {},
   "outputs": [],
   "source": [
    "outputs = chroma_reader.search(\"Indian Food\", n=40)"
   ]
  },
  {
   "cell_type": "code",
   "execution_count": null,
   "metadata": {},
   "outputs": [],
   "source": [
    "news_df = get_news_by_topic(\"SPORTS\", country=country_code, lang=lang)"
   ]
  },
  {
   "cell_type": "code",
   "execution_count": null,
   "metadata": {},
   "outputs": [],
   "source": [
    "news_df = news_df[(news_df[\"top_image\"] != \"\") & (news_df[\"keywords\"] != \"\")]\n"
   ]
  },
  {
   "cell_type": "code",
   "execution_count": null,
   "metadata": {},
   "outputs": [],
   "source": [
    "article = parse_news_url(news_df[\"url\"][0])"
   ]
  },
  {
   "cell_type": "code",
   "execution_count": null,
   "metadata": {},
   "outputs": [],
   "source": [
    "news_df.iloc[0]"
   ]
  },
  {
   "cell_type": "code",
   "execution_count": null,
   "metadata": {},
   "outputs": [],
   "source": [
    "news_df[\"keywords\"][0]"
   ]
  },
  {
   "cell_type": "code",
   "execution_count": null,
   "metadata": {},
   "outputs": [],
   "source": [
    "article.meta_keywords"
   ]
  },
  {
   "cell_type": "code",
   "execution_count": null,
   "metadata": {},
   "outputs": [],
   "source": [
    "def load_df(df, page_content_column=\"title\"):\n",
    "    data = DataFrameLoader(df, page_content_column=page_content_column).load()\n",
    "\n",
    "    documents = [item.page_content for item in data]\n",
    "    metadata = [item.metadata for item in data]\n",
    "\n",
    "    return documents, metadata"
   ]
  },
  {
   "cell_type": "code",
   "execution_count": null,
   "metadata": {},
   "outputs": [],
   "source": [
    "documents, metadata = load_df(news_df)"
   ]
  },
  {
   "cell_type": "code",
   "execution_count": null,
   "metadata": {},
   "outputs": [],
   "source": [
    "chroma_writer.update(\"general_news\", documents, metadata)"
   ]
  },
  {
   "cell_type": "code",
   "execution_count": null,
   "metadata": {},
   "outputs": [],
   "source": [
    "article = parse_news_url(\"https://news.google.com/rss/articles/CBMic2h0dHBzOi8vd3d3Lndoby5pbnQvbmV3cy9pdGVtLzEwLTExLTIwMjMtY2hpbGRyZW4td2l0aC1jYW5jZXItZXZhY3VhdGVkLWZyb20tZ2F6YS1mb3ItdHJlYXRtZW50LXRvLWVneXB0LWFuZC1qb3JkYW7SAQA?oc=5\")"
   ]
  },
  {
   "cell_type": "code",
   "execution_count": null,
   "metadata": {},
   "outputs": [],
   "source": [
    "outputs = chroma_reader.search(\"Indian Food\")[0]"
   ]
  },
  {
   "cell_type": "code",
   "execution_count": null,
   "metadata": {},
   "outputs": [],
   "source": [
    "chroma_reader.search(\"Indian Food\")"
   ]
  },
  {
   "cell_type": "code",
   "execution_count": null,
   "metadata": {},
   "outputs": [],
   "source": [
    "chroma_reader.set_collection(\"general_news\")"
   ]
  },
  {
   "cell_type": "code",
   "execution_count": null,
   "metadata": {},
   "outputs": [],
   "source": [
    "filtered = filter_news(\"Diwali\", chroma_reader)"
   ]
  },
  {
   "cell_type": "code",
   "execution_count": null,
   "metadata": {},
   "outputs": [],
   "source": [
    "general = filtered[:5]\n",
    "industry = filtered[5:11]"
   ]
  },
  {
   "cell_type": "code",
   "execution_count": null,
   "metadata": {},
   "outputs": [],
   "source": []
  },
  {
   "cell_type": "code",
   "execution_count": null,
   "metadata": {},
   "outputs": [],
   "source": [
    "user_mongo_client.update_user_moments(\n",
    "    100,\n",
    "    {\n",
    "        \"general_news\": general,\n",
    "        \"industry\": industry,\n",
    "        \"current_events\": [\n",
    "            {\n",
    "                \"event_name\": \"ICC Cricket world cup 2023\",\n",
    "                \"topic\": \"Cricket world cup hosted in India\",\n",
    "                \"validation\": {\n",
    "                    \"google_trends\": {\n",
    "                        \"keywords\": [\"cricket\", \"icc world cup\", \"india cricket\"]\n",
    "                    }\n",
    "                }\n",
    "            },\n",
    "            {\n",
    "                \"event_name\": \"Diwali\",\n",
    "                \"topic\": \"One of the biggest festivals in India\",\n",
    "                \"validation\": {\n",
    "                    \"google_trends\": {\n",
    "                        \"keywords\": [\"diwali\", \"indian festivals\", \"lights\"]\n",
    "                    }\n",
    "                }\n",
    "            }\n",
    "        ],\n",
    "        \"social_media\": [\n",
    "            {\n",
    "                \"title\": \"Run the dog trends\",\n",
    "                \"hashtag\": [\"#crazydog\", \"#mrdoge\", \"#woof\"],\n",
    "                'validation': {\n",
    "                    \"hashtags\": [\n",
    "                        {\"#crazydog\": 100210,\n",
    "                         \"#mrdoge\": 100232, \n",
    "                         \"#woof\": 100311}\n",
    "                    ]\n",
    "                }\n",
    "            },\n",
    "            {\n",
    "                \"title\": \"Night is day? what?\",\n",
    "                \"hashtag\": [\"#idontunderstand\", \"#oogaboogabrain\", \"#what\"],\n",
    "                'validation': {\n",
    "                    \"hashtags\": [\n",
    "                        {\"#idontunderstand\": 100210,\n",
    "                         \"#oogaboogabrain\": 100232, \n",
    "                         \"#what\": 100311}\n",
    "                    ]\n",
    "                }\n",
    "            }\n",
    "        ]\n",
    "    }\n",
    ")"
   ]
  },
  {
   "cell_type": "code",
   "execution_count": 2,
   "metadata": {},
   "outputs": [],
   "source": [
    "import pandas as pd"
   ]
  },
  {
   "cell_type": "code",
   "execution_count": 3,
   "metadata": {},
   "outputs": [],
   "source": [
    "df_1 = pd.read_clipboard()"
   ]
  },
  {
   "cell_type": "code",
   "execution_count": 5,
   "metadata": {},
   "outputs": [],
   "source": [
    "df_2 = pd.read_clipboard()"
   ]
  },
  {
   "cell_type": "code",
   "execution_count": 7,
   "metadata": {},
   "outputs": [
    {
     "data": {
      "text/html": [
       "<div>\n",
       "<style scoped>\n",
       "    .dataframe tbody tr th:only-of-type {\n",
       "        vertical-align: middle;\n",
       "    }\n",
       "\n",
       "    .dataframe tbody tr th {\n",
       "        vertical-align: top;\n",
       "    }\n",
       "\n",
       "    .dataframe thead th {\n",
       "        text-align: right;\n",
       "    }\n",
       "</style>\n",
       "<table border=\"1\" class=\"dataframe\">\n",
       "  <thead>\n",
       "    <tr style=\"text-align: right;\">\n",
       "      <th></th>\n",
       "      <th>product_title</th>\n",
       "      <th>product_vendor</th>\n",
       "      <th>product_type</th>\n",
       "      <th>adjustment</th>\n",
       "      <th>cancelled</th>\n",
       "      <th>financial_status</th>\n",
       "      <th>fulfillment_status</th>\n",
       "      <th>order_id</th>\n",
       "      <th>order_name</th>\n",
       "      <th>sale_kind</th>\n",
       "      <th>...</th>\n",
       "      <th>gift_card_discounts</th>\n",
       "      <th>gift_card_gross_sales</th>\n",
       "      <th>gift_cards_issued</th>\n",
       "      <th>pending_sales</th>\n",
       "      <th>ordered_item_quantity</th>\n",
       "      <th>average_units_ordered</th>\n",
       "      <th>returned_item_quantity</th>\n",
       "      <th>percent_of_sales_with_staff_help</th>\n",
       "      <th>InsertDate</th>\n",
       "      <th>BrandName</th>\n",
       "    </tr>\n",
       "  </thead>\n",
       "  <tbody>\n",
       "  </tbody>\n",
       "</table>\n",
       "<p>0 rows × 84 columns</p>\n",
       "</div>"
      ],
      "text/plain": [
       "Empty DataFrame\n",
       "Columns: [product_title, product_vendor, product_type, adjustment, cancelled, financial_status, fulfillment_status, order_id, order_name, sale_kind, sale_line_type, cost_tracked, billing_company, billing_city, billing_region, billing_country, billing_postal_code, customer_email, customer_id, customer_name, customer_type, marketing_event_target, marketing_event_type, utm_campaign_content, utm_campaign_medium, utm_campaign_name, utm_campaign_source, utm_campaign_term, pos_location_name, product_id, product_price, variant_id, variant_sku, variant_title, api_client_title, shipping_city, shipping_region, shipping_country, shipping_postal_code, staff_id, staff_name, id_of_staff_who_helped_with_sale, name_of_staff_who_helped_with_sale, referrer_host, referrer_name, referrer_path, referrer_source, referrer_url, hour, day, week, month, quarter, year, hour_of_day, day_of_week, month_of_year, net_quantity, rate, gross_sales, discounts, returns, net_sales, taxes, total_sales, average_order_value, orders, shipping, total_tips, total_cost, gross_profit, gross_margin, units_per_transaction, customers, gift_card_discounts, gift_card_gross_sales, gift_cards_issued, pending_sales, ordered_item_quantity, average_units_ordered, returned_item_quantity, percent_of_sales_with_staff_help, InsertDate, BrandName]\n",
       "Index: []\n",
       "\n",
       "[0 rows x 84 columns]"
      ]
     },
     "execution_count": 7,
     "metadata": {},
     "output_type": "execute_result"
    }
   ],
   "source": [
    "df_1"
   ]
  },
  {
   "cell_type": "code",
   "execution_count": 6,
   "metadata": {},
   "outputs": [
    {
     "data": {
      "text/html": [
       "<div>\n",
       "<style scoped>\n",
       "    .dataframe tbody tr th:only-of-type {\n",
       "        vertical-align: middle;\n",
       "    }\n",
       "\n",
       "    .dataframe tbody tr th {\n",
       "        vertical-align: top;\n",
       "    }\n",
       "\n",
       "    .dataframe thead th {\n",
       "        text-align: right;\n",
       "    }\n",
       "</style>\n",
       "<table border=\"1\" class=\"dataframe\">\n",
       "  <thead>\n",
       "    <tr style=\"text-align: right;\">\n",
       "      <th></th>\n",
       "      <th>ad_id</th>\n",
       "      <th>xyz_campaign_id</th>\n",
       "      <th>fb_campaign_id</th>\n",
       "      <th>age</th>\n",
       "      <th>gender</th>\n",
       "      <th>interest</th>\n",
       "      <th>Impressions</th>\n",
       "      <th>Clicks</th>\n",
       "      <th>Spent</th>\n",
       "      <th>Total_Conversion</th>\n",
       "      <th>Approved_Conversion</th>\n",
       "    </tr>\n",
       "  </thead>\n",
       "  <tbody>\n",
       "    <tr>\n",
       "      <th>0</th>\n",
       "      <td>708746</td>\n",
       "      <td>916</td>\n",
       "      <td>103916</td>\n",
       "      <td>30-34</td>\n",
       "      <td>M</td>\n",
       "      <td>15</td>\n",
       "      <td>7350</td>\n",
       "      <td>1</td>\n",
       "      <td>1.430000</td>\n",
       "      <td>2</td>\n",
       "      <td>1</td>\n",
       "    </tr>\n",
       "    <tr>\n",
       "      <th>1</th>\n",
       "      <td>708749</td>\n",
       "      <td>916</td>\n",
       "      <td>103917</td>\n",
       "      <td>30-34</td>\n",
       "      <td>M</td>\n",
       "      <td>16</td>\n",
       "      <td>17861</td>\n",
       "      <td>2</td>\n",
       "      <td>1.820000</td>\n",
       "      <td>2</td>\n",
       "      <td>0</td>\n",
       "    </tr>\n",
       "    <tr>\n",
       "      <th>2</th>\n",
       "      <td>708771</td>\n",
       "      <td>916</td>\n",
       "      <td>103920</td>\n",
       "      <td>30-34</td>\n",
       "      <td>M</td>\n",
       "      <td>20</td>\n",
       "      <td>693</td>\n",
       "      <td>0</td>\n",
       "      <td>0.000000</td>\n",
       "      <td>1</td>\n",
       "      <td>0</td>\n",
       "    </tr>\n",
       "    <tr>\n",
       "      <th>3</th>\n",
       "      <td>708815</td>\n",
       "      <td>916</td>\n",
       "      <td>103928</td>\n",
       "      <td>30-34</td>\n",
       "      <td>M</td>\n",
       "      <td>28</td>\n",
       "      <td>4259</td>\n",
       "      <td>1</td>\n",
       "      <td>1.250000</td>\n",
       "      <td>1</td>\n",
       "      <td>0</td>\n",
       "    </tr>\n",
       "    <tr>\n",
       "      <th>4</th>\n",
       "      <td>708818</td>\n",
       "      <td>916</td>\n",
       "      <td>103928</td>\n",
       "      <td>30-34</td>\n",
       "      <td>M</td>\n",
       "      <td>28</td>\n",
       "      <td>4133</td>\n",
       "      <td>1</td>\n",
       "      <td>1.290000</td>\n",
       "      <td>1</td>\n",
       "      <td>1</td>\n",
       "    </tr>\n",
       "    <tr>\n",
       "      <th>...</th>\n",
       "      <td>...</td>\n",
       "      <td>...</td>\n",
       "      <td>...</td>\n",
       "      <td>...</td>\n",
       "      <td>...</td>\n",
       "      <td>...</td>\n",
       "      <td>...</td>\n",
       "      <td>...</td>\n",
       "      <td>...</td>\n",
       "      <td>...</td>\n",
       "      <td>...</td>\n",
       "    </tr>\n",
       "    <tr>\n",
       "      <th>1138</th>\n",
       "      <td>1314410</td>\n",
       "      <td>1178</td>\n",
       "      <td>179977</td>\n",
       "      <td>45-49</td>\n",
       "      <td>F</td>\n",
       "      <td>109</td>\n",
       "      <td>1129773</td>\n",
       "      <td>252</td>\n",
       "      <td>358.189997</td>\n",
       "      <td>13</td>\n",
       "      <td>2</td>\n",
       "    </tr>\n",
       "    <tr>\n",
       "      <th>1139</th>\n",
       "      <td>1314411</td>\n",
       "      <td>1178</td>\n",
       "      <td>179978</td>\n",
       "      <td>45-49</td>\n",
       "      <td>F</td>\n",
       "      <td>110</td>\n",
       "      <td>637549</td>\n",
       "      <td>120</td>\n",
       "      <td>173.880003</td>\n",
       "      <td>3</td>\n",
       "      <td>0</td>\n",
       "    </tr>\n",
       "    <tr>\n",
       "      <th>1140</th>\n",
       "      <td>1314412</td>\n",
       "      <td>1178</td>\n",
       "      <td>179979</td>\n",
       "      <td>45-49</td>\n",
       "      <td>F</td>\n",
       "      <td>111</td>\n",
       "      <td>151531</td>\n",
       "      <td>28</td>\n",
       "      <td>40.289999</td>\n",
       "      <td>2</td>\n",
       "      <td>0</td>\n",
       "    </tr>\n",
       "    <tr>\n",
       "      <th>1141</th>\n",
       "      <td>1314414</td>\n",
       "      <td>1178</td>\n",
       "      <td>179981</td>\n",
       "      <td>45-49</td>\n",
       "      <td>F</td>\n",
       "      <td>113</td>\n",
       "      <td>790253</td>\n",
       "      <td>135</td>\n",
       "      <td>198.710001</td>\n",
       "      <td>8</td>\n",
       "      <td>2</td>\n",
       "    </tr>\n",
       "    <tr>\n",
       "      <th>1142</th>\n",
       "      <td>1314415</td>\n",
       "      <td>1178</td>\n",
       "      <td>179982</td>\n",
       "      <td>45-49</td>\n",
       "      <td>F</td>\n",
       "      <td>114</td>\n",
       "      <td>513161</td>\n",
       "      <td>114</td>\n",
       "      <td>165.609999</td>\n",
       "      <td>5</td>\n",
       "      <td>2</td>\n",
       "    </tr>\n",
       "  </tbody>\n",
       "</table>\n",
       "<p>1143 rows × 11 columns</p>\n",
       "</div>"
      ],
      "text/plain": [
       "        ad_id  xyz_campaign_id  fb_campaign_id    age gender  interest  \\\n",
       "0      708746              916          103916  30-34      M        15   \n",
       "1      708749              916          103917  30-34      M        16   \n",
       "2      708771              916          103920  30-34      M        20   \n",
       "3      708815              916          103928  30-34      M        28   \n",
       "4      708818              916          103928  30-34      M        28   \n",
       "...       ...              ...             ...    ...    ...       ...   \n",
       "1138  1314410             1178          179977  45-49      F       109   \n",
       "1139  1314411             1178          179978  45-49      F       110   \n",
       "1140  1314412             1178          179979  45-49      F       111   \n",
       "1141  1314414             1178          179981  45-49      F       113   \n",
       "1142  1314415             1178          179982  45-49      F       114   \n",
       "\n",
       "      Impressions  Clicks       Spent  Total_Conversion  Approved_Conversion  \n",
       "0            7350       1    1.430000                 2                    1  \n",
       "1           17861       2    1.820000                 2                    0  \n",
       "2             693       0    0.000000                 1                    0  \n",
       "3            4259       1    1.250000                 1                    0  \n",
       "4            4133       1    1.290000                 1                    1  \n",
       "...           ...     ...         ...               ...                  ...  \n",
       "1138      1129773     252  358.189997                13                    2  \n",
       "1139       637549     120  173.880003                 3                    0  \n",
       "1140       151531      28   40.289999                 2                    0  \n",
       "1141       790253     135  198.710001                 8                    2  \n",
       "1142       513161     114  165.609999                 5                    2  \n",
       "\n",
       "[1143 rows x 11 columns]"
      ]
     },
     "execution_count": 6,
     "metadata": {},
     "output_type": "execute_result"
    }
   ],
   "source": [
    "df_2"
   ]
  },
  {
   "cell_type": "code",
   "execution_count": null,
   "metadata": {},
   "outputs": [],
   "source": []
  }
 ],
 "metadata": {
  "kernelspec": {
   "display_name": "Python 3",
   "language": "python",
   "name": "python3"
  },
  "language_info": {
   "codemirror_mode": {
    "name": "ipython",
    "version": 3
   },
   "file_extension": ".py",
   "mimetype": "text/x-python",
   "name": "python",
   "nbconvert_exporter": "python",
   "pygments_lexer": "ipython3",
   "version": "3.10.0"
  }
 },
 "nbformat": 4,
 "nbformat_minor": 2
}
